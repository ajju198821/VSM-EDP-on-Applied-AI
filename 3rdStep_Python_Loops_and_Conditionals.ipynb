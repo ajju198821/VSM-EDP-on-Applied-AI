{
 "cells": [
  {
   "cell_type": "markdown",
   "id": "40bd610c",
   "metadata": {},
   "source": [
    "<big><i>\n",
    "All the Notebooks in this lecture series by **[Abdul Aziz MD](https://www.linkedin.com/in/abdul-aziz-md/)**\n",
    "</i></big>\n"
   ]
  },
  {
   "cell_type": "markdown",
   "id": "e8846f34",
   "metadata": {},
   "source": [
    "# Python Programming Tutorial - Control Statements\n",
    "\n",
    "This tutorial covers the following topics:\n",
    "- Branching with `if`, `else` and `elif`\n",
    "- Nested conditions and `if` expressions\n",
    "- Iteration with `while` loops\n",
    "- Iterating over containers with `for` loops\n",
    "- Nested loops, `break` and `continue` statements"
   ]
  },
  {
   "cell_type": "markdown",
   "id": "9a5a49d5",
   "metadata": {},
   "source": [
    "## Branching with `if`, `else`, and `elif`\n",
    "Branching allows you to execute certain parts of code based on conditions.\n",
    "\n",
    "### Syntax\n",
    "```python\n",
    "if condition:\n",
    "    # Code to execute if condition is True\n",
    "elif another_condition:\n",
    "    # Code to execute if another_condition is True\n",
    "else:\n",
    "    # Code to execute if all conditions are False\n",
    "```\n",
    "\n",
    "### Example"
   ]
  },
  {
   "cell_type": "code",
   "execution_count": null,
   "id": "14a99914",
   "metadata": {},
   "outputs": [],
   "source": [
    "number = int(input(\"Enter a number: \"))\n",
    "if number > 0:\n",
    "    print(\"The number is positive.\")\n",
    "elif number == 0:\n",
    "    print(\"The number is zero.\")\n",
    "else:\n",
    "    print(\"The number is negative.\")"
   ]
  },
  {
   "cell_type": "markdown",
   "id": "351c3185",
   "metadata": {},
   "source": [
    "## Nested Conditions and `if` Expressions\n",
    "You can nest `if`, `else`, and `elif` statements to handle more complex conditions.\n",
    "\n",
    "### Example of Nested Conditions"
   ]
  },
  {
   "cell_type": "code",
   "execution_count": null,
   "id": "db6312a0",
   "metadata": {},
   "outputs": [],
   "source": [
    "age = int(input(\"Enter your age: \"))\n",
    "if age > 18:\n",
    "    if age >= 65:\n",
    "        print(\"You are a senior citizen.\")\n",
    "    else:\n",
    "        print(\"You are an adult.\")\n",
    "else:\n",
    "    print(\"You are a minor.\")"
   ]
  },
  {
   "cell_type": "code",
   "execution_count": 2,
   "id": "31b51ffa",
   "metadata": {},
   "outputs": [
    {
     "name": "stdout",
     "output_type": "stream",
     "text": [
      "Type of the variable is Complex\n"
     ]
    }
   ],
   "source": [
    "var1 = 2+3j\n",
    "if (type(var1) == int):\n",
    "    print(\"Type of the variable is Integer\")\n",
    "elif (type(var1) == float):\n",
    "    print(\"Type of the variable is Float\")\n",
    "elif (type(var1) == complex):\n",
    "    print(\"Type of the variable is Complex\")\n",
    "elif (type(var1) == bool):\n",
    "    print(\"Type of the variable is Bool\")\n",
    "elif (type(var1) == str):\n",
    "    print(\"Type of the variable is String\")\n",
    "elif (type(var1) == tuple):\n",
    "    print(\"Type of the variable is Tuple\")\n",
    "elif (type(var1) == dict):\n",
    "    print(\"Type of the variable is Dictionaries\")\n",
    "elif (type(var1) == list):\n",
    "    print(\"Type of the variable is List\")\n",
    "else:\n",
    "    print(\"Type of the variable is Unknown\")\n"
   ]
  },
  {
   "cell_type": "markdown",
   "id": "4fd67e55",
   "metadata": {},
   "source": [
    "### Non-Boolean Conditions\n",
    "\n",
    "Note that conditions do not necessarily have to be booleans. In fact, a condition can be any value. The value is converted into a boolean automatically using the `bool` operator. This means that falsy values like `0`, `''`, `{}`, `[]`, etc. evaluate to `False` and all other values evaluate to `True`."
   ]
  },
  {
   "cell_type": "code",
   "execution_count": 3,
   "id": "3e80164c",
   "metadata": {},
   "outputs": [
    {
     "name": "stdout",
     "output_type": "stream",
     "text": [
      "The condition evaluted to False\n"
     ]
    }
   ],
   "source": [
    "if '':\n",
    "    print('The condition evaluted to True')\n",
    "else:\n",
    "    print('The condition evaluted to False')"
   ]
  },
  {
   "cell_type": "code",
   "execution_count": 4,
   "id": "b4402679",
   "metadata": {},
   "outputs": [
    {
     "name": "stdout",
     "output_type": "stream",
     "text": [
      "The condition evaluted to True\n"
     ]
    }
   ],
   "source": [
    "if 'Hello':\n",
    "    print('The condition evaluted to True')\n",
    "else:\n",
    "    print('The condition evaluted to False')"
   ]
  },
  {
   "cell_type": "code",
   "execution_count": 5,
   "id": "b91e0857",
   "metadata": {},
   "outputs": [
    {
     "name": "stdout",
     "output_type": "stream",
     "text": [
      "The condition evaluted to True\n"
     ]
    }
   ],
   "source": [
    "if { 'a': 34 }:\n",
    "    print('The condition evaluted to True')\n",
    "else:\n",
    "    print('The condition evaluted to False')"
   ]
  },
  {
   "cell_type": "code",
   "execution_count": 6,
   "id": "fe34d5a7",
   "metadata": {},
   "outputs": [
    {
     "name": "stdout",
     "output_type": "stream",
     "text": [
      "The condition evaluted to False\n"
     ]
    }
   ],
   "source": [
    "if None:\n",
    "    print('The condition evaluted to True')\n",
    "else:\n",
    "    print('The condition evaluted to False')"
   ]
  },
  {
   "cell_type": "markdown",
   "id": "97732955",
   "metadata": {},
   "source": [
    "### Nested conditional statements\n",
    "\n",
    "The code inside an `if` block can also include an `if` statement inside it. This pattern is called `nesting` and is used to check for another condition after a particular condition holds true."
   ]
  },
  {
   "cell_type": "code",
   "execution_count": 8,
   "id": "fe8611c4",
   "metadata": {},
   "outputs": [
    {
     "name": "stdout",
     "output_type": "stream",
     "text": [
      "15 is odd\n",
      "15 is also divisible by 5\n"
     ]
    }
   ],
   "source": [
    "a_number = int(input(\"Enter a number: \"))\n",
    "\n",
    "if a_number % 2 == 0:\n",
    "    print(\"{} is even\".format(a_number))\n",
    "    if a_number % 3 == 0:\n",
    "        print(\"{} is also divisible by 3\".format(a_number))\n",
    "    else:\n",
    "        print(\"{} is not divisible by 3\".format(a_number))\n",
    "else:\n",
    "    print(\"{} is odd\".format(a_number))\n",
    "    if a_number % 5 == 0:\n",
    "        print(\"{} is also divisible by 5\".format(a_number))\n",
    "    else:\n",
    "        print(\"{} is not divisible by 5\".format(a_number))"
   ]
  },
  {
   "cell_type": "markdown",
   "id": "848653ce",
   "metadata": {},
   "source": [
    "## Iteration with `while` Loops\n",
    "A `while` loop continues to execute as long as the condition is `True`.\n",
    "\n",
    "### Syntax\n",
    "```python\n",
    "while condition:\n",
    "    # Code to execute\n",
    "```\n",
    "\n",
    "### Example"
   ]
  },
  {
   "cell_type": "code",
   "execution_count": null,
   "id": "3c62bc35",
   "metadata": {},
   "outputs": [],
   "source": [
    "count = 0\n",
    "while count < 5:\n",
    "    print(\"Count is:\", count)\n",
    "    count += 1"
   ]
  },
  {
   "cell_type": "code",
   "execution_count": 10,
   "id": "e1ded53b",
   "metadata": {},
   "outputs": [
    {
     "name": "stdout",
     "output_type": "stream",
     "text": [
      "Magic number 20 reached! Stopping execution..\n",
      "i: 20\n",
      "result: 2432902008176640000\n"
     ]
    }
   ],
   "source": [
    "i = 1\n",
    "result = 1\n",
    "\n",
    "while i <= 100:\n",
    "    result *= i # result = result * i\n",
    "    if i == 20:\n",
    "        print('Magic number 20 reached! Stopping execution..')\n",
    "        break\n",
    "    i += 1\n",
    "    \n",
    "print('i:', i)\n",
    "print('result:', result)"
   ]
  },
  {
   "cell_type": "markdown",
   "id": "96e1a7c5",
   "metadata": {},
   "source": [
    "## Iterating Over Containers with `for` Loops\n",
    "The `for` loop is used to iterate over a sequence or container.\n",
    "\n",
    "### Syntax\n",
    "```python\n",
    "for variable in container:\n",
    "    # Code to execute\n",
    "```\n",
    "\n",
    "### Example"
   ]
  },
  {
   "cell_type": "code",
   "execution_count": null,
   "id": "8ffc7f66",
   "metadata": {},
   "outputs": [],
   "source": [
    "fruits = [\"apple\", \"banana\", \"cherry\"]\n",
    "for fruit in fruits:\n",
    "    print(\"I like\", fruit)"
   ]
  },
  {
   "cell_type": "code",
   "execution_count": 11,
   "id": "a91a2c32",
   "metadata": {},
   "outputs": [
    {
     "name": "stdout",
     "output_type": "stream",
     "text": [
      "Monday\n",
      "Tuesday\n",
      "Wednesday\n",
      "Thursday\n",
      "Friday\n"
     ]
    }
   ],
   "source": [
    "days = ['Monday', 'Tuesday', 'Wednesday', 'Thursday', 'Friday']\n",
    "\n",
    "for day in days:\n",
    "    print(day)"
   ]
  },
  {
   "cell_type": "code",
   "execution_count": 12,
   "id": "d0b7b1f8",
   "metadata": {},
   "outputs": [
    {
     "name": "stdout",
     "output_type": "stream",
     "text": [
      "Here's a fruit: Apple\n",
      "Here's a fruit: Banana\n",
      "Here's a fruit: Guava\n"
     ]
    }
   ],
   "source": [
    "# Looping over a tuple\n",
    "for fruit in ('Apple', 'Banana', 'Guava'):\n",
    "    print(\"Here's a fruit:\", fruit)"
   ]
  },
  {
   "cell_type": "code",
   "execution_count": 18,
   "id": "715398b0",
   "metadata": {},
   "outputs": [
    {
     "name": "stdout",
     "output_type": "stream",
     "text": [
      "Key: name , Value: John Doe\n",
      "Key: sex , Value: Male\n",
      "Key: age , Value: 32\n",
      "Key: married , Value: True\n"
     ]
    }
   ],
   "source": [
    "# Looping over a dictionary\n",
    "person = {\n",
    "    'name': 'John Doe',\n",
    "    'sex': 'Male',\n",
    "    'age': 32,\n",
    "    'married': True\n",
    "}\n",
    "\n",
    "for key in person:\n",
    "    print(\"Key:\", key, \",\", \"Value:\", person[key])"
   ]
  },
  {
   "cell_type": "markdown",
   "id": "fff39f1e",
   "metadata": {},
   "source": [
    "### Iterating using `range` and `enumerate`\n",
    "\n",
    "The `range` function is used to create a sequence of numbers that can be iterated over using a `for` loop. It can be used in 3 ways:\n",
    " \n",
    "* `range(n)` - Creates a sequence of numbers from `0` to `n-1`\n",
    "* `range(a, b)` - Creates a sequence of numbers from `a` to `b-1`\n",
    "* `range(a, b, step)` - Creates a sequence of numbers from `a` to `b-1` with increments of `step`\n",
    "\n",
    "Let's try it out."
   ]
  },
  {
   "cell_type": "code",
   "execution_count": 19,
   "id": "6b0e391b",
   "metadata": {},
   "outputs": [
    {
     "name": "stdout",
     "output_type": "stream",
     "text": [
      "0\n",
      "1\n",
      "2\n",
      "3\n",
      "4\n",
      "5\n",
      "6\n"
     ]
    }
   ],
   "source": [
    "for i in range(7):\n",
    "    print(i)"
   ]
  },
  {
   "cell_type": "code",
   "execution_count": 20,
   "id": "5dda0ef3",
   "metadata": {},
   "outputs": [
    {
     "name": "stdout",
     "output_type": "stream",
     "text": [
      "3\n",
      "4\n",
      "5\n",
      "6\n",
      "7\n",
      "8\n",
      "9\n"
     ]
    }
   ],
   "source": [
    "for i in range(3, 10):\n",
    "    print(i)"
   ]
  },
  {
   "cell_type": "markdown",
   "id": "0666d96f",
   "metadata": {},
   "source": [
    "## Nested Loops, `break`, and `continue` Statements\n",
    "### Nested Loops\n",
    "You can place one loop inside another for nested iterations.\n",
    "```python\n",
    "for i in range(3):\n",
    "    for j in range(2):\n",
    "        print(f\"i={i}, j={j}\")\n",
    "```\n",
    "\n",
    "### `break` Statement\n",
    "Exits the loop prematurely.\n",
    "```python\n",
    "for num in range(5):\n",
    "    if num == 3:\n",
    "        break\n",
    "    print(num)\n",
    "```\n",
    "\n",
    "### `continue` Statement\n",
    "Skips the current iteration.\n",
    "```python\n",
    "for num in range(5):\n",
    "    if num == 3:\n",
    "        continue\n",
    "    print(num)\n",
    "```\n"
   ]
  },
  {
   "cell_type": "markdown",
   "id": "d787a8e5",
   "metadata": {},
   "source": [
    "### `break`,and  `continue` statements\n",
    "\n",
    "Similar to `while` loops, `for` loops also support the `break` and `continue` statements. `break` is used for breaking out of the loop and `continue` is used for skipping ahead to the next iteration."
   ]
  },
  {
   "cell_type": "code",
   "execution_count": 21,
   "id": "c347bc5d",
   "metadata": {},
   "outputs": [],
   "source": [
    "weekdays = ['Monday', 'Tuesday', 'Wednesday', 'Thursday', 'Friday']"
   ]
  },
  {
   "cell_type": "code",
   "execution_count": 23,
   "id": "095bef13",
   "metadata": {},
   "outputs": [
    {
     "name": "stdout",
     "output_type": "stream",
     "text": [
      "Today is Monday\n",
      "Today is Tuesday\n",
      "Today is Wednesday\n",
      "I don't work beyond Wednesday!\n"
     ]
    }
   ],
   "source": [
    "for day in weekdays:\n",
    "    print('Today is {}'.format(day))\n",
    "    if (day == 'Wednesday'):\n",
    "        print(\"I don't work beyond Wednesday!\")\n",
    "        break"
   ]
  },
  {
   "cell_type": "code",
   "execution_count": 22,
   "id": "23753956",
   "metadata": {},
   "outputs": [
    {
     "name": "stdout",
     "output_type": "stream",
     "text": [
      "Today is Monday\n",
      "Today is Tuesday\n",
      "I don't work on Wednesday!\n",
      "Today is Thursday\n",
      "Today is Friday\n"
     ]
    }
   ],
   "source": [
    "for day in weekdays:\n",
    "    if (day == 'Wednesday'):\n",
    "        print(\"I don't work on Wednesday!\")\n",
    "        continue\n",
    "    print('Today is {}'.format(day))"
   ]
  },
  {
   "cell_type": "markdown",
   "id": "fbc7b9a3",
   "metadata": {},
   "source": [
    "## Questions for Revision\n",
    "\n",
    "Try answering the following questions to test your understanding of the topics covered in this notebook:\n",
    "\n",
    "1. What is branching in programming languages?\n",
    "2. What is the purpose of the `if` statement in Python?\n",
    "3. What is the syntax of the `if` statement? Give an example.\n",
    "4. What is indentation? Why is it used?\n",
    "5. What is an indented block of statements?\n",
    "6. How do you perform indentation in Python?\n",
    "7. What happens if some code is not indented correctly?\n",
    "8. What happens when the condition within the `if` statement evaluates to `True`? What happens if the condition evaluates for `false`?\n",
    "9. How do you check if a number is even?\n",
    "10. What is the purpose of the `else` statement in Python?\n",
    "11. What is the syntax of the `else` statement? Give an example.\n",
    "12. Write a program that prints different messages based on whether a number is positive or negative.\n",
    "13. Can the `else` statement be used without an `if` statement?\n",
    "14. What is the purpose of the `elif` statement in Python?\n",
    "15. What is the syntax of the `elif` statement? Give an example.\n",
    "16. Write a program that prints different messages for different months of the year.\n",
    "17. Write a program that uses `if`, `elif`, and `else` statements together.\n",
    "18. Can the `elif` statement be used without an `if` statement?\n",
    "19. Can the `elif` statement be used without an `else` statement?\n",
    "20. What is the difference between a chain of `if`, `elif`, `elif`… statements and a chain of `if`, `if`, `if`… statements? Give an example.\n",
    "21. Can non-boolean conditions be used with `if` statements? Give some examples.\n",
    "22. What are nested conditional statements? How are they useful?\n",
    "23. Give an example of nested conditional statements.\n",
    "24. Why is it advisable to avoid nested conditional statements?\n",
    "25. What is the shorthand `if` conditional expression? \n",
    "26. What is the syntax of the shorthand `if` conditional expression? Give an example.\n",
    "27. What is the difference between the shorthand `if` expression and the regular `if` statement?\n",
    "28. What is a statement in Python?\n",
    "29. What is an expression in Python?\n",
    "30. What is the difference between statements and expressions?\n",
    "31. Is every statement an expression? Give an example or counterexample.\n",
    "32. Is every expression a statement? Give an example or counterexample.\n",
    "33. What is the purpose of the pass statement in `if` blocks?\n",
    "34. What is iteration or looping in programming languages? Why is it useful?\n",
    "35. What are the two ways for performing iteration in Python?\n",
    "36. What is the purpose of the `while` statement in Python?\n",
    "37. What is the syntax of the `white` statement in Python? Give an example.\n",
    "38. Write a program to compute the sum of the numbers 1 to 100 using a while loop. \n",
    "39. Repeat the above program for numbers up to 1000, 10000, and 100000. How long does it take each loop to complete?\n",
    "40. What is an infinite loop?\n",
    "41. What causes a program to enter an infinite loop?\n",
    "42. How do you interrupt an infinite loop within Jupyter?\n",
    "43. What is the purpose of the `break` statement in Python? \n",
    "44. Give an example of using a `break` statement within a while loop.\n",
    "45. What is the purpose of the `continue` statement in Python?\n",
    "46. Give an example of using the `continue` statement within a while loop.\n",
    "47. What is logging? How is it useful?\n",
    "48. What is the purpose of the `for` statement in Python?\n",
    "49. What is the syntax of `for` loops? Give an example.\n",
    "50. How are for loops and while loops different?\n",
    "51. How do you loop over a string? Give an example.\n",
    "52. How do you loop over a list? Give an example.\n",
    "53. How do you loop over a tuple? Give an example.\n",
    "54. How do you loop over a dictionary? Give an example.\n",
    "55. What is the purpose of the `range` statement? Give an example.\n",
    "56. What is the purpose of the `enumerate` statement? Give an example.\n",
    "57. How are the `break`, `continue`, and `pass` statements used in for loops? Give examples.\n",
    "58. Can loops be nested within other loops? How is nesting useful?\n",
    "59. Give an example of a for loop nested within another for loop.\n",
    "60. Give an example of a while loop nested within another while loop.\n",
    "61. Give an example of a for loop nested within a while loop.\n",
    "62. Give an example of a while loop nested within a for loop.\n",
    "\n"
   ]
  }
 ],
 "metadata": {
  "kernelspec": {
   "display_name": "base",
   "language": "python",
   "name": "python3"
  },
  "language_info": {
   "codemirror_mode": {
    "name": "ipython",
    "version": 3
   },
   "file_extension": ".py",
   "mimetype": "text/x-python",
   "name": "python",
   "nbconvert_exporter": "python",
   "pygments_lexer": "ipython3",
   "version": "3.12.4"
  }
 },
 "nbformat": 4,
 "nbformat_minor": 5
}
