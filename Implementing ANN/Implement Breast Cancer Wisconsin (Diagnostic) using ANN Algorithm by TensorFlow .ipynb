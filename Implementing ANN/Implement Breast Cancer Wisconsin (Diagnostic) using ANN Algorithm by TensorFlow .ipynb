{
 "cells": [
  {
   "cell_type": "markdown",
   "id": "4a06ed24",
   "metadata": {},
   "source": [
    "<big><i>\n",
    "All the Notebooks in this lecture series by **[Abdul Aziz MD](https://www.linkedin.com/in/abdul-aziz-md/)**\n",
    "</i></big>"
   ]
  },
  {
   "cell_type": "markdown",
   "id": "d9cdf727",
   "metadata": {},
   "source": [
    "### Implement Breast Cancer Wisconsin (Diagnostic) using ANN Algorithm by TensorFlow \n",
    "\n",
    "### Objective:\n",
    "The objective of applying an Artificial Neural Network (ANN) algorithm using TensorFlow on the Breast Cancer Wisconsin (Diagnostic) dataset is to create a predictive model that can accurately determine whether a breast tumor is malignant or benign based on various medical features derived from a digitized image of a fine needle aspirate (FNA) of a breast mass. The aim is to assist medical professionals in making accurate and timely diagnoses, ultimately improving patient outcomes.\n",
    "\n",
    "### Breast Cancer Wisconsin (Diagnostic) Dataset:\n",
    "The Breast Cancer Wisconsin (Diagnostic) dataset is a popular dataset used in machine learning and medical research. It consists of 569 samples of breast cancer cases, each with 30 features derived from a digitized image of a fine needle aspirate (FNA) of a breast mass. These features describe the characteristics of the cell nuclei present in the image. The dataset is divided into two classes: benign (non-cancerous) and malignant (cancerous).\n",
    "\n",
    "Dataset link: https://www.kaggle.com/datasets/jeandedieunyandwi/breast-cancer-dataset-uci-ml"
   ]
  },
  {
   "cell_type": "code",
   "execution_count": 1,
   "id": "02bd9d0c",
   "metadata": {
    "executionInfo": {
     "elapsed": 1909,
     "status": "ok",
     "timestamp": 1700225289241,
     "user": {
      "displayName": "Abdulaziz Mohammad",
      "userId": "00984729133826365059"
     },
     "user_tz": -330
    },
    "id": "02bd9d0c"
   },
   "outputs": [],
   "source": [
    "import numpy as np \n",
    "import pandas as pd \n",
    "import matplotlib.pyplot as plt\n",
    "import seaborn as sns"
   ]
  },
  {
   "cell_type": "code",
   "execution_count": 2,
   "id": "4231243d",
   "metadata": {
    "executionInfo": {
     "elapsed": 1527,
     "status": "ok",
     "timestamp": 1700225551601,
     "user": {
      "displayName": "Abdulaziz Mohammad",
      "userId": "00984729133826365059"
     },
     "user_tz": -330
    },
    "id": "4231243d"
   },
   "outputs": [],
   "source": [
    "df = pd.read_csv(\"Lab 30 breast-cancer-wisconsin.csv\")"
   ]
  },
  {
   "cell_type": "code",
   "execution_count": 3,
   "id": "29a7efac",
   "metadata": {},
   "outputs": [
    {
     "data": {
      "text/html": [
       "<div>\n",
       "<style scoped>\n",
       "    .dataframe tbody tr th:only-of-type {\n",
       "        vertical-align: middle;\n",
       "    }\n",
       "\n",
       "    .dataframe tbody tr th {\n",
       "        vertical-align: top;\n",
       "    }\n",
       "\n",
       "    .dataframe thead th {\n",
       "        text-align: right;\n",
       "    }\n",
       "</style>\n",
       "<table border=\"1\" class=\"dataframe\">\n",
       "  <thead>\n",
       "    <tr style=\"text-align: right;\">\n",
       "      <th></th>\n",
       "      <th>id</th>\n",
       "      <th>diagnosis</th>\n",
       "      <th>radius_mean</th>\n",
       "      <th>texture_mean</th>\n",
       "      <th>perimeter_mean</th>\n",
       "      <th>area_mean</th>\n",
       "      <th>smoothness_mean</th>\n",
       "      <th>compactness_mean</th>\n",
       "      <th>concavity_mean</th>\n",
       "      <th>concave points_mean</th>\n",
       "      <th>...</th>\n",
       "      <th>texture_worst</th>\n",
       "      <th>perimeter_worst</th>\n",
       "      <th>area_worst</th>\n",
       "      <th>smoothness_worst</th>\n",
       "      <th>compactness_worst</th>\n",
       "      <th>concavity_worst</th>\n",
       "      <th>concave points_worst</th>\n",
       "      <th>symmetry_worst</th>\n",
       "      <th>fractal_dimension_worst</th>\n",
       "      <th>Unnamed: 32</th>\n",
       "    </tr>\n",
       "  </thead>\n",
       "  <tbody>\n",
       "    <tr>\n",
       "      <th>0</th>\n",
       "      <td>842302</td>\n",
       "      <td>M</td>\n",
       "      <td>17.99</td>\n",
       "      <td>10.38</td>\n",
       "      <td>122.80</td>\n",
       "      <td>1001.0</td>\n",
       "      <td>0.11840</td>\n",
       "      <td>0.27760</td>\n",
       "      <td>0.3001</td>\n",
       "      <td>0.14710</td>\n",
       "      <td>...</td>\n",
       "      <td>17.33</td>\n",
       "      <td>184.60</td>\n",
       "      <td>2019.0</td>\n",
       "      <td>0.1622</td>\n",
       "      <td>0.6656</td>\n",
       "      <td>0.7119</td>\n",
       "      <td>0.2654</td>\n",
       "      <td>0.4601</td>\n",
       "      <td>0.11890</td>\n",
       "      <td>NaN</td>\n",
       "    </tr>\n",
       "    <tr>\n",
       "      <th>1</th>\n",
       "      <td>842517</td>\n",
       "      <td>M</td>\n",
       "      <td>20.57</td>\n",
       "      <td>17.77</td>\n",
       "      <td>132.90</td>\n",
       "      <td>1326.0</td>\n",
       "      <td>0.08474</td>\n",
       "      <td>0.07864</td>\n",
       "      <td>0.0869</td>\n",
       "      <td>0.07017</td>\n",
       "      <td>...</td>\n",
       "      <td>23.41</td>\n",
       "      <td>158.80</td>\n",
       "      <td>1956.0</td>\n",
       "      <td>0.1238</td>\n",
       "      <td>0.1866</td>\n",
       "      <td>0.2416</td>\n",
       "      <td>0.1860</td>\n",
       "      <td>0.2750</td>\n",
       "      <td>0.08902</td>\n",
       "      <td>NaN</td>\n",
       "    </tr>\n",
       "    <tr>\n",
       "      <th>2</th>\n",
       "      <td>84300903</td>\n",
       "      <td>M</td>\n",
       "      <td>19.69</td>\n",
       "      <td>21.25</td>\n",
       "      <td>130.00</td>\n",
       "      <td>1203.0</td>\n",
       "      <td>0.10960</td>\n",
       "      <td>0.15990</td>\n",
       "      <td>0.1974</td>\n",
       "      <td>0.12790</td>\n",
       "      <td>...</td>\n",
       "      <td>25.53</td>\n",
       "      <td>152.50</td>\n",
       "      <td>1709.0</td>\n",
       "      <td>0.1444</td>\n",
       "      <td>0.4245</td>\n",
       "      <td>0.4504</td>\n",
       "      <td>0.2430</td>\n",
       "      <td>0.3613</td>\n",
       "      <td>0.08758</td>\n",
       "      <td>NaN</td>\n",
       "    </tr>\n",
       "    <tr>\n",
       "      <th>3</th>\n",
       "      <td>84348301</td>\n",
       "      <td>M</td>\n",
       "      <td>11.42</td>\n",
       "      <td>20.38</td>\n",
       "      <td>77.58</td>\n",
       "      <td>386.1</td>\n",
       "      <td>0.14250</td>\n",
       "      <td>0.28390</td>\n",
       "      <td>0.2414</td>\n",
       "      <td>0.10520</td>\n",
       "      <td>...</td>\n",
       "      <td>26.50</td>\n",
       "      <td>98.87</td>\n",
       "      <td>567.7</td>\n",
       "      <td>0.2098</td>\n",
       "      <td>0.8663</td>\n",
       "      <td>0.6869</td>\n",
       "      <td>0.2575</td>\n",
       "      <td>0.6638</td>\n",
       "      <td>0.17300</td>\n",
       "      <td>NaN</td>\n",
       "    </tr>\n",
       "    <tr>\n",
       "      <th>4</th>\n",
       "      <td>84358402</td>\n",
       "      <td>M</td>\n",
       "      <td>20.29</td>\n",
       "      <td>14.34</td>\n",
       "      <td>135.10</td>\n",
       "      <td>1297.0</td>\n",
       "      <td>0.10030</td>\n",
       "      <td>0.13280</td>\n",
       "      <td>0.1980</td>\n",
       "      <td>0.10430</td>\n",
       "      <td>...</td>\n",
       "      <td>16.67</td>\n",
       "      <td>152.20</td>\n",
       "      <td>1575.0</td>\n",
       "      <td>0.1374</td>\n",
       "      <td>0.2050</td>\n",
       "      <td>0.4000</td>\n",
       "      <td>0.1625</td>\n",
       "      <td>0.2364</td>\n",
       "      <td>0.07678</td>\n",
       "      <td>NaN</td>\n",
       "    </tr>\n",
       "  </tbody>\n",
       "</table>\n",
       "<p>5 rows × 33 columns</p>\n",
       "</div>"
      ],
      "text/plain": [
       "         id diagnosis  radius_mean  texture_mean  perimeter_mean  area_mean  \\\n",
       "0    842302         M        17.99         10.38          122.80     1001.0   \n",
       "1    842517         M        20.57         17.77          132.90     1326.0   \n",
       "2  84300903         M        19.69         21.25          130.00     1203.0   \n",
       "3  84348301         M        11.42         20.38           77.58      386.1   \n",
       "4  84358402         M        20.29         14.34          135.10     1297.0   \n",
       "\n",
       "   smoothness_mean  compactness_mean  concavity_mean  concave points_mean  \\\n",
       "0          0.11840           0.27760          0.3001              0.14710   \n",
       "1          0.08474           0.07864          0.0869              0.07017   \n",
       "2          0.10960           0.15990          0.1974              0.12790   \n",
       "3          0.14250           0.28390          0.2414              0.10520   \n",
       "4          0.10030           0.13280          0.1980              0.10430   \n",
       "\n",
       "   ...  texture_worst  perimeter_worst  area_worst  smoothness_worst  \\\n",
       "0  ...          17.33           184.60      2019.0            0.1622   \n",
       "1  ...          23.41           158.80      1956.0            0.1238   \n",
       "2  ...          25.53           152.50      1709.0            0.1444   \n",
       "3  ...          26.50            98.87       567.7            0.2098   \n",
       "4  ...          16.67           152.20      1575.0            0.1374   \n",
       "\n",
       "   compactness_worst  concavity_worst  concave points_worst  symmetry_worst  \\\n",
       "0             0.6656           0.7119                0.2654          0.4601   \n",
       "1             0.1866           0.2416                0.1860          0.2750   \n",
       "2             0.4245           0.4504                0.2430          0.3613   \n",
       "3             0.8663           0.6869                0.2575          0.6638   \n",
       "4             0.2050           0.4000                0.1625          0.2364   \n",
       "\n",
       "   fractal_dimension_worst  Unnamed: 32  \n",
       "0                  0.11890          NaN  \n",
       "1                  0.08902          NaN  \n",
       "2                  0.08758          NaN  \n",
       "3                  0.17300          NaN  \n",
       "4                  0.07678          NaN  \n",
       "\n",
       "[5 rows x 33 columns]"
      ]
     },
     "execution_count": 3,
     "metadata": {},
     "output_type": "execute_result"
    }
   ],
   "source": [
    "df.head()"
   ]
  },
  {
   "cell_type": "code",
   "execution_count": 6,
   "id": "05847766-25c6-462e-a1d6-3fce914c8d70",
   "metadata": {},
   "outputs": [
    {
     "data": {
      "text/plain": [
       "diagnosis\n",
       "B    357\n",
       "M    212\n",
       "Name: count, dtype: int64"
      ]
     },
     "execution_count": 6,
     "metadata": {},
     "output_type": "execute_result"
    }
   ],
   "source": [
    "df[\"diagnosis\"].value_counts()"
   ]
  },
  {
   "cell_type": "code",
   "execution_count": 7,
   "id": "ff774527",
   "metadata": {},
   "outputs": [
    {
     "data": {
      "text/html": [
       "<div>\n",
       "<style scoped>\n",
       "    .dataframe tbody tr th:only-of-type {\n",
       "        vertical-align: middle;\n",
       "    }\n",
       "\n",
       "    .dataframe tbody tr th {\n",
       "        vertical-align: top;\n",
       "    }\n",
       "\n",
       "    .dataframe thead th {\n",
       "        text-align: right;\n",
       "    }\n",
       "</style>\n",
       "<table border=\"1\" class=\"dataframe\">\n",
       "  <thead>\n",
       "    <tr style=\"text-align: right;\">\n",
       "      <th></th>\n",
       "      <th>id</th>\n",
       "      <th>diagnosis</th>\n",
       "      <th>radius_mean</th>\n",
       "      <th>texture_mean</th>\n",
       "      <th>perimeter_mean</th>\n",
       "      <th>area_mean</th>\n",
       "      <th>smoothness_mean</th>\n",
       "      <th>compactness_mean</th>\n",
       "      <th>concavity_mean</th>\n",
       "      <th>concave points_mean</th>\n",
       "      <th>...</th>\n",
       "      <th>texture_worst</th>\n",
       "      <th>perimeter_worst</th>\n",
       "      <th>area_worst</th>\n",
       "      <th>smoothness_worst</th>\n",
       "      <th>compactness_worst</th>\n",
       "      <th>concavity_worst</th>\n",
       "      <th>concave points_worst</th>\n",
       "      <th>symmetry_worst</th>\n",
       "      <th>fractal_dimension_worst</th>\n",
       "      <th>Unnamed: 32</th>\n",
       "    </tr>\n",
       "  </thead>\n",
       "  <tbody>\n",
       "    <tr>\n",
       "      <th>564</th>\n",
       "      <td>926424</td>\n",
       "      <td>M</td>\n",
       "      <td>21.56</td>\n",
       "      <td>22.39</td>\n",
       "      <td>142.00</td>\n",
       "      <td>1479.0</td>\n",
       "      <td>0.11100</td>\n",
       "      <td>0.11590</td>\n",
       "      <td>0.24390</td>\n",
       "      <td>0.13890</td>\n",
       "      <td>...</td>\n",
       "      <td>26.40</td>\n",
       "      <td>166.10</td>\n",
       "      <td>2027.0</td>\n",
       "      <td>0.14100</td>\n",
       "      <td>0.21130</td>\n",
       "      <td>0.4107</td>\n",
       "      <td>0.2216</td>\n",
       "      <td>0.2060</td>\n",
       "      <td>0.07115</td>\n",
       "      <td>NaN</td>\n",
       "    </tr>\n",
       "    <tr>\n",
       "      <th>565</th>\n",
       "      <td>926682</td>\n",
       "      <td>M</td>\n",
       "      <td>20.13</td>\n",
       "      <td>28.25</td>\n",
       "      <td>131.20</td>\n",
       "      <td>1261.0</td>\n",
       "      <td>0.09780</td>\n",
       "      <td>0.10340</td>\n",
       "      <td>0.14400</td>\n",
       "      <td>0.09791</td>\n",
       "      <td>...</td>\n",
       "      <td>38.25</td>\n",
       "      <td>155.00</td>\n",
       "      <td>1731.0</td>\n",
       "      <td>0.11660</td>\n",
       "      <td>0.19220</td>\n",
       "      <td>0.3215</td>\n",
       "      <td>0.1628</td>\n",
       "      <td>0.2572</td>\n",
       "      <td>0.06637</td>\n",
       "      <td>NaN</td>\n",
       "    </tr>\n",
       "    <tr>\n",
       "      <th>566</th>\n",
       "      <td>926954</td>\n",
       "      <td>M</td>\n",
       "      <td>16.60</td>\n",
       "      <td>28.08</td>\n",
       "      <td>108.30</td>\n",
       "      <td>858.1</td>\n",
       "      <td>0.08455</td>\n",
       "      <td>0.10230</td>\n",
       "      <td>0.09251</td>\n",
       "      <td>0.05302</td>\n",
       "      <td>...</td>\n",
       "      <td>34.12</td>\n",
       "      <td>126.70</td>\n",
       "      <td>1124.0</td>\n",
       "      <td>0.11390</td>\n",
       "      <td>0.30940</td>\n",
       "      <td>0.3403</td>\n",
       "      <td>0.1418</td>\n",
       "      <td>0.2218</td>\n",
       "      <td>0.07820</td>\n",
       "      <td>NaN</td>\n",
       "    </tr>\n",
       "    <tr>\n",
       "      <th>567</th>\n",
       "      <td>927241</td>\n",
       "      <td>M</td>\n",
       "      <td>20.60</td>\n",
       "      <td>29.33</td>\n",
       "      <td>140.10</td>\n",
       "      <td>1265.0</td>\n",
       "      <td>0.11780</td>\n",
       "      <td>0.27700</td>\n",
       "      <td>0.35140</td>\n",
       "      <td>0.15200</td>\n",
       "      <td>...</td>\n",
       "      <td>39.42</td>\n",
       "      <td>184.60</td>\n",
       "      <td>1821.0</td>\n",
       "      <td>0.16500</td>\n",
       "      <td>0.86810</td>\n",
       "      <td>0.9387</td>\n",
       "      <td>0.2650</td>\n",
       "      <td>0.4087</td>\n",
       "      <td>0.12400</td>\n",
       "      <td>NaN</td>\n",
       "    </tr>\n",
       "    <tr>\n",
       "      <th>568</th>\n",
       "      <td>92751</td>\n",
       "      <td>B</td>\n",
       "      <td>7.76</td>\n",
       "      <td>24.54</td>\n",
       "      <td>47.92</td>\n",
       "      <td>181.0</td>\n",
       "      <td>0.05263</td>\n",
       "      <td>0.04362</td>\n",
       "      <td>0.00000</td>\n",
       "      <td>0.00000</td>\n",
       "      <td>...</td>\n",
       "      <td>30.37</td>\n",
       "      <td>59.16</td>\n",
       "      <td>268.6</td>\n",
       "      <td>0.08996</td>\n",
       "      <td>0.06444</td>\n",
       "      <td>0.0000</td>\n",
       "      <td>0.0000</td>\n",
       "      <td>0.2871</td>\n",
       "      <td>0.07039</td>\n",
       "      <td>NaN</td>\n",
       "    </tr>\n",
       "  </tbody>\n",
       "</table>\n",
       "<p>5 rows × 33 columns</p>\n",
       "</div>"
      ],
      "text/plain": [
       "         id diagnosis  radius_mean  texture_mean  perimeter_mean  area_mean  \\\n",
       "564  926424         M        21.56         22.39          142.00     1479.0   \n",
       "565  926682         M        20.13         28.25          131.20     1261.0   \n",
       "566  926954         M        16.60         28.08          108.30      858.1   \n",
       "567  927241         M        20.60         29.33          140.10     1265.0   \n",
       "568   92751         B         7.76         24.54           47.92      181.0   \n",
       "\n",
       "     smoothness_mean  compactness_mean  concavity_mean  concave points_mean  \\\n",
       "564          0.11100           0.11590         0.24390              0.13890   \n",
       "565          0.09780           0.10340         0.14400              0.09791   \n",
       "566          0.08455           0.10230         0.09251              0.05302   \n",
       "567          0.11780           0.27700         0.35140              0.15200   \n",
       "568          0.05263           0.04362         0.00000              0.00000   \n",
       "\n",
       "     ...  texture_worst  perimeter_worst  area_worst  smoothness_worst  \\\n",
       "564  ...          26.40           166.10      2027.0           0.14100   \n",
       "565  ...          38.25           155.00      1731.0           0.11660   \n",
       "566  ...          34.12           126.70      1124.0           0.11390   \n",
       "567  ...          39.42           184.60      1821.0           0.16500   \n",
       "568  ...          30.37            59.16       268.6           0.08996   \n",
       "\n",
       "     compactness_worst  concavity_worst  concave points_worst  symmetry_worst  \\\n",
       "564            0.21130           0.4107                0.2216          0.2060   \n",
       "565            0.19220           0.3215                0.1628          0.2572   \n",
       "566            0.30940           0.3403                0.1418          0.2218   \n",
       "567            0.86810           0.9387                0.2650          0.4087   \n",
       "568            0.06444           0.0000                0.0000          0.2871   \n",
       "\n",
       "     fractal_dimension_worst  Unnamed: 32  \n",
       "564                  0.07115          NaN  \n",
       "565                  0.06637          NaN  \n",
       "566                  0.07820          NaN  \n",
       "567                  0.12400          NaN  \n",
       "568                  0.07039          NaN  \n",
       "\n",
       "[5 rows x 33 columns]"
      ]
     },
     "execution_count": 7,
     "metadata": {},
     "output_type": "execute_result"
    }
   ],
   "source": [
    "df.tail()"
   ]
  },
  {
   "cell_type": "code",
   "execution_count": 8,
   "id": "75f4271a",
   "metadata": {},
   "outputs": [
    {
     "data": {
      "text/html": [
       "<div>\n",
       "<style scoped>\n",
       "    .dataframe tbody tr th:only-of-type {\n",
       "        vertical-align: middle;\n",
       "    }\n",
       "\n",
       "    .dataframe tbody tr th {\n",
       "        vertical-align: top;\n",
       "    }\n",
       "\n",
       "    .dataframe thead th {\n",
       "        text-align: right;\n",
       "    }\n",
       "</style>\n",
       "<table border=\"1\" class=\"dataframe\">\n",
       "  <thead>\n",
       "    <tr style=\"text-align: right;\">\n",
       "      <th></th>\n",
       "      <th>id</th>\n",
       "      <th>diagnosis</th>\n",
       "      <th>radius_mean</th>\n",
       "      <th>texture_mean</th>\n",
       "      <th>perimeter_mean</th>\n",
       "      <th>area_mean</th>\n",
       "      <th>smoothness_mean</th>\n",
       "      <th>compactness_mean</th>\n",
       "      <th>concavity_mean</th>\n",
       "      <th>concave points_mean</th>\n",
       "      <th>...</th>\n",
       "      <th>texture_worst</th>\n",
       "      <th>perimeter_worst</th>\n",
       "      <th>area_worst</th>\n",
       "      <th>smoothness_worst</th>\n",
       "      <th>compactness_worst</th>\n",
       "      <th>concavity_worst</th>\n",
       "      <th>concave points_worst</th>\n",
       "      <th>symmetry_worst</th>\n",
       "      <th>fractal_dimension_worst</th>\n",
       "      <th>Unnamed: 32</th>\n",
       "    </tr>\n",
       "  </thead>\n",
       "  <tbody>\n",
       "    <tr>\n",
       "      <th>469</th>\n",
       "      <td>911366</td>\n",
       "      <td>B</td>\n",
       "      <td>11.62</td>\n",
       "      <td>18.18</td>\n",
       "      <td>76.38</td>\n",
       "      <td>408.8</td>\n",
       "      <td>0.11750</td>\n",
       "      <td>0.14830</td>\n",
       "      <td>0.102000</td>\n",
       "      <td>0.05564</td>\n",
       "      <td>...</td>\n",
       "      <td>25.40</td>\n",
       "      <td>88.14</td>\n",
       "      <td>528.1</td>\n",
       "      <td>0.17800</td>\n",
       "      <td>0.28780</td>\n",
       "      <td>0.31860</td>\n",
       "      <td>0.14160</td>\n",
       "      <td>0.2660</td>\n",
       "      <td>0.09270</td>\n",
       "      <td>NaN</td>\n",
       "    </tr>\n",
       "    <tr>\n",
       "      <th>392</th>\n",
       "      <td>903507</td>\n",
       "      <td>M</td>\n",
       "      <td>15.49</td>\n",
       "      <td>19.97</td>\n",
       "      <td>102.40</td>\n",
       "      <td>744.7</td>\n",
       "      <td>0.11600</td>\n",
       "      <td>0.15620</td>\n",
       "      <td>0.189100</td>\n",
       "      <td>0.09113</td>\n",
       "      <td>...</td>\n",
       "      <td>29.41</td>\n",
       "      <td>142.10</td>\n",
       "      <td>1359.0</td>\n",
       "      <td>0.16810</td>\n",
       "      <td>0.39130</td>\n",
       "      <td>0.55530</td>\n",
       "      <td>0.21210</td>\n",
       "      <td>0.3187</td>\n",
       "      <td>0.10190</td>\n",
       "      <td>NaN</td>\n",
       "    </tr>\n",
       "    <tr>\n",
       "      <th>153</th>\n",
       "      <td>87106</td>\n",
       "      <td>B</td>\n",
       "      <td>11.15</td>\n",
       "      <td>13.08</td>\n",
       "      <td>70.87</td>\n",
       "      <td>381.9</td>\n",
       "      <td>0.09754</td>\n",
       "      <td>0.05113</td>\n",
       "      <td>0.019820</td>\n",
       "      <td>0.01786</td>\n",
       "      <td>...</td>\n",
       "      <td>16.30</td>\n",
       "      <td>76.25</td>\n",
       "      <td>440.8</td>\n",
       "      <td>0.13410</td>\n",
       "      <td>0.08971</td>\n",
       "      <td>0.07116</td>\n",
       "      <td>0.05506</td>\n",
       "      <td>0.2859</td>\n",
       "      <td>0.06772</td>\n",
       "      <td>NaN</td>\n",
       "    </tr>\n",
       "    <tr>\n",
       "      <th>350</th>\n",
       "      <td>899187</td>\n",
       "      <td>B</td>\n",
       "      <td>11.66</td>\n",
       "      <td>17.07</td>\n",
       "      <td>73.70</td>\n",
       "      <td>421.0</td>\n",
       "      <td>0.07561</td>\n",
       "      <td>0.03630</td>\n",
       "      <td>0.008306</td>\n",
       "      <td>0.01162</td>\n",
       "      <td>...</td>\n",
       "      <td>19.74</td>\n",
       "      <td>83.61</td>\n",
       "      <td>542.5</td>\n",
       "      <td>0.09958</td>\n",
       "      <td>0.06476</td>\n",
       "      <td>0.03046</td>\n",
       "      <td>0.04262</td>\n",
       "      <td>0.2731</td>\n",
       "      <td>0.06825</td>\n",
       "      <td>NaN</td>\n",
       "    </tr>\n",
       "    <tr>\n",
       "      <th>407</th>\n",
       "      <td>905190</td>\n",
       "      <td>B</td>\n",
       "      <td>12.85</td>\n",
       "      <td>21.37</td>\n",
       "      <td>82.63</td>\n",
       "      <td>514.5</td>\n",
       "      <td>0.07551</td>\n",
       "      <td>0.08316</td>\n",
       "      <td>0.061260</td>\n",
       "      <td>0.01867</td>\n",
       "      <td>...</td>\n",
       "      <td>27.01</td>\n",
       "      <td>91.63</td>\n",
       "      <td>645.8</td>\n",
       "      <td>0.09402</td>\n",
       "      <td>0.19360</td>\n",
       "      <td>0.18380</td>\n",
       "      <td>0.05601</td>\n",
       "      <td>0.2488</td>\n",
       "      <td>0.08151</td>\n",
       "      <td>NaN</td>\n",
       "    </tr>\n",
       "  </tbody>\n",
       "</table>\n",
       "<p>5 rows × 33 columns</p>\n",
       "</div>"
      ],
      "text/plain": [
       "         id diagnosis  radius_mean  texture_mean  perimeter_mean  area_mean  \\\n",
       "469  911366         B        11.62         18.18           76.38      408.8   \n",
       "392  903507         M        15.49         19.97          102.40      744.7   \n",
       "153   87106         B        11.15         13.08           70.87      381.9   \n",
       "350  899187         B        11.66         17.07           73.70      421.0   \n",
       "407  905190         B        12.85         21.37           82.63      514.5   \n",
       "\n",
       "     smoothness_mean  compactness_mean  concavity_mean  concave points_mean  \\\n",
       "469          0.11750           0.14830        0.102000              0.05564   \n",
       "392          0.11600           0.15620        0.189100              0.09113   \n",
       "153          0.09754           0.05113        0.019820              0.01786   \n",
       "350          0.07561           0.03630        0.008306              0.01162   \n",
       "407          0.07551           0.08316        0.061260              0.01867   \n",
       "\n",
       "     ...  texture_worst  perimeter_worst  area_worst  smoothness_worst  \\\n",
       "469  ...          25.40            88.14       528.1           0.17800   \n",
       "392  ...          29.41           142.10      1359.0           0.16810   \n",
       "153  ...          16.30            76.25       440.8           0.13410   \n",
       "350  ...          19.74            83.61       542.5           0.09958   \n",
       "407  ...          27.01            91.63       645.8           0.09402   \n",
       "\n",
       "     compactness_worst  concavity_worst  concave points_worst  symmetry_worst  \\\n",
       "469            0.28780          0.31860               0.14160          0.2660   \n",
       "392            0.39130          0.55530               0.21210          0.3187   \n",
       "153            0.08971          0.07116               0.05506          0.2859   \n",
       "350            0.06476          0.03046               0.04262          0.2731   \n",
       "407            0.19360          0.18380               0.05601          0.2488   \n",
       "\n",
       "     fractal_dimension_worst  Unnamed: 32  \n",
       "469                  0.09270          NaN  \n",
       "392                  0.10190          NaN  \n",
       "153                  0.06772          NaN  \n",
       "350                  0.06825          NaN  \n",
       "407                  0.08151          NaN  \n",
       "\n",
       "[5 rows x 33 columns]"
      ]
     },
     "execution_count": 8,
     "metadata": {},
     "output_type": "execute_result"
    }
   ],
   "source": [
    "df.sample(5)"
   ]
  },
  {
   "cell_type": "code",
   "execution_count": 9,
   "id": "3962319f",
   "metadata": {},
   "outputs": [
    {
     "data": {
      "text/plain": [
       "Index(['id', 'diagnosis', 'radius_mean', 'texture_mean', 'perimeter_mean',\n",
       "       'area_mean', 'smoothness_mean', 'compactness_mean', 'concavity_mean',\n",
       "       'concave points_mean', 'symmetry_mean', 'fractal_dimension_mean',\n",
       "       'radius_se', 'texture_se', 'perimeter_se', 'area_se', 'smoothness_se',\n",
       "       'compactness_se', 'concavity_se', 'concave points_se', 'symmetry_se',\n",
       "       'fractal_dimension_se', 'radius_worst', 'texture_worst',\n",
       "       'perimeter_worst', 'area_worst', 'smoothness_worst',\n",
       "       'compactness_worst', 'concavity_worst', 'concave points_worst',\n",
       "       'symmetry_worst', 'fractal_dimension_worst', 'Unnamed: 32'],\n",
       "      dtype='object')"
      ]
     },
     "execution_count": 9,
     "metadata": {},
     "output_type": "execute_result"
    }
   ],
   "source": [
    "df.columns"
   ]
  },
  {
   "cell_type": "code",
   "execution_count": 10,
   "id": "557cb003",
   "metadata": {},
   "outputs": [
    {
     "data": {
      "text/plain": [
       "(569, 33)"
      ]
     },
     "execution_count": 10,
     "metadata": {},
     "output_type": "execute_result"
    }
   ],
   "source": [
    "df.shape"
   ]
  },
  {
   "cell_type": "code",
   "execution_count": 11,
   "id": "d7e939ea",
   "metadata": {
    "colab": {
     "base_uri": "https://localhost:8080/"
    },
    "executionInfo": {
     "elapsed": 388,
     "status": "ok",
     "timestamp": 1700225646511,
     "user": {
      "displayName": "Abdulaziz Mohammad",
      "userId": "00984729133826365059"
     },
     "user_tz": -330
    },
    "id": "d7e939ea",
    "outputId": "f48360d1-62e2-4a04-cb46-27a368a41965"
   },
   "outputs": [
    {
     "name": "stdout",
     "output_type": "stream",
     "text": [
      "<class 'pandas.core.frame.DataFrame'>\n",
      "RangeIndex: 569 entries, 0 to 568\n",
      "Data columns (total 33 columns):\n",
      " #   Column                   Non-Null Count  Dtype  \n",
      "---  ------                   --------------  -----  \n",
      " 0   id                       569 non-null    int64  \n",
      " 1   diagnosis                569 non-null    object \n",
      " 2   radius_mean              569 non-null    float64\n",
      " 3   texture_mean             569 non-null    float64\n",
      " 4   perimeter_mean           569 non-null    float64\n",
      " 5   area_mean                569 non-null    float64\n",
      " 6   smoothness_mean          569 non-null    float64\n",
      " 7   compactness_mean         569 non-null    float64\n",
      " 8   concavity_mean           569 non-null    float64\n",
      " 9   concave points_mean      569 non-null    float64\n",
      " 10  symmetry_mean            569 non-null    float64\n",
      " 11  fractal_dimension_mean   569 non-null    float64\n",
      " 12  radius_se                569 non-null    float64\n",
      " 13  texture_se               569 non-null    float64\n",
      " 14  perimeter_se             569 non-null    float64\n",
      " 15  area_se                  569 non-null    float64\n",
      " 16  smoothness_se            569 non-null    float64\n",
      " 17  compactness_se           569 non-null    float64\n",
      " 18  concavity_se             569 non-null    float64\n",
      " 19  concave points_se        569 non-null    float64\n",
      " 20  symmetry_se              569 non-null    float64\n",
      " 21  fractal_dimension_se     569 non-null    float64\n",
      " 22  radius_worst             569 non-null    float64\n",
      " 23  texture_worst            569 non-null    float64\n",
      " 24  perimeter_worst          569 non-null    float64\n",
      " 25  area_worst               569 non-null    float64\n",
      " 26  smoothness_worst         569 non-null    float64\n",
      " 27  compactness_worst        569 non-null    float64\n",
      " 28  concavity_worst          569 non-null    float64\n",
      " 29  concave points_worst     569 non-null    float64\n",
      " 30  symmetry_worst           569 non-null    float64\n",
      " 31  fractal_dimension_worst  569 non-null    float64\n",
      " 32  Unnamed: 32              0 non-null      float64\n",
      "dtypes: float64(31), int64(1), object(1)\n",
      "memory usage: 146.8+ KB\n"
     ]
    }
   ],
   "source": [
    "df.info()\n",
    "# checking for null values"
   ]
  },
  {
   "cell_type": "code",
   "execution_count": 12,
   "id": "_ktJk3koWhfj",
   "metadata": {
    "colab": {
     "base_uri": "https://localhost:8080/"
    },
    "executionInfo": {
     "elapsed": 350,
     "status": "ok",
     "timestamp": 1700225775087,
     "user": {
      "displayName": "Abdulaziz Mohammad",
      "userId": "00984729133826365059"
     },
     "user_tz": -330
    },
    "id": "_ktJk3koWhfj",
    "outputId": "177b8a5f-83ad-454e-f1ef-2cda5c827874"
   },
   "outputs": [
    {
     "data": {
      "text/plain": [
       "id                           0\n",
       "diagnosis                    0\n",
       "radius_mean                  0\n",
       "texture_mean                 0\n",
       "perimeter_mean               0\n",
       "area_mean                    0\n",
       "smoothness_mean              0\n",
       "compactness_mean             0\n",
       "concavity_mean               0\n",
       "concave points_mean          0\n",
       "symmetry_mean                0\n",
       "fractal_dimension_mean       0\n",
       "radius_se                    0\n",
       "texture_se                   0\n",
       "perimeter_se                 0\n",
       "area_se                      0\n",
       "smoothness_se                0\n",
       "compactness_se               0\n",
       "concavity_se                 0\n",
       "concave points_se            0\n",
       "symmetry_se                  0\n",
       "fractal_dimension_se         0\n",
       "radius_worst                 0\n",
       "texture_worst                0\n",
       "perimeter_worst              0\n",
       "area_worst                   0\n",
       "smoothness_worst             0\n",
       "compactness_worst            0\n",
       "concavity_worst              0\n",
       "concave points_worst         0\n",
       "symmetry_worst               0\n",
       "fractal_dimension_worst      0\n",
       "Unnamed: 32                569\n",
       "dtype: int64"
      ]
     },
     "execution_count": 12,
     "metadata": {},
     "output_type": "execute_result"
    }
   ],
   "source": [
    "df.isnull().sum()"
   ]
  },
  {
   "cell_type": "code",
   "execution_count": null,
   "id": "4b3eb8ac",
   "metadata": {},
   "outputs": [],
   "source": [
    "df.head()"
   ]
  },
  {
   "cell_type": "code",
   "execution_count": 13,
   "id": "3f97ba16",
   "metadata": {
    "executionInfo": {
     "elapsed": 4,
     "status": "ok",
     "timestamp": 1700225912714,
     "user": {
      "displayName": "Abdulaziz Mohammad",
      "userId": "00984729133826365059"
     },
     "user_tz": -330
    },
    "id": "3f97ba16"
   },
   "outputs": [],
   "source": [
    "df.loc[df['diagnosis']=='M', 'benign_0__mal_1'] = 1\n",
    "df.loc[df['diagnosis']=='B', 'benign_0__mal_1'] = 0"
   ]
  },
  {
   "cell_type": "code",
   "execution_count": 14,
   "id": "27d039a0",
   "metadata": {},
   "outputs": [
    {
     "data": {
      "text/html": [
       "<div>\n",
       "<style scoped>\n",
       "    .dataframe tbody tr th:only-of-type {\n",
       "        vertical-align: middle;\n",
       "    }\n",
       "\n",
       "    .dataframe tbody tr th {\n",
       "        vertical-align: top;\n",
       "    }\n",
       "\n",
       "    .dataframe thead th {\n",
       "        text-align: right;\n",
       "    }\n",
       "</style>\n",
       "<table border=\"1\" class=\"dataframe\">\n",
       "  <thead>\n",
       "    <tr style=\"text-align: right;\">\n",
       "      <th></th>\n",
       "      <th>id</th>\n",
       "      <th>diagnosis</th>\n",
       "      <th>radius_mean</th>\n",
       "      <th>texture_mean</th>\n",
       "      <th>perimeter_mean</th>\n",
       "      <th>area_mean</th>\n",
       "      <th>smoothness_mean</th>\n",
       "      <th>compactness_mean</th>\n",
       "      <th>concavity_mean</th>\n",
       "      <th>concave points_mean</th>\n",
       "      <th>...</th>\n",
       "      <th>perimeter_worst</th>\n",
       "      <th>area_worst</th>\n",
       "      <th>smoothness_worst</th>\n",
       "      <th>compactness_worst</th>\n",
       "      <th>concavity_worst</th>\n",
       "      <th>concave points_worst</th>\n",
       "      <th>symmetry_worst</th>\n",
       "      <th>fractal_dimension_worst</th>\n",
       "      <th>Unnamed: 32</th>\n",
       "      <th>benign_0__mal_1</th>\n",
       "    </tr>\n",
       "  </thead>\n",
       "  <tbody>\n",
       "    <tr>\n",
       "      <th>0</th>\n",
       "      <td>842302</td>\n",
       "      <td>M</td>\n",
       "      <td>17.99</td>\n",
       "      <td>10.38</td>\n",
       "      <td>122.80</td>\n",
       "      <td>1001.0</td>\n",
       "      <td>0.11840</td>\n",
       "      <td>0.27760</td>\n",
       "      <td>0.3001</td>\n",
       "      <td>0.14710</td>\n",
       "      <td>...</td>\n",
       "      <td>184.60</td>\n",
       "      <td>2019.0</td>\n",
       "      <td>0.1622</td>\n",
       "      <td>0.6656</td>\n",
       "      <td>0.7119</td>\n",
       "      <td>0.2654</td>\n",
       "      <td>0.4601</td>\n",
       "      <td>0.11890</td>\n",
       "      <td>NaN</td>\n",
       "      <td>1.0</td>\n",
       "    </tr>\n",
       "    <tr>\n",
       "      <th>1</th>\n",
       "      <td>842517</td>\n",
       "      <td>M</td>\n",
       "      <td>20.57</td>\n",
       "      <td>17.77</td>\n",
       "      <td>132.90</td>\n",
       "      <td>1326.0</td>\n",
       "      <td>0.08474</td>\n",
       "      <td>0.07864</td>\n",
       "      <td>0.0869</td>\n",
       "      <td>0.07017</td>\n",
       "      <td>...</td>\n",
       "      <td>158.80</td>\n",
       "      <td>1956.0</td>\n",
       "      <td>0.1238</td>\n",
       "      <td>0.1866</td>\n",
       "      <td>0.2416</td>\n",
       "      <td>0.1860</td>\n",
       "      <td>0.2750</td>\n",
       "      <td>0.08902</td>\n",
       "      <td>NaN</td>\n",
       "      <td>1.0</td>\n",
       "    </tr>\n",
       "    <tr>\n",
       "      <th>2</th>\n",
       "      <td>84300903</td>\n",
       "      <td>M</td>\n",
       "      <td>19.69</td>\n",
       "      <td>21.25</td>\n",
       "      <td>130.00</td>\n",
       "      <td>1203.0</td>\n",
       "      <td>0.10960</td>\n",
       "      <td>0.15990</td>\n",
       "      <td>0.1974</td>\n",
       "      <td>0.12790</td>\n",
       "      <td>...</td>\n",
       "      <td>152.50</td>\n",
       "      <td>1709.0</td>\n",
       "      <td>0.1444</td>\n",
       "      <td>0.4245</td>\n",
       "      <td>0.4504</td>\n",
       "      <td>0.2430</td>\n",
       "      <td>0.3613</td>\n",
       "      <td>0.08758</td>\n",
       "      <td>NaN</td>\n",
       "      <td>1.0</td>\n",
       "    </tr>\n",
       "    <tr>\n",
       "      <th>3</th>\n",
       "      <td>84348301</td>\n",
       "      <td>M</td>\n",
       "      <td>11.42</td>\n",
       "      <td>20.38</td>\n",
       "      <td>77.58</td>\n",
       "      <td>386.1</td>\n",
       "      <td>0.14250</td>\n",
       "      <td>0.28390</td>\n",
       "      <td>0.2414</td>\n",
       "      <td>0.10520</td>\n",
       "      <td>...</td>\n",
       "      <td>98.87</td>\n",
       "      <td>567.7</td>\n",
       "      <td>0.2098</td>\n",
       "      <td>0.8663</td>\n",
       "      <td>0.6869</td>\n",
       "      <td>0.2575</td>\n",
       "      <td>0.6638</td>\n",
       "      <td>0.17300</td>\n",
       "      <td>NaN</td>\n",
       "      <td>1.0</td>\n",
       "    </tr>\n",
       "    <tr>\n",
       "      <th>4</th>\n",
       "      <td>84358402</td>\n",
       "      <td>M</td>\n",
       "      <td>20.29</td>\n",
       "      <td>14.34</td>\n",
       "      <td>135.10</td>\n",
       "      <td>1297.0</td>\n",
       "      <td>0.10030</td>\n",
       "      <td>0.13280</td>\n",
       "      <td>0.1980</td>\n",
       "      <td>0.10430</td>\n",
       "      <td>...</td>\n",
       "      <td>152.20</td>\n",
       "      <td>1575.0</td>\n",
       "      <td>0.1374</td>\n",
       "      <td>0.2050</td>\n",
       "      <td>0.4000</td>\n",
       "      <td>0.1625</td>\n",
       "      <td>0.2364</td>\n",
       "      <td>0.07678</td>\n",
       "      <td>NaN</td>\n",
       "      <td>1.0</td>\n",
       "    </tr>\n",
       "  </tbody>\n",
       "</table>\n",
       "<p>5 rows × 34 columns</p>\n",
       "</div>"
      ],
      "text/plain": [
       "         id diagnosis  radius_mean  texture_mean  perimeter_mean  area_mean  \\\n",
       "0    842302         M        17.99         10.38          122.80     1001.0   \n",
       "1    842517         M        20.57         17.77          132.90     1326.0   \n",
       "2  84300903         M        19.69         21.25          130.00     1203.0   \n",
       "3  84348301         M        11.42         20.38           77.58      386.1   \n",
       "4  84358402         M        20.29         14.34          135.10     1297.0   \n",
       "\n",
       "   smoothness_mean  compactness_mean  concavity_mean  concave points_mean  \\\n",
       "0          0.11840           0.27760          0.3001              0.14710   \n",
       "1          0.08474           0.07864          0.0869              0.07017   \n",
       "2          0.10960           0.15990          0.1974              0.12790   \n",
       "3          0.14250           0.28390          0.2414              0.10520   \n",
       "4          0.10030           0.13280          0.1980              0.10430   \n",
       "\n",
       "   ...  perimeter_worst  area_worst  smoothness_worst  compactness_worst  \\\n",
       "0  ...           184.60      2019.0            0.1622             0.6656   \n",
       "1  ...           158.80      1956.0            0.1238             0.1866   \n",
       "2  ...           152.50      1709.0            0.1444             0.4245   \n",
       "3  ...            98.87       567.7            0.2098             0.8663   \n",
       "4  ...           152.20      1575.0            0.1374             0.2050   \n",
       "\n",
       "   concavity_worst  concave points_worst  symmetry_worst  \\\n",
       "0           0.7119                0.2654          0.4601   \n",
       "1           0.2416                0.1860          0.2750   \n",
       "2           0.4504                0.2430          0.3613   \n",
       "3           0.6869                0.2575          0.6638   \n",
       "4           0.4000                0.1625          0.2364   \n",
       "\n",
       "   fractal_dimension_worst  Unnamed: 32  benign_0__mal_1  \n",
       "0                  0.11890          NaN              1.0  \n",
       "1                  0.08902          NaN              1.0  \n",
       "2                  0.08758          NaN              1.0  \n",
       "3                  0.17300          NaN              1.0  \n",
       "4                  0.07678          NaN              1.0  \n",
       "\n",
       "[5 rows x 34 columns]"
      ]
     },
     "execution_count": 14,
     "metadata": {},
     "output_type": "execute_result"
    }
   ],
   "source": [
    "df.head()"
   ]
  },
  {
   "cell_type": "code",
   "execution_count": 15,
   "id": "8e9d45e9",
   "metadata": {},
   "outputs": [],
   "source": [
    "df = df.drop(columns = ['id','Unnamed: 32','diagnosis'])"
   ]
  },
  {
   "cell_type": "code",
   "execution_count": 16,
   "id": "7161cc3e",
   "metadata": {
    "colab": {
     "base_uri": "https://localhost:8080/",
     "height": 467
    },
    "executionInfo": {
     "elapsed": 475,
     "status": "ok",
     "timestamp": 1700226107776,
     "user": {
      "displayName": "Abdulaziz Mohammad",
      "userId": "00984729133826365059"
     },
     "user_tz": -330
    },
    "id": "7161cc3e",
    "outputId": "743cec14-fc7c-454f-fd74-4790a7e5f05d"
   },
   "outputs": [
    {
     "data": {
      "text/plain": [
       "<Axes: xlabel='benign_0__mal_1', ylabel='count'>"
      ]
     },
     "execution_count": 16,
     "metadata": {},
     "output_type": "execute_result"
    },
    {
     "data": {
      "image/png": "[encoded data removed]",
      "text/plain": [
       "<Figure size 640x480 with 1 Axes>"
      ]
     },
     "metadata": {},
     "output_type": "display_data"
    }
   ],
   "source": [
    "sns.countplot(x='benign_0__mal_1', data=df,hue=\"benign_0__mal_1\")"
   ]
  },
  {
   "cell_type": "code",
   "execution_count": null,
   "id": "f82bb264",
   "metadata": {},
   "outputs": [],
   "source": [
    "df['benign_0__mal_1'].value_counts()"
   ]
  },
  {
   "cell_type": "code",
   "execution_count": 17,
   "id": "713f4d19",
   "metadata": {
    "colab": {
     "base_uri": "https://localhost:8080/",
     "height": 618
    },
    "executionInfo": {
     "elapsed": 1595,
     "status": "ok",
     "timestamp": 1700226364318,
     "user": {
      "displayName": "Abdulaziz Mohammad",
      "userId": "00984729133826365059"
     },
     "user_tz": -330
    },
    "id": "713f4d19",
    "outputId": "eeaa2da2-f1a0-48e9-8ba0-e40a2c440b52"
   },
   "outputs": [
    {
     "data": {
      "text/plain": [
       "<Axes: >"
      ]
     },
     "execution_count": 17,
     "metadata": {},
     "output_type": "execute_result"
    },
    {
     "data": {
      "image/png": "[encoded data removed]",
      "text/plain": [
       "<Figure size 1500x700 with 1 Axes>"
      ]
     },
     "metadata": {},
     "output_type": "display_data"
    }
   ],
   "source": [
    "plt.figure(figsize=(15,7))\n",
    "df.corr()['benign_0__mal_1'].sort_values().plot(kind='bar')"
   ]
  },
  {
   "cell_type": "code",
   "execution_count": 18,
   "id": "0a7f69a4",
   "metadata": {
    "executionInfo": {
     "elapsed": 575,
     "status": "ok",
     "timestamp": 1700226413397,
     "user": {
      "displayName": "Abdulaziz Mohammad",
      "userId": "00984729133826365059"
     },
     "user_tz": -330
    },
    "id": "0a7f69a4"
   },
   "outputs": [],
   "source": [
    "#Independent and Dependent Variables \n",
    "\n",
    "X = df.drop(['benign_0__mal_1'], axis=1).values\n",
    "y = df['benign_0__mal_1'].values"
   ]
  },
  {
   "cell_type": "code",
   "execution_count": 19,
   "id": "9b0cf0a3",
   "metadata": {
    "executionInfo": {
     "elapsed": 657,
     "status": "ok",
     "timestamp": 1700226433099,
     "user": {
      "displayName": "Abdulaziz Mohammad",
      "userId": "00984729133826365059"
     },
     "user_tz": -330
    },
    "id": "9b0cf0a3"
   },
   "outputs": [],
   "source": [
    "# Train Test Split\n",
    "from sklearn.model_selection import train_test_split"
   ]
  },
  {
   "cell_type": "code",
   "execution_count": 20,
   "id": "0d1c7a2c",
   "metadata": {
    "executionInfo": {
     "elapsed": 399,
     "status": "ok",
     "timestamp": 1700226462123,
     "user": {
      "displayName": "Abdulaziz Mohammad",
      "userId": "00984729133826365059"
     },
     "user_tz": -330
    },
    "id": "0d1c7a2c"
   },
   "outputs": [],
   "source": [
    "X_train, X_test, y_train, y_test = train_test_split(X,y,test_size=0.2,random_state=101)"
   ]
  },
  {
   "cell_type": "code",
   "execution_count": 21,
   "id": "aE0Ep3pLZPzo",
   "metadata": {
    "colab": {
     "base_uri": "https://localhost:8080/"
    },
    "executionInfo": {
     "elapsed": 411,
     "status": "ok",
     "timestamp": 1700226501117,
     "user": {
      "displayName": "Abdulaziz Mohammad",
      "userId": "00984729133826365059"
     },
     "user_tz": -330
    },
    "id": "aE0Ep3pLZPzo",
    "outputId": "024aaba4-0c26-4311-a1d8-696b26bac785"
   },
   "outputs": [
    {
     "data": {
      "text/plain": [
       "((455, 30), (114, 30))"
      ]
     },
     "execution_count": 21,
     "metadata": {},
     "output_type": "execute_result"
    }
   ],
   "source": [
    "X_train.shape, X_test.shape"
   ]
  },
  {
   "cell_type": "code",
   "execution_count": 22,
   "id": "35320dd0",
   "metadata": {
    "executionInfo": {
     "elapsed": 406,
     "status": "ok",
     "timestamp": 1700226544580,
     "user": {
      "displayName": "Abdulaziz Mohammad",
      "userId": "00984729133826365059"
     },
     "user_tz": -330
    },
    "id": "35320dd0"
   },
   "outputs": [],
   "source": [
    "# Scaling\n",
    "from sklearn.preprocessing import MinMaxScaler\n",
    "scaler = MinMaxScaler()\n",
    "X_train = scaler.fit_transform(X_train)\n",
    "X_test = scaler.fit_transform(X_test)"
   ]
  },
  {
   "cell_type": "code",
   "execution_count": 24,
   "id": "4e3ed30b-d34b-4937-9088-4579ac2b53a7",
   "metadata": {},
   "outputs": [
    {
     "data": {
      "text/html": [
       "<div>\n",
       "<style scoped>\n",
       "    .dataframe tbody tr th:only-of-type {\n",
       "        vertical-align: middle;\n",
       "    }\n",
       "\n",
       "    .dataframe tbody tr th {\n",
       "        vertical-align: top;\n",
       "    }\n",
       "\n",
       "    .dataframe thead th {\n",
       "        text-align: right;\n",
       "    }\n",
       "</style>\n",
       "<table border=\"1\" class=\"dataframe\">\n",
       "  <thead>\n",
       "    <tr style=\"text-align: right;\">\n",
       "      <th></th>\n",
       "      <th>radius_mean</th>\n",
       "      <th>texture_mean</th>\n",
       "      <th>perimeter_mean</th>\n",
       "      <th>area_mean</th>\n",
       "      <th>smoothness_mean</th>\n",
       "      <th>compactness_mean</th>\n",
       "      <th>concavity_mean</th>\n",
       "      <th>concave points_mean</th>\n",
       "      <th>symmetry_mean</th>\n",
       "      <th>fractal_dimension_mean</th>\n",
       "      <th>...</th>\n",
       "      <th>texture_worst</th>\n",
       "      <th>perimeter_worst</th>\n",
       "      <th>area_worst</th>\n",
       "      <th>smoothness_worst</th>\n",
       "      <th>compactness_worst</th>\n",
       "      <th>concavity_worst</th>\n",
       "      <th>concave points_worst</th>\n",
       "      <th>symmetry_worst</th>\n",
       "      <th>fractal_dimension_worst</th>\n",
       "      <th>benign_0__mal_1</th>\n",
       "    </tr>\n",
       "  </thead>\n",
       "  <tbody>\n",
       "    <tr>\n",
       "      <th>count</th>\n",
       "      <td>569.000000</td>\n",
       "      <td>569.000000</td>\n",
       "      <td>569.000000</td>\n",
       "      <td>569.000000</td>\n",
       "      <td>569.000000</td>\n",
       "      <td>569.000000</td>\n",
       "      <td>569.000000</td>\n",
       "      <td>569.000000</td>\n",
       "      <td>569.000000</td>\n",
       "      <td>569.000000</td>\n",
       "      <td>...</td>\n",
       "      <td>569.000000</td>\n",
       "      <td>569.000000</td>\n",
       "      <td>569.000000</td>\n",
       "      <td>569.000000</td>\n",
       "      <td>569.000000</td>\n",
       "      <td>569.000000</td>\n",
       "      <td>569.000000</td>\n",
       "      <td>569.000000</td>\n",
       "      <td>569.000000</td>\n",
       "      <td>569.000000</td>\n",
       "    </tr>\n",
       "    <tr>\n",
       "      <th>mean</th>\n",
       "      <td>14.127292</td>\n",
       "      <td>19.289649</td>\n",
       "      <td>91.969033</td>\n",
       "      <td>654.889104</td>\n",
       "      <td>0.096360</td>\n",
       "      <td>0.104341</td>\n",
       "      <td>0.088799</td>\n",
       "      <td>0.048919</td>\n",
       "      <td>0.181162</td>\n",
       "      <td>0.062798</td>\n",
       "      <td>...</td>\n",
       "      <td>25.677223</td>\n",
       "      <td>107.261213</td>\n",
       "      <td>880.583128</td>\n",
       "      <td>0.132369</td>\n",
       "      <td>0.254265</td>\n",
       "      <td>0.272188</td>\n",
       "      <td>0.114606</td>\n",
       "      <td>0.290076</td>\n",
       "      <td>0.083946</td>\n",
       "      <td>0.372583</td>\n",
       "    </tr>\n",
       "    <tr>\n",
       "      <th>std</th>\n",
       "      <td>3.524049</td>\n",
       "      <td>4.301036</td>\n",
       "      <td>24.298981</td>\n",
       "      <td>351.914129</td>\n",
       "      <td>0.014064</td>\n",
       "      <td>0.052813</td>\n",
       "      <td>0.079720</td>\n",
       "      <td>0.038803</td>\n",
       "      <td>0.027414</td>\n",
       "      <td>0.007060</td>\n",
       "      <td>...</td>\n",
       "      <td>6.146258</td>\n",
       "      <td>33.602542</td>\n",
       "      <td>569.356993</td>\n",
       "      <td>0.022832</td>\n",
       "      <td>0.157336</td>\n",
       "      <td>0.208624</td>\n",
       "      <td>0.065732</td>\n",
       "      <td>0.061867</td>\n",
       "      <td>0.018061</td>\n",
       "      <td>0.483918</td>\n",
       "    </tr>\n",
       "    <tr>\n",
       "      <th>min</th>\n",
       "      <td>6.981000</td>\n",
       "      <td>9.710000</td>\n",
       "      <td>43.790000</td>\n",
       "      <td>143.500000</td>\n",
       "      <td>0.052630</td>\n",
       "      <td>0.019380</td>\n",
       "      <td>0.000000</td>\n",
       "      <td>0.000000</td>\n",
       "      <td>0.106000</td>\n",
       "      <td>0.049960</td>\n",
       "      <td>...</td>\n",
       "      <td>12.020000</td>\n",
       "      <td>50.410000</td>\n",
       "      <td>185.200000</td>\n",
       "      <td>0.071170</td>\n",
       "      <td>0.027290</td>\n",
       "      <td>0.000000</td>\n",
       "      <td>0.000000</td>\n",
       "      <td>0.156500</td>\n",
       "      <td>0.055040</td>\n",
       "      <td>0.000000</td>\n",
       "    </tr>\n",
       "    <tr>\n",
       "      <th>25%</th>\n",
       "      <td>11.700000</td>\n",
       "      <td>16.170000</td>\n",
       "      <td>75.170000</td>\n",
       "      <td>420.300000</td>\n",
       "      <td>0.086370</td>\n",
       "      <td>0.064920</td>\n",
       "      <td>0.029560</td>\n",
       "      <td>0.020310</td>\n",
       "      <td>0.161900</td>\n",
       "      <td>0.057700</td>\n",
       "      <td>...</td>\n",
       "      <td>21.080000</td>\n",
       "      <td>84.110000</td>\n",
       "      <td>515.300000</td>\n",
       "      <td>0.116600</td>\n",
       "      <td>0.147200</td>\n",
       "      <td>0.114500</td>\n",
       "      <td>0.064930</td>\n",
       "      <td>0.250400</td>\n",
       "      <td>0.071460</td>\n",
       "      <td>0.000000</td>\n",
       "    </tr>\n",
       "    <tr>\n",
       "      <th>50%</th>\n",
       "      <td>13.370000</td>\n",
       "      <td>18.840000</td>\n",
       "      <td>86.240000</td>\n",
       "      <td>551.100000</td>\n",
       "      <td>0.095870</td>\n",
       "      <td>0.092630</td>\n",
       "      <td>0.061540</td>\n",
       "      <td>0.033500</td>\n",
       "      <td>0.179200</td>\n",
       "      <td>0.061540</td>\n",
       "      <td>...</td>\n",
       "      <td>25.410000</td>\n",
       "      <td>97.660000</td>\n",
       "      <td>686.500000</td>\n",
       "      <td>0.131300</td>\n",
       "      <td>0.211900</td>\n",
       "      <td>0.226700</td>\n",
       "      <td>0.099930</td>\n",
       "      <td>0.282200</td>\n",
       "      <td>0.080040</td>\n",
       "      <td>0.000000</td>\n",
       "    </tr>\n",
       "    <tr>\n",
       "      <th>75%</th>\n",
       "      <td>15.780000</td>\n",
       "      <td>21.800000</td>\n",
       "      <td>104.100000</td>\n",
       "      <td>782.700000</td>\n",
       "      <td>0.105300</td>\n",
       "      <td>0.130400</td>\n",
       "      <td>0.130700</td>\n",
       "      <td>0.074000</td>\n",
       "      <td>0.195700</td>\n",
       "      <td>0.066120</td>\n",
       "      <td>...</td>\n",
       "      <td>29.720000</td>\n",
       "      <td>125.400000</td>\n",
       "      <td>1084.000000</td>\n",
       "      <td>0.146000</td>\n",
       "      <td>0.339100</td>\n",
       "      <td>0.382900</td>\n",
       "      <td>0.161400</td>\n",
       "      <td>0.317900</td>\n",
       "      <td>0.092080</td>\n",
       "      <td>1.000000</td>\n",
       "    </tr>\n",
       "    <tr>\n",
       "      <th>max</th>\n",
       "      <td>28.110000</td>\n",
       "      <td>39.280000</td>\n",
       "      <td>188.500000</td>\n",
       "      <td>2501.000000</td>\n",
       "      <td>0.163400</td>\n",
       "      <td>0.345400</td>\n",
       "      <td>0.426800</td>\n",
       "      <td>0.201200</td>\n",
       "      <td>0.304000</td>\n",
       "      <td>0.097440</td>\n",
       "      <td>...</td>\n",
       "      <td>49.540000</td>\n",
       "      <td>251.200000</td>\n",
       "      <td>4254.000000</td>\n",
       "      <td>0.222600</td>\n",
       "      <td>1.058000</td>\n",
       "      <td>1.252000</td>\n",
       "      <td>0.291000</td>\n",
       "      <td>0.663800</td>\n",
       "      <td>0.207500</td>\n",
       "      <td>1.000000</td>\n",
       "    </tr>\n",
       "  </tbody>\n",
       "</table>\n",
       "<p>8 rows × 31 columns</p>\n",
       "</div>"
      ],
      "text/plain": [
       "       radius_mean  texture_mean  perimeter_mean    area_mean  \\\n",
       "count   569.000000    569.000000      569.000000   569.000000   \n",
       "mean     14.127292     19.289649       91.969033   654.889104   \n",
       "std       3.524049      4.301036       24.298981   351.914129   \n",
       "min       6.981000      9.710000       43.790000   143.500000   \n",
       "25%      11.700000     16.170000       75.170000   420.300000   \n",
       "50%      13.370000     18.840000       86.240000   551.100000   \n",
       "75%      15.780000     21.800000      104.100000   782.700000   \n",
       "max      28.110000     39.280000      188.500000  2501.000000   \n",
       "\n",
       "       smoothness_mean  compactness_mean  concavity_mean  concave points_mean  \\\n",
       "count       569.000000        569.000000      569.000000           569.000000   \n",
       "mean          0.096360          0.104341        0.088799             0.048919   \n",
       "std           0.014064          0.052813        0.079720             0.038803   \n",
       "min           0.052630          0.019380        0.000000             0.000000   \n",
       "25%           0.086370          0.064920        0.029560             0.020310   \n",
       "50%           0.095870          0.092630        0.061540             0.033500   \n",
       "75%           0.105300          0.130400        0.130700             0.074000   \n",
       "max           0.163400          0.345400        0.426800             0.201200   \n",
       "\n",
       "       symmetry_mean  fractal_dimension_mean  ...  texture_worst  \\\n",
       "count     569.000000              569.000000  ...     569.000000   \n",
       "mean        0.181162                0.062798  ...      25.677223   \n",
       "std         0.027414                0.007060  ...       6.146258   \n",
       "min         0.106000                0.049960  ...      12.020000   \n",
       "25%         0.161900                0.057700  ...      21.080000   \n",
       "50%         0.179200                0.061540  ...      25.410000   \n",
       "75%         0.195700                0.066120  ...      29.720000   \n",
       "max         0.304000                0.097440  ...      49.540000   \n",
       "\n",
       "       perimeter_worst   area_worst  smoothness_worst  compactness_worst  \\\n",
       "count       569.000000   569.000000        569.000000         569.000000   \n",
       "mean        107.261213   880.583128          0.132369           0.254265   \n",
       "std          33.602542   569.356993          0.022832           0.157336   \n",
       "min          50.410000   185.200000          0.071170           0.027290   \n",
       "25%          84.110000   515.300000          0.116600           0.147200   \n",
       "50%          97.660000   686.500000          0.131300           0.211900   \n",
       "75%         125.400000  1084.000000          0.146000           0.339100   \n",
       "max         251.200000  4254.000000          0.222600           1.058000   \n",
       "\n",
       "       concavity_worst  concave points_worst  symmetry_worst  \\\n",
       "count       569.000000            569.000000      569.000000   \n",
       "mean          0.272188              0.114606        0.290076   \n",
       "std           0.208624              0.065732        0.061867   \n",
       "min           0.000000              0.000000        0.156500   \n",
       "25%           0.114500              0.064930        0.250400   \n",
       "50%           0.226700              0.099930        0.282200   \n",
       "75%           0.382900              0.161400        0.317900   \n",
       "max           1.252000              0.291000        0.663800   \n",
       "\n",
       "       fractal_dimension_worst  benign_0__mal_1  \n",
       "count               569.000000       569.000000  \n",
       "mean                  0.083946         0.372583  \n",
       "std                   0.018061         0.483918  \n",
       "min                   0.055040         0.000000  \n",
       "25%                   0.071460         0.000000  \n",
       "50%                   0.080040         0.000000  \n",
       "75%                   0.092080         1.000000  \n",
       "max                   0.207500         1.000000  \n",
       "\n",
       "[8 rows x 31 columns]"
      ]
     },
     "execution_count": 24,
     "metadata": {},
     "output_type": "execute_result"
    }
   ],
   "source": [
    "df.describe()"
   ]
  },
  {
   "cell_type": "code",
   "execution_count": 23,
   "id": "d4ea8d41",
   "metadata": {},
   "outputs": [
    {
     "data": {
      "text/html": [
       "<div>\n",
       "<style scoped>\n",
       "    .dataframe tbody tr th:only-of-type {\n",
       "        vertical-align: middle;\n",
       "    }\n",
       "\n",
       "    .dataframe tbody tr th {\n",
       "        vertical-align: top;\n",
       "    }\n",
       "\n",
       "    .dataframe thead th {\n",
       "        text-align: right;\n",
       "    }\n",
       "</style>\n",
       "<table border=\"1\" class=\"dataframe\">\n",
       "  <thead>\n",
       "    <tr style=\"text-align: right;\">\n",
       "      <th></th>\n",
       "      <th>0</th>\n",
       "      <th>1</th>\n",
       "      <th>2</th>\n",
       "      <th>3</th>\n",
       "      <th>4</th>\n",
       "      <th>5</th>\n",
       "      <th>6</th>\n",
       "      <th>7</th>\n",
       "      <th>8</th>\n",
       "      <th>9</th>\n",
       "      <th>...</th>\n",
       "      <th>20</th>\n",
       "      <th>21</th>\n",
       "      <th>22</th>\n",
       "      <th>23</th>\n",
       "      <th>24</th>\n",
       "      <th>25</th>\n",
       "      <th>26</th>\n",
       "      <th>27</th>\n",
       "      <th>28</th>\n",
       "      <th>29</th>\n",
       "    </tr>\n",
       "  </thead>\n",
       "  <tbody>\n",
       "    <tr>\n",
       "      <th>0</th>\n",
       "      <td>0.341663</td>\n",
       "      <td>0.365911</td>\n",
       "      <td>0.335982</td>\n",
       "      <td>0.201442</td>\n",
       "      <td>0.331137</td>\n",
       "      <td>0.280412</td>\n",
       "      <td>0.118627</td>\n",
       "      <td>0.151988</td>\n",
       "      <td>0.225253</td>\n",
       "      <td>0.213353</td>\n",
       "      <td>...</td>\n",
       "      <td>0.303095</td>\n",
       "      <td>0.406183</td>\n",
       "      <td>0.307236</td>\n",
       "      <td>0.158106</td>\n",
       "      <td>0.291422</td>\n",
       "      <td>0.306206</td>\n",
       "      <td>0.200639</td>\n",
       "      <td>0.460137</td>\n",
       "      <td>0.191011</td>\n",
       "      <td>0.154401</td>\n",
       "    </tr>\n",
       "    <tr>\n",
       "      <th>1</th>\n",
       "      <td>0.246533</td>\n",
       "      <td>0.121069</td>\n",
       "      <td>0.243867</td>\n",
       "      <td>0.132471</td>\n",
       "      <td>0.487226</td>\n",
       "      <td>0.232225</td>\n",
       "      <td>0.066893</td>\n",
       "      <td>0.143241</td>\n",
       "      <td>0.414141</td>\n",
       "      <td>0.310657</td>\n",
       "      <td>...</td>\n",
       "      <td>0.192458</td>\n",
       "      <td>0.154318</td>\n",
       "      <td>0.204044</td>\n",
       "      <td>0.088478</td>\n",
       "      <td>0.472363</td>\n",
       "      <td>0.224321</td>\n",
       "      <td>0.079193</td>\n",
       "      <td>0.281340</td>\n",
       "      <td>0.375320</td>\n",
       "      <td>0.245113</td>\n",
       "    </tr>\n",
       "    <tr>\n",
       "      <th>2</th>\n",
       "      <td>0.294335</td>\n",
       "      <td>0.261075</td>\n",
       "      <td>0.278764</td>\n",
       "      <td>0.168865</td>\n",
       "      <td>0.176221</td>\n",
       "      <td>0.079320</td>\n",
       "      <td>0.101593</td>\n",
       "      <td>0.054920</td>\n",
       "      <td>0.215657</td>\n",
       "      <td>0.134583</td>\n",
       "      <td>...</td>\n",
       "      <td>0.213803</td>\n",
       "      <td>0.421109</td>\n",
       "      <td>0.188605</td>\n",
       "      <td>0.102438</td>\n",
       "      <td>0.257082</td>\n",
       "      <td>0.119830</td>\n",
       "      <td>0.183546</td>\n",
       "      <td>0.170790</td>\n",
       "      <td>0.236941</td>\n",
       "      <td>0.111111</td>\n",
       "    </tr>\n",
       "    <tr>\n",
       "      <th>3</th>\n",
       "      <td>0.385205</td>\n",
       "      <td>0.235712</td>\n",
       "      <td>0.380001</td>\n",
       "      <td>0.243097</td>\n",
       "      <td>0.326171</td>\n",
       "      <td>0.234648</td>\n",
       "      <td>0.176898</td>\n",
       "      <td>0.202734</td>\n",
       "      <td>0.269697</td>\n",
       "      <td>0.208509</td>\n",
       "      <td>...</td>\n",
       "      <td>0.350053</td>\n",
       "      <td>0.219083</td>\n",
       "      <td>0.335126</td>\n",
       "      <td>0.197675</td>\n",
       "      <td>0.514627</td>\n",
       "      <td>0.296698</td>\n",
       "      <td>0.265735</td>\n",
       "      <td>0.430241</td>\n",
       "      <td>0.364676</td>\n",
       "      <td>0.277843</td>\n",
       "    </tr>\n",
       "    <tr>\n",
       "      <th>4</th>\n",
       "      <td>0.364381</td>\n",
       "      <td>0.352384</td>\n",
       "      <td>0.352083</td>\n",
       "      <td>0.229480</td>\n",
       "      <td>0.415636</td>\n",
       "      <td>0.161401</td>\n",
       "      <td>0.173266</td>\n",
       "      <td>0.261382</td>\n",
       "      <td>0.265657</td>\n",
       "      <td>0.195029</td>\n",
       "      <td>...</td>\n",
       "      <td>0.396300</td>\n",
       "      <td>0.502665</td>\n",
       "      <td>0.363514</td>\n",
       "      <td>0.234172</td>\n",
       "      <td>0.496797</td>\n",
       "      <td>0.155048</td>\n",
       "      <td>0.232748</td>\n",
       "      <td>0.552921</td>\n",
       "      <td>0.288587</td>\n",
       "      <td>0.177883</td>\n",
       "    </tr>\n",
       "  </tbody>\n",
       "</table>\n",
       "<p>5 rows × 30 columns</p>\n",
       "</div>"
      ],
      "text/plain": [
       "         0         1         2         3         4         5         6   \\\n",
       "0  0.341663  0.365911  0.335982  0.201442  0.331137  0.280412  0.118627   \n",
       "1  0.246533  0.121069  0.243867  0.132471  0.487226  0.232225  0.066893   \n",
       "2  0.294335  0.261075  0.278764  0.168865  0.176221  0.079320  0.101593   \n",
       "3  0.385205  0.235712  0.380001  0.243097  0.326171  0.234648  0.176898   \n",
       "4  0.364381  0.352384  0.352083  0.229480  0.415636  0.161401  0.173266   \n",
       "\n",
       "         7         8         9   ...        20        21        22        23  \\\n",
       "0  0.151988  0.225253  0.213353  ...  0.303095  0.406183  0.307236  0.158106   \n",
       "1  0.143241  0.414141  0.310657  ...  0.192458  0.154318  0.204044  0.088478   \n",
       "2  0.054920  0.215657  0.134583  ...  0.213803  0.421109  0.188605  0.102438   \n",
       "3  0.202734  0.269697  0.208509  ...  0.350053  0.219083  0.335126  0.197675   \n",
       "4  0.261382  0.265657  0.195029  ...  0.396300  0.502665  0.363514  0.234172   \n",
       "\n",
       "         24        25        26        27        28        29  \n",
       "0  0.291422  0.306206  0.200639  0.460137  0.191011  0.154401  \n",
       "1  0.472363  0.224321  0.079193  0.281340  0.375320  0.245113  \n",
       "2  0.257082  0.119830  0.183546  0.170790  0.236941  0.111111  \n",
       "3  0.514627  0.296698  0.265735  0.430241  0.364676  0.277843  \n",
       "4  0.496797  0.155048  0.232748  0.552921  0.288587  0.177883  \n",
       "\n",
       "[5 rows x 30 columns]"
      ]
     },
     "execution_count": 23,
     "metadata": {},
     "output_type": "execute_result"
    }
   ],
   "source": [
    "X_train_df = pd.DataFrame(X_train)\n",
    "X_train_df.head()"
   ]
  },
  {
   "cell_type": "code",
   "execution_count": 26,
   "id": "a3a06312-02ad-4697-af8b-3d99807f3e29",
   "metadata": {},
   "outputs": [
    {
     "data": {
      "text/plain": [
       "(569, 31)"
      ]
     },
     "execution_count": 26,
     "metadata": {},
     "output_type": "execute_result"
    }
   ],
   "source": [
    "df.shape"
   ]
  },
  {
   "cell_type": "code",
   "execution_count": 25,
   "id": "80c490ea",
   "metadata": {},
   "outputs": [],
   "source": [
    "import tensorflow as tf\n",
    "from tensorflow.keras.models import Sequential\n",
    "from tensorflow.keras.layers import Dense, InputLayer,Dropout"
   ]
  },
  {
   "cell_type": "code",
   "execution_count": 27,
   "id": "da66d3f8",
   "metadata": {},
   "outputs": [
    {
     "name": "stdout",
     "output_type": "stream",
     "text": [
      "Model: \"sequential\"\n",
      "_________________________________________________________________\n",
      " Layer (type)                Output Shape              Param #   \n",
      "=================================================================\n",
      " dense (Dense)               (None, 26)                806       \n",
      "                                                                 \n",
      " dense_1 (Dense)             (None, 15)                405       \n",
      "                                                                 \n",
      " dense_2 (Dense)             (None, 1)                 16        \n",
      "                                                                 \n",
      "=================================================================\n",
      "Total params: 1227 (4.79 KB)\n",
      "Trainable params: 1227 (4.79 KB)\n",
      "Non-trainable params: 0 (0.00 Byte)\n",
      "_________________________________________________________________\n"
     ]
    }
   ],
   "source": [
    "# Creating the model\n",
    "model1 = Sequential()\n",
    "model1.add(InputLayer(input_shape=(30,)))  # Input layer with 26 input features\n",
    "model1.add(Dense(26, activation='relu'))  # First hidden layer\n",
    "model1.add(Dense(15, activation='relu'))  # Second hidden layer\n",
    "model1.add(Dense(1, activation='sigmoid'))  # Output layer\n",
    "model1.summary()"
   ]
  },
  {
   "cell_type": "code",
   "execution_count": 28,
   "id": "43fc565e",
   "metadata": {},
   "outputs": [],
   "source": [
    "model1.compile(loss='binary_crossentropy', optimizer='adam',metrics=['accuracy'])"
   ]
  },
  {
   "cell_type": "code",
   "execution_count": 29,
   "id": "c56a3f2c",
   "metadata": {},
   "outputs": [
    {
     "name": "stdout",
     "output_type": "stream",
     "text": [
      "Epoch 1/100\n",
      "15/15 [==============================] - 1s 23ms/step - loss: 0.6694 - accuracy: 0.6923 - val_loss: 0.6393 - val_accuracy: 0.7632\n",
      "Epoch 2/100\n",
      "15/15 [==============================] - 0s 5ms/step - loss: 0.6093 - accuracy: 0.8374 - val_loss: 0.5680 - val_accuracy: 0.8947\n",
      "Epoch 3/100\n",
      "15/15 [==============================] - 0s 6ms/step - loss: 0.5482 - accuracy: 0.8527 - val_loss: 0.5129 - val_accuracy: 0.8860\n",
      "Epoch 4/100\n",
      "15/15 [==============================] - 0s 6ms/step - loss: 0.4942 - accuracy: 0.8747 - val_loss: 0.4580 - val_accuracy: 0.8860\n",
      "Epoch 5/100\n",
      "15/15 [==============================] - 0s 7ms/step - loss: 0.4403 - accuracy: 0.8747 - val_loss: 0.4107 - val_accuracy: 0.8860\n",
      "Epoch 6/100\n",
      "15/15 [==============================] - 0s 6ms/step - loss: 0.3922 - accuracy: 0.8813 - val_loss: 0.3942 - val_accuracy: 0.8421\n",
      "Epoch 7/100\n",
      "15/15 [==============================] - 0s 6ms/step - loss: 0.3584 - accuracy: 0.8989 - val_loss: 0.3644 - val_accuracy: 0.8421\n",
      "Epoch 8/100\n",
      "15/15 [==============================] - 0s 5ms/step - loss: 0.3179 - accuracy: 0.8967 - val_loss: 0.3283 - val_accuracy: 0.8684\n",
      "Epoch 9/100\n",
      "15/15 [==============================] - 0s 5ms/step - loss: 0.2885 - accuracy: 0.9055 - val_loss: 0.3203 - val_accuracy: 0.8509\n",
      "Epoch 10/100\n",
      "15/15 [==============================] - 0s 5ms/step - loss: 0.2653 - accuracy: 0.9077 - val_loss: 0.3228 - val_accuracy: 0.8509\n",
      "Epoch 11/100\n",
      "15/15 [==============================] - 0s 4ms/step - loss: 0.2453 - accuracy: 0.9165 - val_loss: 0.3404 - val_accuracy: 0.8333\n",
      "Epoch 12/100\n",
      "15/15 [==============================] - 0s 4ms/step - loss: 0.2284 - accuracy: 0.9165 - val_loss: 0.2776 - val_accuracy: 0.8684\n",
      "Epoch 13/100\n",
      "15/15 [==============================] - 0s 7ms/step - loss: 0.2167 - accuracy: 0.9231 - val_loss: 0.3344 - val_accuracy: 0.8421\n",
      "Epoch 14/100\n",
      "15/15 [==============================] - 0s 7ms/step - loss: 0.2019 - accuracy: 0.9297 - val_loss: 0.3182 - val_accuracy: 0.8421\n",
      "Epoch 15/100\n",
      "15/15 [==============================] - 0s 7ms/step - loss: 0.1886 - accuracy: 0.9297 - val_loss: 0.2876 - val_accuracy: 0.8509\n",
      "Epoch 16/100\n",
      "15/15 [==============================] - 0s 5ms/step - loss: 0.1816 - accuracy: 0.9297 - val_loss: 0.3577 - val_accuracy: 0.8246\n",
      "Epoch 17/100\n",
      "15/15 [==============================] - 0s 5ms/step - loss: 0.1738 - accuracy: 0.9341 - val_loss: 0.2953 - val_accuracy: 0.8421\n",
      "Epoch 18/100\n",
      "15/15 [==============================] - 0s 5ms/step - loss: 0.1620 - accuracy: 0.9451 - val_loss: 0.3552 - val_accuracy: 0.8158\n",
      "Epoch 19/100\n",
      "15/15 [==============================] - 0s 6ms/step - loss: 0.1672 - accuracy: 0.9407 - val_loss: 0.3482 - val_accuracy: 0.8158\n",
      "Epoch 20/100\n",
      "15/15 [==============================] - 0s 6ms/step - loss: 0.1479 - accuracy: 0.9473 - val_loss: 0.3097 - val_accuracy: 0.8509\n",
      "Epoch 21/100\n",
      "15/15 [==============================] - 0s 6ms/step - loss: 0.1422 - accuracy: 0.9516 - val_loss: 0.3875 - val_accuracy: 0.8070\n",
      "Epoch 22/100\n",
      "15/15 [==============================] - 0s 5ms/step - loss: 0.1365 - accuracy: 0.9626 - val_loss: 0.3461 - val_accuracy: 0.8421\n",
      "Epoch 23/100\n",
      "15/15 [==============================] - 0s 5ms/step - loss: 0.1482 - accuracy: 0.9407 - val_loss: 0.3665 - val_accuracy: 0.8246\n",
      "Epoch 24/100\n",
      "15/15 [==============================] - 0s 5ms/step - loss: 0.1309 - accuracy: 0.9582 - val_loss: 0.3870 - val_accuracy: 0.8158\n",
      "Epoch 25/100\n",
      "15/15 [==============================] - 0s 5ms/step - loss: 0.1214 - accuracy: 0.9560 - val_loss: 0.3567 - val_accuracy: 0.8333\n",
      "Epoch 26/100\n",
      "15/15 [==============================] - 0s 8ms/step - loss: 0.1161 - accuracy: 0.9648 - val_loss: 0.4260 - val_accuracy: 0.7982\n",
      "Epoch 27/100\n",
      "15/15 [==============================] - 0s 7ms/step - loss: 0.1125 - accuracy: 0.9648 - val_loss: 0.3767 - val_accuracy: 0.8333\n",
      "Epoch 28/100\n",
      "15/15 [==============================] - 0s 7ms/step - loss: 0.1121 - accuracy: 0.9626 - val_loss: 0.4343 - val_accuracy: 0.8070\n",
      "Epoch 29/100\n",
      "15/15 [==============================] - 0s 7ms/step - loss: 0.1042 - accuracy: 0.9648 - val_loss: 0.3723 - val_accuracy: 0.8333\n",
      "Epoch 30/100\n",
      "15/15 [==============================] - 0s 8ms/step - loss: 0.1024 - accuracy: 0.9670 - val_loss: 0.4753 - val_accuracy: 0.7807\n",
      "Epoch 31/100\n",
      "15/15 [==============================] - 0s 6ms/step - loss: 0.0991 - accuracy: 0.9714 - val_loss: 0.4409 - val_accuracy: 0.8158\n",
      "Epoch 32/100\n",
      "15/15 [==============================] - 0s 6ms/step - loss: 0.0984 - accuracy: 0.9670 - val_loss: 0.4720 - val_accuracy: 0.7982\n",
      "Epoch 33/100\n",
      "15/15 [==============================] - 0s 6ms/step - loss: 0.0941 - accuracy: 0.9758 - val_loss: 0.5041 - val_accuracy: 0.7632\n",
      "Epoch 34/100\n",
      "15/15 [==============================] - 0s 7ms/step - loss: 0.0903 - accuracy: 0.9736 - val_loss: 0.4625 - val_accuracy: 0.8158\n",
      "Epoch 35/100\n",
      "15/15 [==============================] - 0s 8ms/step - loss: 0.0879 - accuracy: 0.9714 - val_loss: 0.5299 - val_accuracy: 0.7632\n",
      "Epoch 36/100\n",
      "15/15 [==============================] - 0s 6ms/step - loss: 0.0876 - accuracy: 0.9758 - val_loss: 0.4919 - val_accuracy: 0.7895\n",
      "Epoch 37/100\n",
      "15/15 [==============================] - 0s 6ms/step - loss: 0.0850 - accuracy: 0.9846 - val_loss: 0.5630 - val_accuracy: 0.7544\n",
      "Epoch 38/100\n",
      "15/15 [==============================] - 0s 7ms/step - loss: 0.0832 - accuracy: 0.9714 - val_loss: 0.5408 - val_accuracy: 0.7719\n",
      "Epoch 39/100\n",
      "15/15 [==============================] - 0s 5ms/step - loss: 0.0795 - accuracy: 0.9824 - val_loss: 0.5429 - val_accuracy: 0.7719\n",
      "Epoch 40/100\n",
      "15/15 [==============================] - 0s 6ms/step - loss: 0.0786 - accuracy: 0.9780 - val_loss: 0.5760 - val_accuracy: 0.7719\n",
      "Epoch 41/100\n",
      "15/15 [==============================] - 0s 6ms/step - loss: 0.0759 - accuracy: 0.9846 - val_loss: 0.5677 - val_accuracy: 0.7719\n",
      "Epoch 42/100\n",
      "15/15 [==============================] - 0s 7ms/step - loss: 0.0750 - accuracy: 0.9802 - val_loss: 0.5973 - val_accuracy: 0.7719\n",
      "Epoch 43/100\n",
      "15/15 [==============================] - 0s 7ms/step - loss: 0.0756 - accuracy: 0.9868 - val_loss: 0.5835 - val_accuracy: 0.7719\n",
      "Epoch 44/100\n",
      "15/15 [==============================] - 0s 6ms/step - loss: 0.0728 - accuracy: 0.9758 - val_loss: 0.6247 - val_accuracy: 0.7719\n",
      "Epoch 45/100\n",
      "15/15 [==============================] - 0s 7ms/step - loss: 0.0719 - accuracy: 0.9868 - val_loss: 0.6126 - val_accuracy: 0.7719\n",
      "Epoch 46/100\n",
      "15/15 [==============================] - 0s 5ms/step - loss: 0.0714 - accuracy: 0.9736 - val_loss: 0.6389 - val_accuracy: 0.7719\n",
      "Epoch 47/100\n",
      "15/15 [==============================] - 0s 7ms/step - loss: 0.0689 - accuracy: 0.9846 - val_loss: 0.6626 - val_accuracy: 0.7719\n",
      "Epoch 48/100\n",
      "15/15 [==============================] - 0s 6ms/step - loss: 0.0710 - accuracy: 0.9824 - val_loss: 0.6907 - val_accuracy: 0.7719\n",
      "Epoch 49/100\n",
      "15/15 [==============================] - 0s 6ms/step - loss: 0.0661 - accuracy: 0.9846 - val_loss: 0.6941 - val_accuracy: 0.7719\n",
      "Epoch 50/100\n",
      "15/15 [==============================] - 0s 7ms/step - loss: 0.0667 - accuracy: 0.9802 - val_loss: 0.6849 - val_accuracy: 0.7719\n",
      "Epoch 51/100\n",
      "15/15 [==============================] - 0s 7ms/step - loss: 0.0666 - accuracy: 0.9846 - val_loss: 0.6712 - val_accuracy: 0.7719\n",
      "Epoch 52/100\n",
      "15/15 [==============================] - 0s 5ms/step - loss: 0.0639 - accuracy: 0.9824 - val_loss: 0.7596 - val_accuracy: 0.7544\n",
      "Epoch 53/100\n",
      "15/15 [==============================] - 0s 5ms/step - loss: 0.0644 - accuracy: 0.9846 - val_loss: 0.6785 - val_accuracy: 0.7719\n",
      "Epoch 54/100\n",
      "15/15 [==============================] - 0s 5ms/step - loss: 0.0638 - accuracy: 0.9780 - val_loss: 0.7883 - val_accuracy: 0.7456\n",
      "Epoch 55/100\n",
      "15/15 [==============================] - 0s 5ms/step - loss: 0.0623 - accuracy: 0.9846 - val_loss: 0.7441 - val_accuracy: 0.7719\n",
      "Epoch 56/100\n",
      "15/15 [==============================] - 0s 4ms/step - loss: 0.0619 - accuracy: 0.9802 - val_loss: 0.8405 - val_accuracy: 0.7456\n",
      "Epoch 57/100\n",
      "15/15 [==============================] - 0s 4ms/step - loss: 0.0647 - accuracy: 0.9802 - val_loss: 0.7492 - val_accuracy: 0.7719\n",
      "Epoch 58/100\n",
      "15/15 [==============================] - 0s 5ms/step - loss: 0.0595 - accuracy: 0.9846 - val_loss: 0.7943 - val_accuracy: 0.7456\n",
      "Epoch 59/100\n",
      "15/15 [==============================] - 0s 4ms/step - loss: 0.0597 - accuracy: 0.9824 - val_loss: 0.7856 - val_accuracy: 0.7456\n",
      "Epoch 60/100\n",
      "15/15 [==============================] - 0s 4ms/step - loss: 0.0593 - accuracy: 0.9846 - val_loss: 0.8228 - val_accuracy: 0.7456\n",
      "Epoch 61/100\n",
      "15/15 [==============================] - 0s 4ms/step - loss: 0.0576 - accuracy: 0.9824 - val_loss: 0.7754 - val_accuracy: 0.7719\n",
      "Epoch 62/100\n",
      "15/15 [==============================] - 0s 4ms/step - loss: 0.0576 - accuracy: 0.9824 - val_loss: 0.8488 - val_accuracy: 0.7456\n",
      "Epoch 63/100\n",
      "15/15 [==============================] - 0s 5ms/step - loss: 0.0572 - accuracy: 0.9846 - val_loss: 0.8004 - val_accuracy: 0.7544\n",
      "Epoch 64/100\n",
      "15/15 [==============================] - 0s 4ms/step - loss: 0.0569 - accuracy: 0.9824 - val_loss: 0.8662 - val_accuracy: 0.7456\n",
      "Epoch 65/100\n",
      "15/15 [==============================] - 0s 5ms/step - loss: 0.0558 - accuracy: 0.9846 - val_loss: 0.8064 - val_accuracy: 0.7632\n",
      "Epoch 66/100\n",
      "15/15 [==============================] - 0s 4ms/step - loss: 0.0558 - accuracy: 0.9846 - val_loss: 0.8743 - val_accuracy: 0.7456\n",
      "Epoch 67/100\n",
      "15/15 [==============================] - 0s 4ms/step - loss: 0.0565 - accuracy: 0.9802 - val_loss: 0.8214 - val_accuracy: 0.7632\n",
      "Epoch 68/100\n",
      "15/15 [==============================] - 0s 4ms/step - loss: 0.0561 - accuracy: 0.9824 - val_loss: 0.8984 - val_accuracy: 0.7368\n",
      "Epoch 69/100\n",
      "15/15 [==============================] - 0s 5ms/step - loss: 0.0551 - accuracy: 0.9846 - val_loss: 0.9145 - val_accuracy: 0.7281\n",
      "Epoch 70/100\n",
      "15/15 [==============================] - 0s 4ms/step - loss: 0.0548 - accuracy: 0.9846 - val_loss: 0.8651 - val_accuracy: 0.7544\n",
      "Epoch 71/100\n",
      "15/15 [==============================] - 0s 5ms/step - loss: 0.0576 - accuracy: 0.9824 - val_loss: 0.9690 - val_accuracy: 0.7105\n",
      "Epoch 72/100\n",
      "15/15 [==============================] - 0s 4ms/step - loss: 0.0539 - accuracy: 0.9846 - val_loss: 0.9200 - val_accuracy: 0.7281\n",
      "Epoch 73/100\n",
      "15/15 [==============================] - 0s 4ms/step - loss: 0.0543 - accuracy: 0.9824 - val_loss: 0.9798 - val_accuracy: 0.7193\n",
      "Epoch 74/100\n",
      "15/15 [==============================] - 0s 5ms/step - loss: 0.0539 - accuracy: 0.9868 - val_loss: 0.8363 - val_accuracy: 0.7632\n",
      "Epoch 75/100\n",
      "15/15 [==============================] - 0s 6ms/step - loss: 0.0537 - accuracy: 0.9780 - val_loss: 0.9647 - val_accuracy: 0.7193\n",
      "Epoch 76/100\n",
      "15/15 [==============================] - 0s 6ms/step - loss: 0.0562 - accuracy: 0.9868 - val_loss: 0.8713 - val_accuracy: 0.7544\n",
      "Epoch 77/100\n",
      "15/15 [==============================] - 0s 4ms/step - loss: 0.0553 - accuracy: 0.9780 - val_loss: 1.0721 - val_accuracy: 0.7018\n",
      "Epoch 78/100\n",
      "15/15 [==============================] - 0s 4ms/step - loss: 0.0632 - accuracy: 0.9802 - val_loss: 0.8953 - val_accuracy: 0.7456\n",
      "Epoch 79/100\n",
      "15/15 [==============================] - 0s 5ms/step - loss: 0.0528 - accuracy: 0.9824 - val_loss: 1.0446 - val_accuracy: 0.7105\n",
      "Epoch 80/100\n",
      "15/15 [==============================] - 0s 4ms/step - loss: 0.0526 - accuracy: 0.9824 - val_loss: 0.9523 - val_accuracy: 0.7281\n",
      "Epoch 81/100\n",
      "15/15 [==============================] - 0s 5ms/step - loss: 0.0511 - accuracy: 0.9846 - val_loss: 0.9998 - val_accuracy: 0.7193\n",
      "Epoch 82/100\n",
      "15/15 [==============================] - 0s 5ms/step - loss: 0.0510 - accuracy: 0.9824 - val_loss: 1.0096 - val_accuracy: 0.7193\n",
      "Epoch 83/100\n",
      "15/15 [==============================] - 0s 4ms/step - loss: 0.0533 - accuracy: 0.9802 - val_loss: 1.0305 - val_accuracy: 0.7193\n",
      "Epoch 84/100\n",
      "15/15 [==============================] - 0s 4ms/step - loss: 0.0508 - accuracy: 0.9846 - val_loss: 1.0654 - val_accuracy: 0.7193\n",
      "Epoch 85/100\n",
      "15/15 [==============================] - 0s 4ms/step - loss: 0.0524 - accuracy: 0.9802 - val_loss: 0.9815 - val_accuracy: 0.7193\n",
      "Epoch 86/100\n",
      "15/15 [==============================] - 0s 4ms/step - loss: 0.0527 - accuracy: 0.9802 - val_loss: 1.1262 - val_accuracy: 0.7105\n",
      "Epoch 87/100\n",
      "15/15 [==============================] - 0s 4ms/step - loss: 0.0535 - accuracy: 0.9824 - val_loss: 1.0257 - val_accuracy: 0.7193\n",
      "Epoch 88/100\n",
      "15/15 [==============================] - 0s 4ms/step - loss: 0.0519 - accuracy: 0.9824 - val_loss: 1.0281 - val_accuracy: 0.7193\n",
      "Epoch 89/100\n",
      "15/15 [==============================] - 0s 5ms/step - loss: 0.0592 - accuracy: 0.9692 - val_loss: 1.2149 - val_accuracy: 0.6842\n",
      "Epoch 90/100\n",
      "15/15 [==============================] - 0s 5ms/step - loss: 0.0636 - accuracy: 0.9780 - val_loss: 0.9951 - val_accuracy: 0.7193\n",
      "Epoch 91/100\n",
      "15/15 [==============================] - 0s 4ms/step - loss: 0.0504 - accuracy: 0.9824 - val_loss: 1.1142 - val_accuracy: 0.7193\n",
      "Epoch 92/100\n",
      "15/15 [==============================] - 0s 4ms/step - loss: 0.0534 - accuracy: 0.9824 - val_loss: 1.0900 - val_accuracy: 0.7193\n",
      "Epoch 93/100\n",
      "15/15 [==============================] - 0s 5ms/step - loss: 0.0501 - accuracy: 0.9846 - val_loss: 1.1597 - val_accuracy: 0.7018\n",
      "Epoch 94/100\n",
      "15/15 [==============================] - 0s 4ms/step - loss: 0.0538 - accuracy: 0.9824 - val_loss: 1.0095 - val_accuracy: 0.7193\n",
      "Epoch 95/100\n",
      "15/15 [==============================] - 0s 4ms/step - loss: 0.0564 - accuracy: 0.9802 - val_loss: 1.2361 - val_accuracy: 0.6842\n",
      "Epoch 96/100\n",
      "15/15 [==============================] - 0s 5ms/step - loss: 0.0493 - accuracy: 0.9846 - val_loss: 1.0885 - val_accuracy: 0.7193\n",
      "Epoch 97/100\n",
      "15/15 [==============================] - 0s 6ms/step - loss: 0.0485 - accuracy: 0.9824 - val_loss: 1.1807 - val_accuracy: 0.7018\n",
      "Epoch 98/100\n",
      "15/15 [==============================] - 0s 6ms/step - loss: 0.0486 - accuracy: 0.9846 - val_loss: 1.1779 - val_accuracy: 0.7018\n",
      "Epoch 99/100\n",
      "15/15 [==============================] - 0s 4ms/step - loss: 0.0491 - accuracy: 0.9824 - val_loss: 1.1828 - val_accuracy: 0.7018\n",
      "Epoch 100/100\n",
      "15/15 [==============================] - 0s 4ms/step - loss: 0.0499 - accuracy: 0.9802 - val_loss: 1.2199 - val_accuracy: 0.7018\n"
     ]
    },
    {
     "data": {
      "text/plain": [
       "<keras.src.callbacks.History at 0x209891c0b20>"
      ]
     },
     "execution_count": 29,
     "metadata": {},
     "output_type": "execute_result"
    }
   ],
   "source": [
    "model1.fit(x=X_train, y=y_train, epochs=100, validation_data=(X_test,y_test))"
   ]
  },
  {
   "cell_type": "code",
   "execution_count": 30,
   "id": "bbd8f150",
   "metadata": {},
   "outputs": [],
   "source": [
    "model_loss = pd.DataFrame(model1.history.history)"
   ]
  },
  {
   "cell_type": "code",
   "execution_count": 31,
   "id": "ff97a4ee",
   "metadata": {},
   "outputs": [
    {
     "data": {
      "text/plain": [
       "<Axes: >"
      ]
     },
     "execution_count": 31,
     "metadata": {},
     "output_type": "execute_result"
    },
    {
     "data": {
      "image/png": "[encoded data removed]",
      "text/plain": [
       "<Figure size 640x480 with 1 Axes>"
      ]
     },
     "metadata": {},
     "output_type": "display_data"
    }
   ],
   "source": [
    "model_loss.plot()"
   ]
  },
  {
   "cell_type": "code",
   "execution_count": 35,
   "id": "de77200e",
   "metadata": {
    "executionInfo": {
     "elapsed": 507,
     "status": "ok",
     "timestamp": 1700227155796,
     "user": {
      "displayName": "Abdulaziz Mohammad",
      "userId": "00984729133826365059"
     },
     "user_tz": -330
    },
    "id": "de77200e"
   },
   "outputs": [],
   "source": [
    "# Early Stopping\n",
    "\n",
    "model = Sequential()\n",
    "model.add(InputLayer(input_shape=(30,)))  # Input layer with 26 input features\n",
    "model.add(Dense(units=26,activation='relu'))\n",
    "model.add(Dense(units=15,activation='relu'))\n",
    "model.add(Dense(units=1,activation='sigmoid'))\n",
    "model.compile(loss='binary_crossentropy', optimizer='adam',metrics=['accuracy'])"
   ]
  },
  {
   "cell_type": "code",
   "execution_count": 36,
   "id": "aae16d1a",
   "metadata": {
    "executionInfo": {
     "elapsed": 438,
     "status": "ok",
     "timestamp": 1700227166386,
     "user": {
      "displayName": "Abdulaziz Mohammad",
      "userId": "00984729133826365059"
     },
     "user_tz": -330
    },
    "id": "aae16d1a"
   },
   "outputs": [],
   "source": [
    "from tensorflow.keras.callbacks import EarlyStopping"
   ]
  },
  {
   "cell_type": "code",
   "execution_count": 37,
   "id": "edc39652",
   "metadata": {
    "executionInfo": {
     "elapsed": 645,
     "status": "ok",
     "timestamp": 1700227180134,
     "user": {
      "displayName": "Abdulaziz Mohammad",
      "userId": "00984729133826365059"
     },
     "user_tz": -330
    },
    "id": "edc39652"
   },
   "outputs": [],
   "source": [
    "early_stop = EarlyStopping(monitor='val_loss', mode='min', patience=50)"
   ]
  },
  {
   "cell_type": "code",
   "execution_count": 38,
   "id": "ff9f7b53",
   "metadata": {
    "colab": {
     "base_uri": "https://localhost:8080/"
    },
    "executionInfo": {
     "elapsed": 8607,
     "status": "ok",
     "timestamp": 1700227190974,
     "user": {
      "displayName": "Abdulaziz Mohammad",
      "userId": "00984729133826365059"
     },
     "user_tz": -330
    },
    "id": "ff9f7b53",
    "outputId": "50bad5ec-794b-470f-e6be-412dd061f2cf"
   },
   "outputs": [
    {
     "name": "stdout",
     "output_type": "stream",
     "text": [
      "Epoch 1/100\n",
      "15/15 [==============================] - 1s 13ms/step - loss: 0.6736 - accuracy: 0.6527 - val_loss: 0.6506 - val_accuracy: 0.7018\n",
      "Epoch 2/100\n",
      "15/15 [==============================] - 0s 4ms/step - loss: 0.6370 - accuracy: 0.8176 - val_loss: 0.6125 - val_accuracy: 0.7895\n",
      "Epoch 3/100\n",
      "15/15 [==============================] - 0s 4ms/step - loss: 0.5992 - accuracy: 0.8505 - val_loss: 0.5721 - val_accuracy: 0.8158\n",
      "Epoch 4/100\n",
      "15/15 [==============================] - 0s 4ms/step - loss: 0.5544 - accuracy: 0.8527 - val_loss: 0.5243 - val_accuracy: 0.8158\n",
      "Epoch 5/100\n",
      "15/15 [==============================] - 0s 5ms/step - loss: 0.4983 - accuracy: 0.8637 - val_loss: 0.4741 - val_accuracy: 0.8333\n",
      "Epoch 6/100\n",
      "15/15 [==============================] - 0s 5ms/step - loss: 0.4373 - accuracy: 0.8901 - val_loss: 0.4190 - val_accuracy: 0.8596\n",
      "Epoch 7/100\n",
      "15/15 [==============================] - 0s 5ms/step - loss: 0.3769 - accuracy: 0.8901 - val_loss: 0.3834 - val_accuracy: 0.8421\n",
      "Epoch 8/100\n",
      "15/15 [==============================] - 0s 4ms/step - loss: 0.3294 - accuracy: 0.8989 - val_loss: 0.3621 - val_accuracy: 0.8421\n",
      "Epoch 9/100\n",
      "15/15 [==============================] - 0s 6ms/step - loss: 0.2930 - accuracy: 0.8945 - val_loss: 0.3485 - val_accuracy: 0.8421\n",
      "Epoch 10/100\n",
      "15/15 [==============================] - 0s 6ms/step - loss: 0.2645 - accuracy: 0.9099 - val_loss: 0.3432 - val_accuracy: 0.8421\n",
      "Epoch 11/100\n",
      "15/15 [==============================] - 0s 7ms/step - loss: 0.2400 - accuracy: 0.9121 - val_loss: 0.3317 - val_accuracy: 0.8421\n",
      "Epoch 12/100\n",
      "15/15 [==============================] - 0s 6ms/step - loss: 0.2225 - accuracy: 0.9121 - val_loss: 0.3255 - val_accuracy: 0.8421\n",
      "Epoch 13/100\n",
      "15/15 [==============================] - 0s 6ms/step - loss: 0.2072 - accuracy: 0.9231 - val_loss: 0.3168 - val_accuracy: 0.8421\n",
      "Epoch 14/100\n",
      "15/15 [==============================] - 0s 9ms/step - loss: 0.1915 - accuracy: 0.9231 - val_loss: 0.3182 - val_accuracy: 0.8421\n",
      "Epoch 15/100\n",
      "15/15 [==============================] - 0s 7ms/step - loss: 0.1804 - accuracy: 0.9341 - val_loss: 0.3372 - val_accuracy: 0.8421\n",
      "Epoch 16/100\n",
      "15/15 [==============================] - 0s 7ms/step - loss: 0.1690 - accuracy: 0.9363 - val_loss: 0.2945 - val_accuracy: 0.8509\n",
      "Epoch 17/100\n",
      "15/15 [==============================] - 0s 4ms/step - loss: 0.1613 - accuracy: 0.9297 - val_loss: 0.3513 - val_accuracy: 0.8246\n",
      "Epoch 18/100\n",
      "15/15 [==============================] - 0s 5ms/step - loss: 0.1524 - accuracy: 0.9407 - val_loss: 0.2932 - val_accuracy: 0.8509\n",
      "Epoch 19/100\n",
      "15/15 [==============================] - 0s 6ms/step - loss: 0.1605 - accuracy: 0.9297 - val_loss: 0.3690 - val_accuracy: 0.7982\n",
      "Epoch 20/100\n",
      "15/15 [==============================] - 0s 6ms/step - loss: 0.1466 - accuracy: 0.9495 - val_loss: 0.3509 - val_accuracy: 0.8158\n",
      "Epoch 21/100\n",
      "15/15 [==============================] - 0s 7ms/step - loss: 0.1328 - accuracy: 0.9560 - val_loss: 0.3433 - val_accuracy: 0.8246\n",
      "Epoch 22/100\n",
      "15/15 [==============================] - 0s 6ms/step - loss: 0.1273 - accuracy: 0.9582 - val_loss: 0.3745 - val_accuracy: 0.8070\n",
      "Epoch 23/100\n",
      "15/15 [==============================] - 0s 5ms/step - loss: 0.1261 - accuracy: 0.9538 - val_loss: 0.3526 - val_accuracy: 0.8333\n",
      "Epoch 24/100\n",
      "15/15 [==============================] - 0s 5ms/step - loss: 0.1210 - accuracy: 0.9604 - val_loss: 0.3776 - val_accuracy: 0.8246\n",
      "Epoch 25/100\n",
      "15/15 [==============================] - 0s 6ms/step - loss: 0.1137 - accuracy: 0.9670 - val_loss: 0.3600 - val_accuracy: 0.8246\n",
      "Epoch 26/100\n",
      "15/15 [==============================] - 0s 7ms/step - loss: 0.1081 - accuracy: 0.9670 - val_loss: 0.4515 - val_accuracy: 0.7807\n",
      "Epoch 27/100\n",
      "15/15 [==============================] - 0s 6ms/step - loss: 0.1052 - accuracy: 0.9692 - val_loss: 0.3810 - val_accuracy: 0.8158\n",
      "Epoch 28/100\n",
      "15/15 [==============================] - 0s 6ms/step - loss: 0.1032 - accuracy: 0.9670 - val_loss: 0.4787 - val_accuracy: 0.7719\n",
      "Epoch 29/100\n",
      "15/15 [==============================] - 0s 7ms/step - loss: 0.1009 - accuracy: 0.9758 - val_loss: 0.3914 - val_accuracy: 0.7982\n",
      "Epoch 30/100\n",
      "15/15 [==============================] - 0s 8ms/step - loss: 0.0972 - accuracy: 0.9714 - val_loss: 0.4413 - val_accuracy: 0.7982\n",
      "Epoch 31/100\n",
      "15/15 [==============================] - 0s 5ms/step - loss: 0.0924 - accuracy: 0.9758 - val_loss: 0.4634 - val_accuracy: 0.7895\n",
      "Epoch 32/100\n",
      "15/15 [==============================] - 0s 6ms/step - loss: 0.0901 - accuracy: 0.9824 - val_loss: 0.4586 - val_accuracy: 0.7982\n",
      "Epoch 33/100\n",
      "15/15 [==============================] - 0s 5ms/step - loss: 0.0870 - accuracy: 0.9802 - val_loss: 0.4490 - val_accuracy: 0.7982\n",
      "Epoch 34/100\n",
      "15/15 [==============================] - 0s 7ms/step - loss: 0.0850 - accuracy: 0.9780 - val_loss: 0.4837 - val_accuracy: 0.7807\n",
      "Epoch 35/100\n",
      "15/15 [==============================] - 0s 7ms/step - loss: 0.0834 - accuracy: 0.9846 - val_loss: 0.4832 - val_accuracy: 0.7807\n",
      "Epoch 36/100\n",
      "15/15 [==============================] - 0s 6ms/step - loss: 0.0854 - accuracy: 0.9692 - val_loss: 0.5848 - val_accuracy: 0.7281\n",
      "Epoch 37/100\n",
      "15/15 [==============================] - 0s 6ms/step - loss: 0.0818 - accuracy: 0.9758 - val_loss: 0.4449 - val_accuracy: 0.8070\n",
      "Epoch 38/100\n",
      "15/15 [==============================] - 0s 5ms/step - loss: 0.0794 - accuracy: 0.9802 - val_loss: 0.5904 - val_accuracy: 0.7544\n",
      "Epoch 39/100\n",
      "15/15 [==============================] - 0s 5ms/step - loss: 0.0769 - accuracy: 0.9758 - val_loss: 0.5307 - val_accuracy: 0.7807\n",
      "Epoch 40/100\n",
      "15/15 [==============================] - 0s 6ms/step - loss: 0.0748 - accuracy: 0.9802 - val_loss: 0.5920 - val_accuracy: 0.7632\n",
      "Epoch 41/100\n",
      "15/15 [==============================] - 0s 7ms/step - loss: 0.0748 - accuracy: 0.9802 - val_loss: 0.5473 - val_accuracy: 0.7719\n",
      "Epoch 42/100\n",
      "15/15 [==============================] - 0s 7ms/step - loss: 0.0727 - accuracy: 0.9780 - val_loss: 0.6364 - val_accuracy: 0.7456\n",
      "Epoch 43/100\n",
      "15/15 [==============================] - 0s 5ms/step - loss: 0.0716 - accuracy: 0.9824 - val_loss: 0.5709 - val_accuracy: 0.7719\n",
      "Epoch 44/100\n",
      "15/15 [==============================] - 0s 8ms/step - loss: 0.0734 - accuracy: 0.9824 - val_loss: 0.6097 - val_accuracy: 0.7632\n",
      "Epoch 45/100\n",
      "15/15 [==============================] - 0s 7ms/step - loss: 0.0684 - accuracy: 0.9758 - val_loss: 0.5780 - val_accuracy: 0.7719\n",
      "Epoch 46/100\n",
      "15/15 [==============================] - 0s 7ms/step - loss: 0.0683 - accuracy: 0.9824 - val_loss: 0.6729 - val_accuracy: 0.7456\n",
      "Epoch 47/100\n",
      "15/15 [==============================] - 0s 6ms/step - loss: 0.0684 - accuracy: 0.9824 - val_loss: 0.6452 - val_accuracy: 0.7544\n",
      "Epoch 48/100\n",
      "15/15 [==============================] - 0s 6ms/step - loss: 0.0660 - accuracy: 0.9846 - val_loss: 0.6079 - val_accuracy: 0.7632\n",
      "Epoch 49/100\n",
      "15/15 [==============================] - 0s 7ms/step - loss: 0.0670 - accuracy: 0.9824 - val_loss: 0.7104 - val_accuracy: 0.7368\n",
      "Epoch 50/100\n",
      "15/15 [==============================] - 0s 7ms/step - loss: 0.0665 - accuracy: 0.9824 - val_loss: 0.6690 - val_accuracy: 0.7544\n",
      "Epoch 51/100\n",
      "15/15 [==============================] - 0s 7ms/step - loss: 0.0644 - accuracy: 0.9824 - val_loss: 0.7414 - val_accuracy: 0.7193\n",
      "Epoch 52/100\n",
      "15/15 [==============================] - 0s 7ms/step - loss: 0.0656 - accuracy: 0.9802 - val_loss: 0.7222 - val_accuracy: 0.7368\n",
      "Epoch 53/100\n",
      "15/15 [==============================] - 0s 6ms/step - loss: 0.0626 - accuracy: 0.9846 - val_loss: 0.6949 - val_accuracy: 0.7544\n",
      "Epoch 54/100\n",
      "15/15 [==============================] - 0s 6ms/step - loss: 0.0644 - accuracy: 0.9780 - val_loss: 0.6960 - val_accuracy: 0.7544\n",
      "Epoch 55/100\n",
      "15/15 [==============================] - 0s 5ms/step - loss: 0.0622 - accuracy: 0.9824 - val_loss: 0.7519 - val_accuracy: 0.7368\n",
      "Epoch 56/100\n",
      "15/15 [==============================] - 0s 5ms/step - loss: 0.0606 - accuracy: 0.9824 - val_loss: 0.6814 - val_accuracy: 0.7632\n",
      "Epoch 57/100\n",
      "15/15 [==============================] - 0s 5ms/step - loss: 0.0624 - accuracy: 0.9780 - val_loss: 0.7574 - val_accuracy: 0.7368\n",
      "Epoch 58/100\n",
      "15/15 [==============================] - 0s 6ms/step - loss: 0.0615 - accuracy: 0.9824 - val_loss: 0.6998 - val_accuracy: 0.7632\n",
      "Epoch 59/100\n",
      "15/15 [==============================] - 0s 6ms/step - loss: 0.0588 - accuracy: 0.9846 - val_loss: 0.8051 - val_accuracy: 0.7193\n",
      "Epoch 60/100\n",
      "15/15 [==============================] - 0s 5ms/step - loss: 0.0595 - accuracy: 0.9846 - val_loss: 0.7229 - val_accuracy: 0.7632\n",
      "Epoch 61/100\n",
      "15/15 [==============================] - 0s 4ms/step - loss: 0.0614 - accuracy: 0.9802 - val_loss: 0.7674 - val_accuracy: 0.7368\n",
      "Epoch 62/100\n",
      "15/15 [==============================] - 0s 4ms/step - loss: 0.0583 - accuracy: 0.9846 - val_loss: 0.7682 - val_accuracy: 0.7368\n",
      "Epoch 63/100\n",
      "15/15 [==============================] - 0s 5ms/step - loss: 0.0579 - accuracy: 0.9846 - val_loss: 0.8395 - val_accuracy: 0.7105\n",
      "Epoch 64/100\n",
      "15/15 [==============================] - 0s 5ms/step - loss: 0.0575 - accuracy: 0.9846 - val_loss: 0.7911 - val_accuracy: 0.7368\n",
      "Epoch 65/100\n",
      "15/15 [==============================] - 0s 6ms/step - loss: 0.0584 - accuracy: 0.9802 - val_loss: 0.8843 - val_accuracy: 0.7105\n",
      "Epoch 66/100\n",
      "15/15 [==============================] - 0s 6ms/step - loss: 0.0586 - accuracy: 0.9824 - val_loss: 0.7773 - val_accuracy: 0.7456\n",
      "Epoch 67/100\n",
      "15/15 [==============================] - 0s 5ms/step - loss: 0.0594 - accuracy: 0.9802 - val_loss: 0.8066 - val_accuracy: 0.7368\n",
      "Epoch 68/100\n",
      "15/15 [==============================] - 0s 5ms/step - loss: 0.0571 - accuracy: 0.9802 - val_loss: 0.9310 - val_accuracy: 0.7105\n"
     ]
    },
    {
     "data": {
      "text/plain": [
       "<keras.src.callbacks.History at 0x2098b840d00>"
      ]
     },
     "execution_count": 38,
     "metadata": {},
     "output_type": "execute_result"
    }
   ],
   "source": [
    "model.fit(x=X_train,\n",
    "          y=y_train,\n",
    "          epochs=100,\n",
    "          validation_data=(X_test, y_test),\n",
    "          callbacks=[early_stop]\n",
    "          )#"
   ]
  },
  {
   "cell_type": "code",
   "execution_count": 39,
   "id": "557e21e1",
   "metadata": {},
   "outputs": [],
   "source": [
    "early_stop = EarlyStopping(monitor='val_loss', mode='min', patience=10)"
   ]
  },
  {
   "cell_type": "code",
   "execution_count": 40,
   "id": "27199f11",
   "metadata": {},
   "outputs": [
    {
     "name": "stdout",
     "output_type": "stream",
     "text": [
      "Epoch 1/100\n",
      "15/15 [==============================] - 0s 7ms/step - loss: 0.0567 - accuracy: 0.9824 - val_loss: 0.8108 - val_accuracy: 0.7368\n",
      "Epoch 2/100\n",
      "15/15 [==============================] - 0s 5ms/step - loss: 0.0607 - accuracy: 0.9824 - val_loss: 0.8681 - val_accuracy: 0.7193\n",
      "Epoch 3/100\n",
      "15/15 [==============================] - 0s 5ms/step - loss: 0.0547 - accuracy: 0.9824 - val_loss: 0.9269 - val_accuracy: 0.7105\n",
      "Epoch 4/100\n",
      "15/15 [==============================] - 0s 5ms/step - loss: 0.0571 - accuracy: 0.9824 - val_loss: 0.7968 - val_accuracy: 0.7456\n",
      "Epoch 5/100\n",
      "15/15 [==============================] - 0s 5ms/step - loss: 0.0532 - accuracy: 0.9868 - val_loss: 0.9882 - val_accuracy: 0.7105\n",
      "Epoch 6/100\n",
      "15/15 [==============================] - 0s 5ms/step - loss: 0.0586 - accuracy: 0.9802 - val_loss: 0.8004 - val_accuracy: 0.7456\n",
      "Epoch 7/100\n",
      "15/15 [==============================] - 0s 4ms/step - loss: 0.0547 - accuracy: 0.9802 - val_loss: 0.9250 - val_accuracy: 0.7105\n",
      "Epoch 8/100\n",
      "15/15 [==============================] - 0s 5ms/step - loss: 0.0533 - accuracy: 0.9846 - val_loss: 0.8979 - val_accuracy: 0.7105\n",
      "Epoch 9/100\n",
      "15/15 [==============================] - 0s 5ms/step - loss: 0.0541 - accuracy: 0.9846 - val_loss: 0.9325 - val_accuracy: 0.7105\n",
      "Epoch 10/100\n",
      "15/15 [==============================] - 0s 5ms/step - loss: 0.0531 - accuracy: 0.9846 - val_loss: 0.9650 - val_accuracy: 0.7105\n",
      "Epoch 11/100\n",
      "15/15 [==============================] - 0s 5ms/step - loss: 0.0527 - accuracy: 0.9846 - val_loss: 0.9428 - val_accuracy: 0.7105\n",
      "Epoch 12/100\n",
      "15/15 [==============================] - 0s 5ms/step - loss: 0.0541 - accuracy: 0.9846 - val_loss: 0.9363 - val_accuracy: 0.7105\n",
      "Epoch 13/100\n",
      "15/15 [==============================] - 0s 5ms/step - loss: 0.0525 - accuracy: 0.9846 - val_loss: 1.0086 - val_accuracy: 0.7105\n",
      "Epoch 14/100\n",
      "15/15 [==============================] - 0s 7ms/step - loss: 0.0539 - accuracy: 0.9824 - val_loss: 0.9534 - val_accuracy: 0.7105\n"
     ]
    },
    {
     "data": {
      "text/plain": [
       "<keras.src.callbacks.History at 0x2098d5acc10>"
      ]
     },
     "execution_count": 40,
     "metadata": {},
     "output_type": "execute_result"
    }
   ],
   "source": [
    "model.fit(x=X_train,\n",
    "          y=y_train,\n",
    "          epochs=100,\n",
    "          validation_data=(X_test, y_test),\n",
    "          callbacks=[early_stop]\n",
    "          )#"
   ]
  },
  {
   "cell_type": "code",
   "execution_count": 41,
   "id": "c03d1f73",
   "metadata": {
    "colab": {
     "base_uri": "https://localhost:8080/",
     "height": 447
    },
    "executionInfo": {
     "elapsed": 7857,
     "status": "ok",
     "timestamp": 1700227224779,
     "user": {
      "displayName": "Abdulaziz Mohammad",
      "userId": "00984729133826365059"
     },
     "user_tz": -330
    },
    "id": "c03d1f73",
    "outputId": "950f9c93-74c2-4409-82fc-d101d67bfac8"
   },
   "outputs": [
    {
     "data": {
      "text/plain": [
       "<Axes: >"
      ]
     },
     "execution_count": 41,
     "metadata": {},
     "output_type": "execute_result"
    },
    {
     "data": {
      "image/png": "[encoded data removed]",
      "text/plain": [
       "<Figure size 640x480 with 1 Axes>"
      ]
     },
     "metadata": {},
     "output_type": "display_data"
    }
   ],
   "source": [
    "model_loss = pd.DataFrame(model.history.history)\n",
    "model_loss.plot()"
   ]
  },
  {
   "cell_type": "code",
   "execution_count": 43,
   "id": "d00f01ee",
   "metadata": {
    "executionInfo": {
     "elapsed": 394,
     "status": "ok",
     "timestamp": 1700227363841,
     "user": {
      "displayName": "Abdulaziz Mohammad",
      "userId": "00984729133826365059"
     },
     "user_tz": -330
    },
    "id": "d00f01ee"
   },
   "outputs": [],
   "source": [
    "# Adding Dropout Layers\n",
    "\n",
    "from tensorflow.keras.layers import Dropout"
   ]
  },
  {
   "cell_type": "code",
   "execution_count": 44,
   "id": "f8c690a2",
   "metadata": {
    "executionInfo": {
     "elapsed": 422,
     "status": "ok",
     "timestamp": 1700227368463,
     "user": {
      "displayName": "Abdulaziz Mohammad",
      "userId": "00984729133826365059"
     },
     "user_tz": -330
    },
    "id": "f8c690a2"
   },
   "outputs": [],
   "source": [
    "model = Sequential()\n",
    "model.add(InputLayer(input_shape=(30,)))  # Explicitly adding input layer with 26 input features\n",
    "model.add(Dense(26,activation='relu'))\n",
    "model.add(Dropout(0.5))\n",
    "model.add(Dense(15,activation='relu'))\n",
    "model.add(Dropout(0.5))\n",
    "model.add(Dense(1,activation='sigmoid'))\n",
    "model.compile(loss='binary_crossentropy', optimizer='adam',metrics=['accuracy'])"
   ]
  },
  {
   "cell_type": "code",
   "execution_count": 45,
   "id": "c6c3e956",
   "metadata": {
    "colab": {
     "base_uri": "https://localhost:8080/"
    },
    "executionInfo": {
     "elapsed": 10135,
     "status": "ok",
     "timestamp": 1700227383370,
     "user": {
      "displayName": "Abdulaziz Mohammad",
      "userId": "00984729133826365059"
     },
     "user_tz": -330
    },
    "id": "c6c3e956",
    "outputId": "6c965744-3412-46ee-8777-4c66caf51cb4"
   },
   "outputs": [
    {
     "name": "stdout",
     "output_type": "stream",
     "text": [
      "Epoch 1/150\n",
      "15/15 [==============================] - 1s 15ms/step - loss: 0.6927 - accuracy: 0.5516 - val_loss: 0.6843 - val_accuracy: 0.6316\n",
      "Epoch 2/150\n",
      "15/15 [==============================] - 0s 5ms/step - loss: 0.6764 - accuracy: 0.6264 - val_loss: 0.6738 - val_accuracy: 0.6491\n",
      "Epoch 3/150\n",
      "15/15 [==============================] - 0s 5ms/step - loss: 0.6715 - accuracy: 0.6352 - val_loss: 0.6595 - val_accuracy: 0.7544\n",
      "Epoch 4/150\n",
      "15/15 [==============================] - 0s 5ms/step - loss: 0.6558 - accuracy: 0.6857 - val_loss: 0.6410 - val_accuracy: 0.8246\n",
      "Epoch 5/150\n",
      "15/15 [==============================] - 0s 5ms/step - loss: 0.6499 - accuracy: 0.6681 - val_loss: 0.6217 - val_accuracy: 0.8509\n",
      "Epoch 6/150\n",
      "15/15 [==============================] - 0s 5ms/step - loss: 0.6207 - accuracy: 0.7385 - val_loss: 0.5997 - val_accuracy: 0.8772\n",
      "Epoch 7/150\n",
      "15/15 [==============================] - 0s 5ms/step - loss: 0.6115 - accuracy: 0.7319 - val_loss: 0.5775 - val_accuracy: 0.8772\n",
      "Epoch 8/150\n",
      "15/15 [==============================] - 0s 5ms/step - loss: 0.5898 - accuracy: 0.7604 - val_loss: 0.5481 - val_accuracy: 0.9035\n",
      "Epoch 9/150\n",
      "15/15 [==============================] - 0s 7ms/step - loss: 0.5732 - accuracy: 0.7692 - val_loss: 0.5182 - val_accuracy: 0.8947\n",
      "Epoch 10/150\n",
      "15/15 [==============================] - 0s 7ms/step - loss: 0.5808 - accuracy: 0.7341 - val_loss: 0.4910 - val_accuracy: 0.9123\n",
      "Epoch 11/150\n",
      "15/15 [==============================] - 0s 7ms/step - loss: 0.5233 - accuracy: 0.7934 - val_loss: 0.4626 - val_accuracy: 0.9211\n",
      "Epoch 12/150\n",
      "15/15 [==============================] - 0s 5ms/step - loss: 0.5265 - accuracy: 0.8000 - val_loss: 0.4433 - val_accuracy: 0.9211\n",
      "Epoch 13/150\n",
      "15/15 [==============================] - 0s 5ms/step - loss: 0.5006 - accuracy: 0.8000 - val_loss: 0.4118 - val_accuracy: 0.9123\n",
      "Epoch 14/150\n",
      "15/15 [==============================] - 0s 5ms/step - loss: 0.4760 - accuracy: 0.8176 - val_loss: 0.3851 - val_accuracy: 0.9211\n",
      "Epoch 15/150\n",
      "15/15 [==============================] - 0s 4ms/step - loss: 0.4511 - accuracy: 0.8330 - val_loss: 0.3556 - val_accuracy: 0.9298\n",
      "Epoch 16/150\n",
      "15/15 [==============================] - 0s 6ms/step - loss: 0.4253 - accuracy: 0.8484 - val_loss: 0.3395 - val_accuracy: 0.9035\n",
      "Epoch 17/150\n",
      "15/15 [==============================] - 0s 5ms/step - loss: 0.4047 - accuracy: 0.8549 - val_loss: 0.3305 - val_accuracy: 0.9211\n",
      "Epoch 18/150\n",
      "15/15 [==============================] - 0s 6ms/step - loss: 0.4012 - accuracy: 0.8440 - val_loss: 0.3159 - val_accuracy: 0.9211\n",
      "Epoch 19/150\n",
      "15/15 [==============================] - 0s 7ms/step - loss: 0.3782 - accuracy: 0.8769 - val_loss: 0.2959 - val_accuracy: 0.9211\n",
      "Epoch 20/150\n",
      "15/15 [==============================] - 0s 7ms/step - loss: 0.3525 - accuracy: 0.8571 - val_loss: 0.3052 - val_accuracy: 0.9035\n",
      "Epoch 21/150\n",
      "15/15 [==============================] - 0s 7ms/step - loss: 0.3757 - accuracy: 0.8791 - val_loss: 0.2776 - val_accuracy: 0.9123\n",
      "Epoch 22/150\n",
      "15/15 [==============================] - 0s 6ms/step - loss: 0.3487 - accuracy: 0.8615 - val_loss: 0.2740 - val_accuracy: 0.9211\n",
      "Epoch 23/150\n",
      "15/15 [==============================] - 0s 6ms/step - loss: 0.3287 - accuracy: 0.8879 - val_loss: 0.2700 - val_accuracy: 0.9123\n",
      "Epoch 24/150\n",
      "15/15 [==============================] - 0s 6ms/step - loss: 0.3257 - accuracy: 0.8747 - val_loss: 0.2649 - val_accuracy: 0.9211\n",
      "Epoch 25/150\n",
      "15/15 [==============================] - 0s 6ms/step - loss: 0.3112 - accuracy: 0.8923 - val_loss: 0.2573 - val_accuracy: 0.9123\n",
      "Epoch 26/150\n",
      "15/15 [==============================] - 0s 7ms/step - loss: 0.2855 - accuracy: 0.8989 - val_loss: 0.2664 - val_accuracy: 0.8947\n",
      "Epoch 27/150\n",
      "15/15 [==============================] - 0s 7ms/step - loss: 0.3037 - accuracy: 0.8923 - val_loss: 0.2613 - val_accuracy: 0.9035\n",
      "Epoch 28/150\n",
      "15/15 [==============================] - 0s 7ms/step - loss: 0.2838 - accuracy: 0.9011 - val_loss: 0.2492 - val_accuracy: 0.9123\n",
      "Epoch 29/150\n",
      "15/15 [==============================] - 0s 7ms/step - loss: 0.2842 - accuracy: 0.8989 - val_loss: 0.2622 - val_accuracy: 0.8772\n",
      "Epoch 30/150\n",
      "15/15 [==============================] - 0s 6ms/step - loss: 0.2707 - accuracy: 0.9033 - val_loss: 0.2369 - val_accuracy: 0.9298\n",
      "Epoch 31/150\n",
      "15/15 [==============================] - 0s 7ms/step - loss: 0.2779 - accuracy: 0.9121 - val_loss: 0.2462 - val_accuracy: 0.9211\n",
      "Epoch 32/150\n",
      "15/15 [==============================] - 0s 7ms/step - loss: 0.2714 - accuracy: 0.9055 - val_loss: 0.2212 - val_accuracy: 0.9298\n",
      "Epoch 33/150\n",
      "15/15 [==============================] - 0s 6ms/step - loss: 0.2718 - accuracy: 0.8923 - val_loss: 0.2471 - val_accuracy: 0.9035\n",
      "Epoch 34/150\n",
      "15/15 [==============================] - 0s 7ms/step - loss: 0.2339 - accuracy: 0.9099 - val_loss: 0.2164 - val_accuracy: 0.9298\n",
      "Epoch 35/150\n",
      "15/15 [==============================] - 0s 7ms/step - loss: 0.2558 - accuracy: 0.9099 - val_loss: 0.2468 - val_accuracy: 0.9123\n",
      "Epoch 36/150\n",
      "15/15 [==============================] - 0s 6ms/step - loss: 0.2287 - accuracy: 0.9143 - val_loss: 0.2559 - val_accuracy: 0.8947\n",
      "Epoch 37/150\n",
      "15/15 [==============================] - 0s 5ms/step - loss: 0.2404 - accuracy: 0.9165 - val_loss: 0.2149 - val_accuracy: 0.9298\n",
      "Epoch 38/150\n",
      "15/15 [==============================] - 0s 5ms/step - loss: 0.2355 - accuracy: 0.9253 - val_loss: 0.2693 - val_accuracy: 0.8947\n",
      "Epoch 39/150\n",
      "15/15 [==============================] - 0s 6ms/step - loss: 0.2394 - accuracy: 0.9187 - val_loss: 0.2354 - val_accuracy: 0.9035\n",
      "Epoch 40/150\n",
      "15/15 [==============================] - 0s 6ms/step - loss: 0.2192 - accuracy: 0.9165 - val_loss: 0.2414 - val_accuracy: 0.9035\n",
      "Epoch 41/150\n",
      "15/15 [==============================] - 0s 6ms/step - loss: 0.2096 - accuracy: 0.9297 - val_loss: 0.2582 - val_accuracy: 0.8947\n",
      "Epoch 42/150\n",
      "15/15 [==============================] - 0s 6ms/step - loss: 0.2032 - accuracy: 0.9341 - val_loss: 0.2855 - val_accuracy: 0.8947\n",
      "Epoch 43/150\n",
      "15/15 [==============================] - 0s 5ms/step - loss: 0.2068 - accuracy: 0.9385 - val_loss: 0.2771 - val_accuracy: 0.8947\n",
      "Epoch 44/150\n",
      "15/15 [==============================] - 0s 6ms/step - loss: 0.2012 - accuracy: 0.9253 - val_loss: 0.2844 - val_accuracy: 0.8860\n",
      "Epoch 45/150\n",
      "15/15 [==============================] - 0s 5ms/step - loss: 0.2043 - accuracy: 0.9187 - val_loss: 0.2363 - val_accuracy: 0.9035\n",
      "Epoch 46/150\n",
      "15/15 [==============================] - 0s 6ms/step - loss: 0.2021 - accuracy: 0.9209 - val_loss: 0.2341 - val_accuracy: 0.9035\n",
      "Epoch 47/150\n",
      "15/15 [==============================] - 0s 5ms/step - loss: 0.1763 - accuracy: 0.9407 - val_loss: 0.2940 - val_accuracy: 0.8860\n"
     ]
    },
    {
     "data": {
      "text/plain": [
       "<keras.src.callbacks.History at 0x2098d7f39d0>"
      ]
     },
     "execution_count": 45,
     "metadata": {},
     "output_type": "execute_result"
    }
   ],
   "source": [
    "model.fit(x=X_train,\n",
    "          y=y_train,\n",
    "          epochs=150,\n",
    "          validation_data=(X_test, y_test),\n",
    "          callbacks=[early_stop]\n",
    "          )"
   ]
  },
  {
   "cell_type": "code",
   "execution_count": 46,
   "id": "e8beb9da",
   "metadata": {
    "executionInfo": {
     "elapsed": 403,
     "status": "ok",
     "timestamp": 1700227398358,
     "user": {
      "displayName": "Abdulaziz Mohammad",
      "userId": "00984729133826365059"
     },
     "user_tz": -330
    },
    "id": "e8beb9da"
   },
   "outputs": [],
   "source": [
    "model_loss = pd.DataFrame(model.history.history)"
   ]
  },
  {
   "cell_type": "code",
   "execution_count": 47,
   "id": "6049fd51",
   "metadata": {
    "colab": {
     "base_uri": "https://localhost:8080/",
     "height": 452
    },
    "executionInfo": {
     "elapsed": 16016,
     "status": "ok",
     "timestamp": 1700227415757,
     "user": {
      "displayName": "Abdulaziz Mohammad",
      "userId": "00984729133826365059"
     },
     "user_tz": -330
    },
    "id": "6049fd51",
    "outputId": "ccf1901a-357c-4ffe-f0b1-0975583a4829"
   },
   "outputs": [
    {
     "data": {
      "text/plain": [
       "<Axes: >"
      ]
     },
     "execution_count": 47,
     "metadata": {},
     "output_type": "execute_result"
    },
    {
     "data": {
      "image/png": "[encoded data removed]",
      "text/plain": [
       "<Figure size 640x480 with 1 Axes>"
      ]
     },
     "metadata": {},
     "output_type": "display_data"
    }
   ],
   "source": [
    "model_loss.plot()"
   ]
  },
  {
   "cell_type": "code",
   "execution_count": 48,
   "id": "omaN5Q9F_qyK",
   "metadata": {
    "colab": {
     "base_uri": "https://localhost:8080/"
    },
    "executionInfo": {
     "elapsed": 687,
     "status": "ok",
     "timestamp": 1700227445856,
     "user": {
      "displayName": "Abdulaziz Mohammad",
      "userId": "00984729133826365059"
     },
     "user_tz": -330
    },
    "id": "omaN5Q9F_qyK",
    "outputId": "8d502252-edd8-46bb-99f8-0b0c80402c77"
   },
   "outputs": [
    {
     "name": "stdout",
     "output_type": "stream",
     "text": [
      "4/4 [==============================] - 0s 2ms/step - loss: 0.2940 - accuracy: 0.8860\n"
     ]
    }
   ],
   "source": [
    "score = model.evaluate(X_test, y_test)"
   ]
  },
  {
   "cell_type": "code",
   "execution_count": 49,
   "id": "ym6kV_wK_0_J",
   "metadata": {
    "colab": {
     "base_uri": "https://localhost:8080/"
    },
    "executionInfo": {
     "elapsed": 624,
     "status": "ok",
     "timestamp": 1700227448532,
     "user": {
      "displayName": "Abdulaziz Mohammad",
      "userId": "00984729133826365059"
     },
     "user_tz": -330
    },
    "id": "ym6kV_wK_0_J",
    "outputId": "aa37422c-eb5c-4e44-9bc8-5fda3582a15b"
   },
   "outputs": [
    {
     "name": "stdout",
     "output_type": "stream",
     "text": [
      "['loss', 'accuracy']\n",
      "[0.2939855754375458, 0.8859649300575256]\n"
     ]
    }
   ],
   "source": [
    "print(model.metrics_names)\n",
    "print(score)"
   ]
  },
  {
   "cell_type": "code",
   "execution_count": 50,
   "id": "53c98dff",
   "metadata": {},
   "outputs": [],
   "source": [
    "from keras.models import load_model\n",
    "model.save('123model.keras')"
   ]
  },
  {
   "cell_type": "markdown",
   "id": "d5b0dfa4",
   "metadata": {},
   "source": [
    "# Using model for future predictions."
   ]
  },
  {
   "cell_type": "code",
   "execution_count": 51,
   "id": "4e168b4f",
   "metadata": {},
   "outputs": [
    {
     "name": "stdout",
     "output_type": "stream",
     "text": [
      "1/1 [==============================] - 0s 159ms/step\n",
      "['Benign']\n"
     ]
    }
   ],
   "source": [
    "import tensorflow as tf\n",
    "import pandas as pd\n",
    "from sklearn.preprocessing import MinMaxScaler\n",
    "import warnings\n",
    "\n",
    "warnings.filterwarnings(\"ignore\")\n",
    "\n",
    "# Load the model\n",
    "model = tf.keras.models.load_model('123model.keras')\n",
    "\n",
    "# Example input data (replace with your own data)\n",
    "# Ensure you include all 30 features expected by the model\n",
    "input_data = {\n",
    "    'radius_mean': [14.0],\n",
    "    'texture_mean': [20.0],\n",
    "    'perimeter_mean': [90.0],\n",
    "    'area_mean': [600.0],\n",
    "    'smoothness_mean': [0.1],\n",
    "    'compactness_mean': [0.15],\n",
    "    'concavity_mean': [0.2],\n",
    "    'concave_points_mean': [0.1],\n",
    "    'symmetry_mean': [0.2],\n",
    "    'fractal_dimension_mean': [0.06],\n",
    "    'radius_se': [0.2],\n",
    "    'texture_se': [1.0],\n",
    "    'perimeter_se': [1.5],\n",
    "    'area_se': [20.0],\n",
    "    'smoothness_se': [0.005],\n",
    "    'compactness_se': [0.02],\n",
    "    'concavity_se': [0.03],\n",
    "    'concave_points_se': [0.01],\n",
    "    'symmetry_se': [0.03],\n",
    "    'fractal_dimension_se': [0.004],\n",
    "    'radius_worst': [16.0],\n",
    "    'texture_worst': [25.0],\n",
    "    'perimeter_worst': [105.0],\n",
    "    'area_worst': [800.0],\n",
    "    'smoothness_worst': [0.12],\n",
    "    'compactness_worst': [0.2],\n",
    "    'concavity_worst': [0.3],\n",
    "    'concave_points_worst': [0.15],\n",
    "    'symmetry_worst': [0.25],\n",
    "    'fractal_dimension_worst': [0.08]\n",
    "}\n",
    "\n",
    "# Convert to DataFrame\n",
    "input_df = pd.DataFrame(input_data)\n",
    "\n",
    "# Preprocess the input data (normalize, scale, etc.)\n",
    "scaler = MinMaxScaler()\n",
    "input_array = scaler.fit_transform(input_df)  # Directly use the transformed array\n",
    "\n",
    "# Make predictions\n",
    "predictions = model.predict(input_array)\n",
    "\n",
    "# For binary classification, convert probabilities to class labels\n",
    "predicted_classes = (predictions > 0.5).astype(\"int32\")  # Assuming a threshold of 0.5\n",
    "\n",
    "# # Example mapping for binary classification\n",
    "class_mapping = {0: 'Benign', 1: 'Malignant'}\n",
    "\n",
    "# List comprehension to map predicted class labels to their corresponding names\n",
    "predicted_class_names = []\n",
    "for label in predicted_classes:\n",
    "    predicted_class_names.append(class_mapping[label[0]])\n",
    "\n",
    "\n",
    "print(predicted_class_names)\n"
   ]
  },
  {
   "cell_type": "markdown",
   "id": "_k58adybCu0H",
   "metadata": {
    "id": "_k58adybCu0H"
   },
   "source": [
    "<center><h1> Happy Learning"
   ]
  }
 ],
 "metadata": {
  "accelerator": "GPU",
  "colab": {
   "gpuType": "T4",
   "provenance": []
  },
  "kernelspec": {
   "display_name": "Python 3 (ipykernel)",
   "language": "python",
   "name": "python3"
  },
  "language_info": {
   "codemirror_mode": {
    "name": "ipython",
    "version": 3
   },
   "file_extension": ".py",
   "mimetype": "text/x-python",
   "name": "python",
   "nbconvert_exporter": "python",
   "pygments_lexer": "ipython3",
   "version": "3.8.19"
  }
 },
 "nbformat": 4,
 "nbformat_minor": 5
}
