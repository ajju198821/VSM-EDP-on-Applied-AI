{
 "cells": [
  {
   "cell_type": "markdown",
   "metadata": {},
   "source": [
    "# Writing Reusable Code using Functions in Python\n",
    "\n",
    "![](https://i.imgur.com/TvNf5Jp.png)\n",
    "\n",
    "These tutorials take a practical and coding-focused approach. The best way to learn the material is to execute the code and experiment with it yourself. "
   ]
  },
  {
   "cell_type": "markdown",
   "metadata": {},
   "source": [
    "This tutorial covers the following topics:\n",
    "\n",
    "- Creating and using functions in Python\n",
    "- Local variables, return values, and optional arguments\n",
    "- Reusing functions and using Python library functions\n",
    "- Exception handling using `try`-`except` blocks\n",
    "- Documenting functions using docstrings"
   ]
  },
  {
   "cell_type": "markdown",
   "metadata": {},
   "source": [
    "## Creating and using functions\n",
    "\n",
    "A function is a reusable set of instructions that takes one or more inputs, performs some operations, and often returns an output. Python contains many in-built functions like `print`, `len`, etc., and provides the ability to define new ones."
   ]
  },
  {
   "cell_type": "code",
   "execution_count": null,
   "metadata": {},
   "outputs": [],
   "source": [
    "today = \"Saturday\"\n",
    "print(\"Today is\", today)"
   ]
  },
  {
   "cell_type": "code",
   "execution_count": null,
   "metadata": {},
   "outputs": [],
   "source": [
    "len(today)"
   ]
  },
  {
   "cell_type": "markdown",
   "metadata": {},
   "source": [
    "You can define a new function using the `def` keyword."
   ]
  },
  {
   "cell_type": "code",
   "execution_count": null,
   "metadata": {},
   "outputs": [],
   "source": [
    "def say_hello():\n",
    "    print('Hello there!')\n",
    "    print('How are you?')"
   ]
  },
  {
   "cell_type": "markdown",
   "metadata": {},
   "source": [
    "Note the round brackets or parentheses `()` and colon `:` after the function's name. Both are essential parts of the syntax. The function's *body* contains an indented block of statements. The statements inside a function's body are not executed when the function is defined. To execute the statements, we need to *call* or *invoke* the function."
   ]
  },
  {
   "cell_type": "code",
   "execution_count": null,
   "metadata": {},
   "outputs": [],
   "source": [
    "say_hello()"
   ]
  },
  {
   "cell_type": "markdown",
   "metadata": {},
   "source": [
    "### Function arguments\n",
    "\n",
    "Functions can accept zero or more values as *inputs* (also knows as *arguments* or *parameters*). Arguments help us write flexible functions that can perform the same operations on different values. Further, functions can return a result that can be stored in a variable or used in other expressions.\n",
    "\n",
    "Here's a function that filters out the even numbers from a list and returns a new list using the `return` keyword."
   ]
  },
  {
   "cell_type": "code",
   "execution_count": null,
   "metadata": {},
   "outputs": [],
   "source": [
    "number_list = [1, 2, 3, 4, 5, 6, 7]\n",
    "result_list = []\n",
    "for number in number_list:\n",
    "        if number % 2 == 0:\n",
    "            result_list.append(number)\n",
    "\n",
    "print(result_list)\n"
   ]
  },
  {
   "cell_type": "code",
   "execution_count": 1,
   "metadata": {},
   "outputs": [],
   "source": [
    "def filter_even(number_list):\n",
    "    result_list = []\n",
    "    for number in number_list:\n",
    "        if number % 2 == 0:\n",
    "            result_list.append(number)\n",
    "    return result_list"
   ]
  },
  {
   "cell_type": "markdown",
   "metadata": {},
   "source": [
    "Can you understand what the function does by looking at the code? If not, try executing each line of the function's body separately within a code cell with an actual list of numbers in place of `number_list`."
   ]
  },
  {
   "cell_type": "code",
   "execution_count": 2,
   "metadata": {},
   "outputs": [],
   "source": [
    "even_list = filter_even([1, 2, 3, 4, 5, 6, 7,11,12,24,25,213,5,6,7])"
   ]
  },
  {
   "cell_type": "code",
   "execution_count": 3,
   "metadata": {},
   "outputs": [
    {
     "data": {
      "text/plain": [
       "[2, 4, 6, 12, 24, 6]"
      ]
     },
     "execution_count": 3,
     "metadata": {},
     "output_type": "execute_result"
    }
   ],
   "source": [
    "even_list"
   ]
  },
  {
   "cell_type": "markdown",
   "metadata": {},
   "source": [
    "## Writing great functions in Python\n",
    "\n",
    "As a programmer, you will spend most of your time writing and using functions. Python offers many features to make your functions powerful and flexible. Let's explore some of these by solving a problem:\n",
    "\n",
    "> `Abdul Aziz` is planning to buy a house that costs `Rs 40,00,000`. He considering two options to finance his purchase:\n",
    ">\n",
    "> * Option 1: Make an immediate down payment of `Rs 6,00,000`, and take loan 8-year loan with an interest rate of 10% (compounded monthly) for the remaining amount.\n",
    "> * Option 2: Take a 10-year loan with an interest rate of 8% (compounded monthly) for the entire amount.\n",
    ">\n",
    "> Both these loans have to be paid back in equal monthly installments (EMIs). Which loan has a lower EMI among the two?\n",
    "\n",
    "\n",
    "Since we need to compare the EMIs for two loan options, defining a function to calculate the EMI for a loan would be a great idea.  The inputs to the function would be cost of the house, the down payment, duration of the loan, rate of interest etc. We'll build this function step by step.\n",
    "\n",
    "First, let's write a simple function that calculates the EMI on the entire cost of the house, assuming that the loan must be paid back in one year, and there is no interest or down payment."
   ]
  },
  {
   "cell_type": "code",
   "execution_count": 4,
   "metadata": {},
   "outputs": [],
   "source": [
    "def loan_emi(amount):\n",
    "    emi = round(amount / 12)\n",
    "    print('The EMI is Rs {}'.format(emi))"
   ]
  },
  {
   "cell_type": "code",
   "execution_count": 5,
   "metadata": {},
   "outputs": [
    {
     "name": "stdout",
     "output_type": "stream",
     "text": [
      "The EMI is Rs 333333\n"
     ]
    }
   ],
   "source": [
    "loan_emi(4000000)"
   ]
  },
  {
   "cell_type": "markdown",
   "metadata": {},
   "source": [
    "### Local variables and scope\n",
    "\n",
    "Let's add a second argument to account for the duration of the loan in months."
   ]
  },
  {
   "cell_type": "code",
   "execution_count": 6,
   "metadata": {},
   "outputs": [],
   "source": [
    "def loan_emi(amount, duration):\n",
    "    emi = round(amount / duration)\n",
    "    print('The EMI is Rs {}'.format(emi))"
   ]
  },
  {
   "cell_type": "markdown",
   "metadata": {},
   "source": [
    "Note that the variable `emi` defined inside the function is not accessible outside. The same is true for the parameters `amount` and `duration`. These are all *local variables* that lie within the *scope* of the function.\n",
    "\n",
    "> **Scope**: Scope refers to the region within the code where a particular variable is visible. Every function (or class definition) defines a scope within Python. Variables defined in this scope are called *local variables*. Variables that are available everywhere are called *global variables*. Scope rules allow you to use the same variable names in different functions without sharing values from one to the other. "
   ]
  },
  {
   "cell_type": "code",
   "execution_count": 8,
   "metadata": {},
   "outputs": [
    {
     "ename": "NameError",
     "evalue": "name 'emi' is not defined",
     "output_type": "error",
     "traceback": [
      "\u001b[1;31m---------------------------------------------------------------------------\u001b[0m",
      "\u001b[1;31mNameError\u001b[0m                                 Traceback (most recent call last)",
      "Cell \u001b[1;32mIn[8], line 1\u001b[0m\n\u001b[1;32m----> 1\u001b[0m emi\n",
      "\u001b[1;31mNameError\u001b[0m: name 'emi' is not defined"
     ]
    }
   ],
   "source": [
    "emi"
   ]
  },
  {
   "cell_type": "code",
   "execution_count": 9,
   "metadata": {},
   "outputs": [
    {
     "ename": "NameError",
     "evalue": "name 'amount' is not defined",
     "output_type": "error",
     "traceback": [
      "\u001b[1;31m---------------------------------------------------------------------------\u001b[0m",
      "\u001b[1;31mNameError\u001b[0m                                 Traceback (most recent call last)",
      "Cell \u001b[1;32mIn[9], line 1\u001b[0m\n\u001b[1;32m----> 1\u001b[0m amount\n",
      "\u001b[1;31mNameError\u001b[0m: name 'amount' is not defined"
     ]
    }
   ],
   "source": [
    "amount"
   ]
  },
  {
   "cell_type": "code",
   "execution_count": 10,
   "metadata": {},
   "outputs": [
    {
     "ename": "NameError",
     "evalue": "name 'duration' is not defined",
     "output_type": "error",
     "traceback": [
      "\u001b[1;31m---------------------------------------------------------------------------\u001b[0m",
      "\u001b[1;31mNameError\u001b[0m                                 Traceback (most recent call last)",
      "Cell \u001b[1;32mIn[10], line 1\u001b[0m\n\u001b[1;32m----> 1\u001b[0m duration\n",
      "\u001b[1;31mNameError\u001b[0m: name 'duration' is not defined"
     ]
    }
   ],
   "source": [
    "duration"
   ]
  },
  {
   "cell_type": "markdown",
   "metadata": {},
   "source": [
    "We can now compare a 6-year loan vs. a 10-year loan (assuming no down payment or interest)."
   ]
  },
  {
   "cell_type": "code",
   "execution_count": 7,
   "metadata": {},
   "outputs": [
    {
     "name": "stdout",
     "output_type": "stream",
     "text": [
      "The EMI is Rs 41667\n"
     ]
    }
   ],
   "source": [
    "loan_emi(4000000, 8*12)"
   ]
  },
  {
   "cell_type": "code",
   "execution_count": 11,
   "metadata": {
    "scrolled": true
   },
   "outputs": [
    {
     "name": "stdout",
     "output_type": "stream",
     "text": [
      "The EMI is Rs 33333\n"
     ]
    }
   ],
   "source": [
    "loan_emi(4000000, 10*12)"
   ]
  },
  {
   "cell_type": "markdown",
   "metadata": {},
   "source": [
    "### Return values\n",
    "\n",
    "As you might expect, the EMI for the 8-year loan is higher compared to the 10-year loan. Right now, we're printing out the result. It would be better to return it and store the results in variables for easier comparison. We can do this using the `return` statement"
   ]
  },
  {
   "cell_type": "code",
   "execution_count": null,
   "metadata": {},
   "outputs": [],
   "source": [
    "def loan_emi(amount, duration):\n",
    "    emi = round(amount / duration)\n",
    "    return emi"
   ]
  },
  {
   "cell_type": "code",
   "execution_count": null,
   "metadata": {},
   "outputs": [],
   "source": [
    "emi_8Years = loan_emi(4000000, 8*12)"
   ]
  },
  {
   "cell_type": "code",
   "execution_count": null,
   "metadata": {},
   "outputs": [],
   "source": [
    "emi_10Years = loan_emi(4000000, 10*12)"
   ]
  },
  {
   "cell_type": "code",
   "execution_count": null,
   "metadata": {
    "scrolled": true
   },
   "outputs": [],
   "source": [
    "emi_8Years"
   ]
  },
  {
   "cell_type": "code",
   "execution_count": null,
   "metadata": {},
   "outputs": [],
   "source": [
    "emi_10Years"
   ]
  },
  {
   "cell_type": "markdown",
   "metadata": {},
   "source": [
    "### Optional arguments\n",
    "\n",
    "Next, let's add another argument to account for the immediate down payment. We'll make this an *optional argument* with a default value of 0."
   ]
  },
  {
   "cell_type": "code",
   "execution_count": 12,
   "metadata": {},
   "outputs": [],
   "source": [
    "def loan_emi(amount, duration, down_payment=0):\n",
    "    loan_amount = amount - down_payment\n",
    "    emi = round(loan_amount / duration)\n",
    "    return emi"
   ]
  },
  {
   "cell_type": "code",
   "execution_count": 13,
   "metadata": {},
   "outputs": [],
   "source": [
    "emi_8Years = loan_emi(4000000, 8*12, 6e5)"
   ]
  },
  {
   "cell_type": "code",
   "execution_count": 14,
   "metadata": {},
   "outputs": [
    {
     "data": {
      "text/plain": [
       "35417"
      ]
     },
     "execution_count": 14,
     "metadata": {},
     "output_type": "execute_result"
    }
   ],
   "source": [
    "emi_8Years"
   ]
  },
  {
   "cell_type": "code",
   "execution_count": 15,
   "metadata": {},
   "outputs": [],
   "source": [
    "emi_10Years = loan_emi(4000000, 10*12)"
   ]
  },
  {
   "cell_type": "code",
   "execution_count": 16,
   "metadata": {},
   "outputs": [
    {
     "data": {
      "text/plain": [
       "33333"
      ]
     },
     "execution_count": 16,
     "metadata": {},
     "output_type": "execute_result"
    }
   ],
   "source": [
    "emi_10Years"
   ]
  },
  {
   "cell_type": "markdown",
   "metadata": {},
   "source": [
    "Next, let's add the interest calculation into the function. Here's the formula used to calculate the EMI for a loan:\n",
    "\n",
    "<img src=\"https://i.imgur.com/iKujHGK.png\" style=\"width:240px\">\n",
    "\n",
    "where:\n",
    "\n",
    "* `P` is the loan amount (principal)\n",
    "* `n` is the no. of months\n",
    "* `r` is the rate of interest per month\n",
    "\n",
    "The derivation of this formula is beyond the scope of this tutorial. See this video for an explanation: https://youtu.be/Coxza9ugW4E ."
   ]
  },
  {
   "cell_type": "code",
   "execution_count": 17,
   "metadata": {},
   "outputs": [],
   "source": [
    "def loan_emi(amount, duration, rate, down_payment=0):\n",
    "    loan_amount = amount - down_payment\n",
    "    emi = round(loan_amount * rate * ((1+rate)**duration) / (((1+rate)**duration)-1))\n",
    "    return emi"
   ]
  },
  {
   "cell_type": "markdown",
   "metadata": {},
   "source": [
    "Note that while defining the function, required arguments like `cost`, `duration` and `rate` must appear before optional arguments like `down_payment`.\n",
    "\n",
    "Let's calculate the EMI for Option 1"
   ]
  },
  {
   "cell_type": "code",
   "execution_count": 18,
   "metadata": {
    "scrolled": true
   },
   "outputs": [
    {
     "data": {
      "text/plain": [
       "51592"
      ]
     },
     "execution_count": 18,
     "metadata": {},
     "output_type": "execute_result"
    }
   ],
   "source": [
    "loan_emi(4000000, 8*12, 0.1/12, 6e5)"
   ]
  },
  {
   "cell_type": "markdown",
   "metadata": {},
   "source": [
    "While calculating the EMI for Option 2, we need not include the `down_payment` argument."
   ]
  },
  {
   "cell_type": "code",
   "execution_count": 19,
   "metadata": {},
   "outputs": [
    {
     "data": {
      "text/plain": [
       "48531"
      ]
     },
     "execution_count": 19,
     "metadata": {},
     "output_type": "execute_result"
    }
   ],
   "source": [
    "loan_emi(4000000, 10*12, 0.08/12)"
   ]
  },
  {
   "cell_type": "markdown",
   "metadata": {},
   "source": [
    "### Named arguments\n",
    "\n",
    "Invoking a function with many arguments can often get confusing and is prone to human errors. Python provides the option of invoking functions with *named* arguments for better clarity. You can also split function invocation into multiple lines."
   ]
  },
  {
   "cell_type": "code",
   "execution_count": null,
   "metadata": {},
   "outputs": [],
   "source": [
    "emi1 = loan_emi(\n",
    "    amount=4000000, \n",
    "    duration=8*12, \n",
    "    rate=0.1/12, \n",
    "    down_payment=6e5\n",
    ")"
   ]
  },
  {
   "cell_type": "code",
   "execution_count": null,
   "metadata": {},
   "outputs": [],
   "source": [
    "emi1"
   ]
  },
  {
   "cell_type": "code",
   "execution_count": null,
   "metadata": {},
   "outputs": [],
   "source": [
    "emi2 = loan_emi(amount=4000000, duration=10*12, rate=0.08/12)"
   ]
  },
  {
   "cell_type": "code",
   "execution_count": null,
   "metadata": {},
   "outputs": [],
   "source": [
    "emi2"
   ]
  },
  {
   "cell_type": "markdown",
   "metadata": {},
   "source": [
    "Let's compare the EMIs and display a message for the option with the lower EMI."
   ]
  },
  {
   "cell_type": "code",
   "execution_count": null,
   "metadata": {},
   "outputs": [],
   "source": [
    "if emi1 < emi2:\n",
    "    print(\"Option 1 has the lower EMI: Rs {}\".format(emi1))\n",
    "else:\n",
    "    print(\"Option 2 has the lower EMI: Rs {}\".format(emi2))"
   ]
  },
  {
   "cell_type": "markdown",
   "metadata": {},
   "source": [
    "### Reusing and improving functions \n",
    "\n",
    "Now we know for sure that \"Option 2\" has the lower EMI among the two options. But what's even better is that we now have a handy function `loan_emi` that we can use to solve many other similar problems with just a few lines of code. Let's try it with a couple more questions."
   ]
  },
  {
   "cell_type": "markdown",
   "metadata": {},
   "source": [
    "> **Q**: Shaun is currently paying back a home loan for a house he bought a few years ago. The cost of the house was `$800,000`. Shaun made a down payment of `25%` of the price. He financed the remaining amount using a 6-year loan with an interest rate of `7%` per annum (compounded monthly). Shaun is now buying a car worth `$60,000`, which he is planning to finance using a 1-year loan with an interest rate of `12%` per annum. Both loans are paid back in EMIs. What is the total monthly payment Shaun makes towards loan repayment?\n",
    "\n",
    "This question is now straightforward to solve, using the `loan_emi` function we've already defined."
   ]
  },
  {
   "cell_type": "code",
   "execution_count": 20,
   "metadata": {},
   "outputs": [
    {
     "data": {
      "text/plain": [
       "10229"
      ]
     },
     "execution_count": 20,
     "metadata": {},
     "output_type": "execute_result"
    }
   ],
   "source": [
    "cost_of_house = 800000\n",
    "home_loan_duration = 6*12 # months\n",
    "home_loan_rate = 0.07/12 # monthly\n",
    "home_down_payment = .25 * 800000\n",
    "\n",
    "emi_house = loan_emi(amount=cost_of_house,\n",
    "                     duration=home_loan_duration,\n",
    "                     rate=home_loan_rate, \n",
    "                     down_payment=home_down_payment)\n",
    "\n",
    "emi_house"
   ]
  },
  {
   "cell_type": "code",
   "execution_count": 21,
   "metadata": {},
   "outputs": [
    {
     "data": {
      "text/plain": [
       "5331"
      ]
     },
     "execution_count": 21,
     "metadata": {},
     "output_type": "execute_result"
    }
   ],
   "source": [
    "cost_of_car = 60000\n",
    "car_loan_duration = 1*12 # months\n",
    "car_loan_rate = .12/12 # monthly\n",
    "\n",
    "emi_car = loan_emi(amount=cost_of_car, \n",
    "                   duration=car_loan_duration, \n",
    "                   rate=car_loan_rate)\n",
    "\n",
    "emi_car"
   ]
  },
  {
   "cell_type": "code",
   "execution_count": 22,
   "metadata": {},
   "outputs": [
    {
     "name": "stdout",
     "output_type": "stream",
     "text": [
      "Shaun makes a total monthly payment of $15560 towards loan repayments.\n"
     ]
    }
   ],
   "source": [
    "print(\"Shaun makes a total monthly payment of ${} towards loan repayments.\".format(emi_house+emi_car))"
   ]
  },
  {
   "cell_type": "markdown",
   "metadata": {},
   "source": [
    "### Exceptions and `try`-`except`\n",
    "\n",
    "> Q: If you borrow `$100,000` using a 10-year loan with an interest rate of 9% per annum, what is the total amount you end up paying as interest?\n",
    "\n",
    "One way to solve this problem is to compare the EMIs for two loans: one with the given rate of interest and another with a 0% rate of interest. The total interest paid is then simply the sum of monthly differences over the duration of the loan."
   ]
  },
  {
   "cell_type": "code",
   "execution_count": 23,
   "metadata": {},
   "outputs": [
    {
     "data": {
      "text/plain": [
       "1267"
      ]
     },
     "execution_count": 23,
     "metadata": {},
     "output_type": "execute_result"
    }
   ],
   "source": [
    "emi_with_interest = loan_emi(amount=100000, duration=10*12, rate=0.09/12)\n",
    "emi_with_interest"
   ]
  },
  {
   "cell_type": "code",
   "execution_count": 24,
   "metadata": {},
   "outputs": [
    {
     "ename": "ZeroDivisionError",
     "evalue": "float division by zero",
     "output_type": "error",
     "traceback": [
      "\u001b[1;31m---------------------------------------------------------------------------\u001b[0m",
      "\u001b[1;31mZeroDivisionError\u001b[0m                         Traceback (most recent call last)",
      "Cell \u001b[1;32mIn[24], line 1\u001b[0m\n\u001b[1;32m----> 1\u001b[0m emi_without_interest \u001b[38;5;241m=\u001b[39m loan_emi(amount\u001b[38;5;241m=\u001b[39m\u001b[38;5;241m100000\u001b[39m, duration\u001b[38;5;241m=\u001b[39m\u001b[38;5;241m10\u001b[39m\u001b[38;5;241m*\u001b[39m\u001b[38;5;241m12\u001b[39m, rate\u001b[38;5;241m=\u001b[39m\u001b[38;5;241m0.\u001b[39m\u001b[38;5;241m/\u001b[39m\u001b[38;5;241m12\u001b[39m)\n\u001b[0;32m      2\u001b[0m emi_without_interest\n",
      "Cell \u001b[1;32mIn[17], line 3\u001b[0m, in \u001b[0;36mloan_emi\u001b[1;34m(amount, duration, rate, down_payment)\u001b[0m\n\u001b[0;32m      1\u001b[0m \u001b[38;5;28;01mdef\u001b[39;00m \u001b[38;5;21mloan_emi\u001b[39m(amount, duration, rate, down_payment\u001b[38;5;241m=\u001b[39m\u001b[38;5;241m0\u001b[39m):\n\u001b[0;32m      2\u001b[0m     loan_amount \u001b[38;5;241m=\u001b[39m amount \u001b[38;5;241m-\u001b[39m down_payment\n\u001b[1;32m----> 3\u001b[0m     emi \u001b[38;5;241m=\u001b[39m \u001b[38;5;28mround\u001b[39m(loan_amount \u001b[38;5;241m*\u001b[39m rate \u001b[38;5;241m*\u001b[39m ((\u001b[38;5;241m1\u001b[39m\u001b[38;5;241m+\u001b[39mrate)\u001b[38;5;241m*\u001b[39m\u001b[38;5;241m*\u001b[39mduration) \u001b[38;5;241m/\u001b[39m (((\u001b[38;5;241m1\u001b[39m\u001b[38;5;241m+\u001b[39mrate)\u001b[38;5;241m*\u001b[39m\u001b[38;5;241m*\u001b[39mduration)\u001b[38;5;241m-\u001b[39m\u001b[38;5;241m1\u001b[39m))\n\u001b[0;32m      4\u001b[0m     \u001b[38;5;28;01mreturn\u001b[39;00m emi\n",
      "\u001b[1;31mZeroDivisionError\u001b[0m: float division by zero"
     ]
    }
   ],
   "source": [
    "emi_without_interest = loan_emi(amount=100000, duration=10*12, rate=0./12)\n",
    "emi_without_interest"
   ]
  },
  {
   "cell_type": "markdown",
   "metadata": {},
   "source": [
    "\n",
    "\n",
    "Something seems to have gone wrong! If you look at the error message above carefully, Python tells us precisely what is wrong. Python *throws* a `ZeroDivisionError` with a message indicating that we're trying to divide a number by zero. `ZeroDivisonError` is an *exception* that stops further execution of the program.\n",
    "\n",
    "> **Exception**: Even if a statement or expression is syntactically correct, it may cause an error when the Python interpreter tries to execute it. Errors detected during execution are called exceptions. Exceptions typically stop further execution of the program unless handled within the program using `try`-`except` statements.\n",
    "\n",
    "Python provides many built-in exceptions *thrown* when built-in operators, functions, or methods are used incorrectly: https://docs.python.org/3/library/exceptions.html#built-in-exceptions. You can also define your custom exception by extending the `Exception` class (more on that later).\n",
    "\n",
    "You can use the `try` and `except` statements to *handle* an exception. Here's an example:"
   ]
  },
  {
   "cell_type": "code",
   "execution_count": 26,
   "metadata": {},
   "outputs": [
    {
     "name": "stdout",
     "output_type": "stream",
     "text": [
      "Now computing the result..\n",
      "Computation was completed successfully\n",
      "2.5\n"
     ]
    }
   ],
   "source": [
    "try:\n",
    "    print(\"Now computing the result..\")\n",
    "    result = 5 / 2\n",
    "    print(\"Computation was completed successfully\")\n",
    "except ZeroDivisionError:\n",
    "    print(\"Failed to compute result because you were trying to divide by zero\")\n",
    "    result = None\n",
    "\n",
    "print(result)"
   ]
  },
  {
   "cell_type": "markdown",
   "metadata": {},
   "source": [
    "When an exception occurs inside a `try` block, the block's remaining statements are skipped. The `except` block is executed if the type of exception thrown matches that of the exception being handled. After executing the `except` block, the program execution returns to the normal flow.\n",
    "\n",
    "You can also handle more than one type of exception using multiple `except` statements. Learn more about exceptions here: https://www.w3schools.com/python/python_try_except.asp .\n",
    "\n",
    "Let's enhance the `loan_emi` function to use `try`-`except` to handle the scenario where the interest rate is 0%. It's common practice to make changes/enhancements to functions over time as new scenarios and use cases come up. It makes functions more robust & versatile."
   ]
  },
  {
   "cell_type": "code",
   "execution_count": 29,
   "metadata": {},
   "outputs": [],
   "source": [
    "import math"
   ]
  },
  {
   "cell_type": "code",
   "execution_count": 30,
   "metadata": {},
   "outputs": [],
   "source": [
    "def loan_emi(amount, duration, rate, down_payment=0):\n",
    "    loan_amount = amount - down_payment\n",
    "    try:\n",
    "        emi = loan_amount * rate * ((1+rate)**duration) / (((1+rate)**duration)-1)\n",
    "    except ZeroDivisionError:\n",
    "        emi = loan_amount / duration\n",
    "    emi = math.ceil(emi)\n",
    "    return emi"
   ]
  },
  {
   "cell_type": "markdown",
   "metadata": {},
   "source": [
    "We can use the updated `loan_emi` function to solve our problem.\n",
    "\n",
    "> **Q**: If you borrow `$100,000` using a 10-year loan with an interest rate of 9% per annum, what is the total amount you end up paying as interest?\n",
    "\n"
   ]
  },
  {
   "cell_type": "code",
   "execution_count": 31,
   "metadata": {},
   "outputs": [
    {
     "data": {
      "text/plain": [
       "1267"
      ]
     },
     "execution_count": 31,
     "metadata": {},
     "output_type": "execute_result"
    }
   ],
   "source": [
    "emi_with_interest = loan_emi(amount=100000, duration=10*12, rate=0.09/12)\n",
    "emi_with_interest"
   ]
  },
  {
   "cell_type": "code",
   "execution_count": 32,
   "metadata": {},
   "outputs": [
    {
     "data": {
      "text/plain": [
       "834"
      ]
     },
     "execution_count": 32,
     "metadata": {},
     "output_type": "execute_result"
    }
   ],
   "source": [
    "emi_without_interest = loan_emi(amount=100000, duration=10*12, rate=0)\n",
    "emi_without_interest"
   ]
  },
  {
   "cell_type": "code",
   "execution_count": 33,
   "metadata": {},
   "outputs": [],
   "source": [
    "total_interest = (emi_with_interest - emi_without_interest) * 10*12"
   ]
  },
  {
   "cell_type": "code",
   "execution_count": 34,
   "metadata": {},
   "outputs": [
    {
     "name": "stdout",
     "output_type": "stream",
     "text": [
      "The total interest paid is $51960.\n"
     ]
    }
   ],
   "source": [
    "print(\"The total interest paid is ${}.\".format(total_interest))"
   ]
  },
  {
   "cell_type": "markdown",
   "metadata": {},
   "source": [
    "### Documenting functions using Docstrings\n",
    "\n",
    "We can add some documentation within our function using a *docstring*. A docstring is simply a string that appears as the first statement within the function body, and is used by the `help` function. A good docstring describes what the function does, and provides some explanation about the arguments."
   ]
  },
  {
   "cell_type": "code",
   "execution_count": 35,
   "metadata": {},
   "outputs": [],
   "source": [
    "def loan_emi(amount, duration, rate, down_payment=0):\n",
    "    \"\"\"Calculates the equal montly installment (EMI) for a loan.\n",
    "    \n",
    "    Arguments:\n",
    "        amount - Total amount to be spent (loan + down payment)\n",
    "        duration - Duration of the loan (in months)\n",
    "        rate - Rate of interest (monthly)\n",
    "        down_payment (optional) - Optional intial payment (deducted from amount)\n",
    "    \"\"\"\n",
    "    loan_amount = amount - down_payment\n",
    "    try:\n",
    "        emi = loan_amount * rate * ((1+rate)**duration) / (((1+rate)**duration)-1)\n",
    "    except ZeroDivisionError:\n",
    "        emi = loan_amount / duration\n",
    "    emi = math.ceil(emi)\n",
    "    return emi"
   ]
  },
  {
   "cell_type": "markdown",
   "metadata": {},
   "source": [
    "In the docstring above, we've provided some additional information that the `duration` and `rate` are measured in months. You might even consider naming the arguments `duration_months` and `rate_monthly`, to avoid any confusion whatsoever. Can you think of some other ways to improve the function?"
   ]
  },
  {
   "cell_type": "code",
   "execution_count": 36,
   "metadata": {},
   "outputs": [
    {
     "name": "stdout",
     "output_type": "stream",
     "text": [
      "Help on function loan_emi in module __main__:\n",
      "\n",
      "loan_emi(amount, duration, rate, down_payment=0)\n",
      "    Calculates the equal montly installment (EMI) for a loan.\n",
      "\n",
      "    Arguments:\n",
      "        amount - Total amount to be spent (loan + down payment)\n",
      "        duration - Duration of the loan (in months)\n",
      "        rate - Rate of interest (monthly)\n",
      "        down_payment (optional) - Optional intial payment (deducted from amount)\n",
      "\n"
     ]
    }
   ],
   "source": [
    "help(loan_emi)"
   ]
  },
  {
   "cell_type": "markdown",
   "metadata": {},
   "source": [
    "## Summary and Further Reading\n",
    "\n",
    "With this, we complete our discussion of functions in Python. We've covered the following topics in this tutorial:\n",
    "\n",
    "* Creating and using functions\n",
    "* Functions with one or more arguments\n",
    "* Local variables and scope\n",
    "* Returning values using `return`\n",
    "* Using default arguments to make a function flexible\n",
    "* Using named arguments while invoking a function\n",
    "* Importing modules and using library functions\n",
    "* Reusing and improving functions to handle new use cases\n",
    "* Handling exceptions with `try`-`except`\n",
    "* Documenting functions using docstrings\n",
    "\n",
    "This tutorial on functions in Python is by no means exhaustive. Here are a few more topics to learn about:\n",
    "\n",
    "* Functions with an arbitrary number of arguments using (`*args` and `**kwargs`)\n",
    "* Defining functions inside functions (and closures)\n",
    "* A function that invokes itself (recursion)\n",
    "* Functions that accept other functions as arguments or return other functions\n",
    "* Functions that enhance other functions (decorators)\n",
    "\n",
    "Following are some resources to learn about more functions in Python:\n",
    "\n",
    "* Python Tutorial at W3Schools: https://www.w3schools.com/python/\n",
    "* Practical Python Programming: https://dabeaz-course.github.io/practical-python/Notes/Contents.html\n",
    "* Python official documentation: https://docs.python.org/3/tutorial/index.html"
   ]
  },
  {
   "cell_type": "markdown",
   "metadata": {},
   "source": [
    "## Questions for Revision\n",
    "\n",
    "Try answering the following questions to test your understanding of the topics covered in this notebook:\n",
    "\n",
    "1. What is a function?\n",
    "2. What are the benefits of using functions?\n",
    "3. What are some built-in functions in Python?\n",
    "4. How do you define a function in Python? Give an example.\n",
    "5. What is the body of a function?\n",
    "6. When are the statements in the body of a function executed?\n",
    "7. What is meant by calling or invoking a function? Give an example.\n",
    "8. What are function arguments? How are they useful?\n",
    "9. How do you store the result of a function in a variable?\n",
    "10. What is the purpose of the `return` keyword in Python?\n",
    "11. Can you return multiple values from a function?\n",
    "12. Can a `return` statement be used inside an `if` block or a `for` loop?\n",
    "13. Can the `return` keyword be used outside a function?\n",
    "14. What is scope in a programming region? \n",
    "15. How do you define a variable inside a function?\n",
    "16. What are local & global variables?\n",
    "17. Can you access the variables defined inside a function outside its body? Why or why not?\n",
    "18. What do you mean by the statement \"a function defines a scope within Python\"?\n",
    "19. Do for and while loops define a scope, like functions?\n",
    "20. Do if-else blocks define a scope, like functions?\n",
    "21. What are optional function arguments & default values? Give an example.\n",
    "22. Why should the required arguments appear before the optional arguments in a function definition?\n",
    "23. How do you invoke a function with named arguments? Illustrate with an example.\n",
    "24. Can you split a function invocation into multiple lines?\n",
    "25. Write a function that takes a number and rounds it up to the nearest integer.\n",
    "26. What are modules in Python?\n",
    "27. What is a Python library?\n",
    "28. What is the Python Standard Library?\n",
    "29. Where can you learn about the modules and functions available in the Python standard library?\n",
    "30. How do you install a third-party library?\n",
    "31. What is a module namespace? How is it useful?\n",
    "32. What problems would you run into if Python modules did not provide namespaces?\n",
    "33. How do you import a module?\n",
    "34. How do you use a function from an imported module? Illustrate with an example.\n",
    "35. Can you invoke a function inside the body of another function? Give an example.\n",
    "36. What is the single responsibility principle, and how does it apply while writing functions?\n",
    "37. What some characteristics of well-written functions?\n",
    "38. Can you use if statements or while loops within a function? Illustrate with an example.\n",
    "39. What are exceptions in Python? When do they occur?\n",
    "40. How are exceptions different from syntax errors?\n",
    "41. What are the different types of in-built exceptions in Python? Where can you learn about them?\n",
    "42. How do you prevent the termination of a program due to an exception?\n",
    "43. What is the purpose of the `try`-`except` statements in Python?\n",
    "44. What is the syntax of the `try`-`except` statements? Give an example.\n",
    "45. What happens if an exception occurs inside a `try` block?\n",
    "46. How do you handle two different types of exceptions using `except`? Can you have multiple `except` blocks under a single `try` block?\n",
    "47. How do you create an `except` block to handle any type of exception?\n",
    "48. Illustrate the usage of `try`-`except` inside a function with an example.\n",
    "49. What is a docstring? Why is it useful?\n",
    "50. How do you display the docstring for a function?\n",
    "51. What are *args and **kwargs? How are they useful? Give an example.\n",
    "52. Can you define functions inside functions? \n",
    "53. What is function closure in Python? How is it useful? Give an example.\n",
    "54. What is recursion? Illustrate with an example.\n",
    "55. Can functions accept other functions as arguments? Illustrate with an example.\n",
    "56. Can functions return other functions as results? Illustrate with an example.\n",
    "57. What are decorators? How are they useful?\n",
    "58. Implement a function decorator which prints the arguments and result of wrapped functions.\n",
    "59. What are some in-built decorators in Python?\n",
    "60. What are some popular Python libraries?"
   ]
  }
 ],
 "metadata": {
  "kernelspec": {
   "display_name": "Python 3 (ipykernel)",
   "language": "python",
   "name": "python3"
  },
  "language_info": {
   "codemirror_mode": {
    "name": "ipython",
    "version": 3
   },
   "file_extension": ".py",
   "mimetype": "text/x-python",
   "name": "python",
   "nbconvert_exporter": "python",
   "pygments_lexer": "ipython3",
   "version": "3.12.4"
  }
 },
 "nbformat": 4,
 "nbformat_minor": 4
}
