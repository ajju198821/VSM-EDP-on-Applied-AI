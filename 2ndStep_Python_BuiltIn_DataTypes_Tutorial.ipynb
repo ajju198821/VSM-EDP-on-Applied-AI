{
 "cells": [
  {
   "cell_type": "markdown",
   "id": "b3fe97e6",
   "metadata": {},
   "source": [
    "<big><i>\n",
    "All the Notebooks in this lecture series by **[Abdul Aziz MD](https://www.linkedin.com/in/abdul-aziz-md/)**\n",
    "</i></big>\n"
   ]
  },
  {
   "cell_type": "markdown",
   "id": "b7c2ef5b",
   "metadata": {},
   "source": [
    "### Python Programming Tutorial - Lists, Dictionary, Tuple, and Sets\n",
    "\n",
    "This tutorial covers the following topics:\n",
    "- Storing information using variables\n",
    "- Primitive data types in Python: Integer, Float, Boolean, None, and String\n",
    "- Built-in data structures in Python: List, Tuple, Set, and Dictionary\n",
    "- Methods and operators supported by built-in data types"
   ]
  },
  {
   "cell_type": "markdown",
   "id": "3f9bff29",
   "metadata": {},
   "source": [
    "## Storing Information Using Variables\n",
    "Variables in Python are used to store data. You can assign a value to a variable using the assignment operator `=`.\n",
    "\n",
    "### Example"
   ]
  },
  {
   "cell_type": "code",
   "execution_count": null,
   "id": "b63470d6",
   "metadata": {},
   "outputs": [],
   "source": [
    "name = \"John\"\n",
    "age = 21\n",
    "height = 5.9\n",
    "\n",
    "# Printing variables\n",
    "print(\"Name:\", name)\n",
    "print(\"Age:\", age)\n",
    "print(\"Height:\", height)"
   ]
  },
  {
   "cell_type": "markdown",
   "id": "3cfa013c",
   "metadata": {},
   "source": [
    "## Primitive Data Types in Python\n",
    "Python supports several primitive data types, such as:\n",
    "1. **Integer**: Whole numbers\n",
    "2. **Float**: Numbers with decimal points\n",
    "3. **Boolean**: True or False\n",
    "4. **None**: Represents the absence of value\n",
    "5. **String**: Sequence of characters\n",
    "\n",
    "### Examples"
   ]
  },
  {
   "cell_type": "code",
   "execution_count": null,
   "id": "adcbc3b0",
   "metadata": {},
   "outputs": [],
   "source": [
    "# Integer\n",
    "x = 10\n",
    "print(\"Integer:\", x)\n",
    "\n",
    "# Float\n",
    "y = 3.14\n",
    "print(\"Float:\", y)\n",
    "\n",
    "# Boolean\n",
    "is_student = True\n",
    "print(\"Boolean:\", is_student)\n",
    "\n",
    "# None\n",
    "z = None\n",
    "print(\"None type:\", z)\n",
    "\n",
    "# String\n",
    "text = \"Hello, Python!\"\n",
    "print(\"String:\", text)"
   ]
  },
  {
   "cell_type": "markdown",
   "id": "657aa131",
   "metadata": {},
   "source": [
    "### String\n",
    "\n",
    "A string is used to represent text (*a string of characters*) in Python. Strings must be surrounded using quotations (either the single quote `'` or the double quote `\"`). Strings have the type `string`."
   ]
  },
  {
   "cell_type": "code",
   "execution_count": null,
   "id": "1faf1162",
   "metadata": {},
   "outputs": [],
   "source": [
    "today = \"Saturday\""
   ]
  },
  {
   "cell_type": "code",
   "execution_count": null,
   "id": "9d14c03c",
   "metadata": {},
   "outputs": [],
   "source": [
    "today"
   ]
  },
  {
   "cell_type": "code",
   "execution_count": null,
   "id": "86fbd98c",
   "metadata": {},
   "outputs": [],
   "source": [
    "# an integer to a string\n",
    "S = str(42)\n",
    "print(S)"
   ]
  },
  {
   "attachments": {
    "image.png": {
     "image/png": "[encoded data removed]"
    }
   },
   "cell_type": "markdown",
   "id": "1650daba",
   "metadata": {},
   "source": [
    "![image.png](attachment:image.png)"
   ]
  },
  {
   "cell_type": "code",
   "execution_count": null,
   "id": "01d20658",
   "metadata": {},
   "outputs": [],
   "source": [
    "# Indexing\n",
    "S = 'ABCDEFGHI'\n",
    "print(S[0])    # Prints A\n",
    "print(S[4])    # Prints E"
   ]
  },
  {
   "cell_type": "code",
   "execution_count": null,
   "id": "5a678008",
   "metadata": {},
   "outputs": [],
   "source": [
    "# Negative Indexing\n",
    "S = 'ABCDEFGHI'\n",
    "print(S[-1])    # Prints I\n",
    "print(S[-6])    # Prints D"
   ]
  },
  {
   "cell_type": "markdown",
   "id": "1210320e",
   "metadata": {},
   "source": [
    "### Slicing a String\n",
    "\n",
    "A segment of a string is called a slice and you can extract one by using a slice operator. A slice of a string is also a string."
   ]
  },
  {
   "cell_type": "code",
   "execution_count": null,
   "id": "f1e0d9e6",
   "metadata": {},
   "outputs": [],
   "source": [
    "S = 'ABCDEFGHI'\n",
    "print(S[2:5])      # Prints CDE\n",
    "print(S[5:-1])     # Prints FGH\n",
    "print(S[1:6:2])    # Prints BDF"
   ]
  },
  {
   "cell_type": "markdown",
   "id": "3dce010f",
   "metadata": {},
   "source": [
    "## Modify a String\n",
    "It is tempting to use the [] operator on the left side of an assignment, in order to convert a character into a string. for example:"
   ]
  },
  {
   "cell_type": "code",
   "execution_count": null,
   "id": "e74e28b1",
   "metadata": {},
   "outputs": [],
   "source": [
    "S = 'Hello, World!'\n",
    "S[0] = 'J'\n",
    "# Triggers TypeError: 'str' object does not support item assignment"
   ]
  },
  {
   "cell_type": "markdown",
   "id": "a57830b5",
   "metadata": {},
   "source": [
    "The reason for the error is that the strings are unchangeable (immutable) and because of which you cannot change the existing string. The best you can do is create a new string that is a variation of the original:"
   ]
  },
  {
   "cell_type": "code",
   "execution_count": 1,
   "id": "e596846e",
   "metadata": {},
   "outputs": [
    {
     "name": "stdout",
     "output_type": "stream",
     "text": [
      "Pello, world!\n"
     ]
    }
   ],
   "source": [
    "S = 'Hello, world!'\n",
    "new_S = 'P' + S[1:]\n",
    "print(new_S)\n",
    "# Prints Pello, world!"
   ]
  },
  {
   "cell_type": "markdown",
   "id": "b0d976a5",
   "metadata": {},
   "source": [
    "### String Concatenation\n",
    "You can concatenate strings using the concatenation operator `+` or the augmented assignment operator `+=`"
   ]
  },
  {
   "cell_type": "code",
   "execution_count": 2,
   "id": "25861c53",
   "metadata": {},
   "outputs": [
    {
     "name": "stdout",
     "output_type": "stream",
     "text": [
      "Hello, World!\n"
     ]
    }
   ],
   "source": [
    "# concatenation operator\n",
    "S = 'Hello,' + ' World!'\n",
    "print(S)\n",
    "# Hello, World!"
   ]
  },
  {
   "cell_type": "markdown",
   "id": "05632425",
   "metadata": {},
   "source": [
    "### String methods\n",
    "\n",
    "--> Explore"
   ]
  },
  {
   "cell_type": "markdown",
   "id": "1b564a19",
   "metadata": {},
   "source": [
    "## Built-in Data Structures in Python\n",
    "Python provides the following built-in data structures:\n",
    "1. **List**: Ordered, mutable collection\n",
    "2. **Tuple**: Ordered, immutable collection\n",
    "3. **Set**: Unordered collection of unique elements\n",
    "4. **Dictionary**: Key-value pairs\n",
    "\n",
    "### Examples"
   ]
  },
  {
   "cell_type": "code",
   "execution_count": null,
   "id": "3b423711",
   "metadata": {},
   "outputs": [],
   "source": [
    "# List\n",
    "fruits = [\"apple\", \"banana\", \"cherry\"]\n",
    "print(\"List:\", fruits)\n",
    "\n",
    "# Tuple\n",
    "numbers = (1, 2, 3)\n",
    "print(\"Tuple:\", numbers)\n",
    "\n",
    "# Set\n",
    "unique_numbers = {1, 2, 2, 3}\n",
    "print(\"Set:\", unique_numbers)\n",
    "\n",
    "# Dictionary\n",
    "student = {\"name\": \"Alice\", \"age\": 20, \"grade\": \"A\"}\n",
    "print(\"Dictionary:\", student)"
   ]
  },
  {
   "cell_type": "markdown",
   "id": "ea9f7af5",
   "metadata": {},
   "source": [
    "## Methods and Operators Supported by Built-in Data Types\n",
    "Python's built-in data types come with various methods and support common operators.\n",
    "\n",
    "### List Methods and Operators"
   ]
  },
  {
   "cell_type": "code",
   "execution_count": null,
   "id": "87292a37",
   "metadata": {},
   "outputs": [],
   "source": [
    "# List methods\n",
    "fruits.append(\"orange\")\n",
    "print(\"After append:\", fruits)\n",
    "fruits.remove(\"banana\")\n",
    "print(\"After remove:\", fruits)\n",
    "\n",
    "# Operators\n",
    "print(\"Length of list:\", len(fruits))\n",
    "print(\"Is 'apple' in list?\", \"apple\" in fruits)"
   ]
  },
  {
   "cell_type": "markdown",
   "id": "260ecc53",
   "metadata": {},
   "source": [
    "### Dictionary Methods and Operators"
   ]
  },
  {
   "cell_type": "code",
   "execution_count": null,
   "id": "a90664c1",
   "metadata": {},
   "outputs": [],
   "source": [
    "# Dictionary methods\n",
    "student.update({\"city\": \"New York\"})\n",
    "print(\"After update:\", student)\n",
    "print(\"Keys:\", student.keys())\n",
    "print(\"Values:\", student.values())\n",
    "\n",
    "# Operators\n",
    "print(\"Is 'name' a key?\", \"name\" in student)"
   ]
  },
  {
   "cell_type": "markdown",
   "id": "2f29a144",
   "metadata": {},
   "source": [
    "### Set Methods and Operators"
   ]
  },
  {
   "cell_type": "code",
   "execution_count": null,
   "id": "a2997381",
   "metadata": {},
   "outputs": [],
   "source": [
    "# Set methods\n",
    "unique_numbers.add(4)\n",
    "print(\"After add:\", unique_numbers)\n",
    "unique_numbers.discard(2)\n",
    "print(\"After discard:\", unique_numbers)\n",
    "\n",
    "# Operators\n",
    "print(\"Is 3 in set?\", 3 in unique_numbers)"
   ]
  },
  {
   "cell_type": "markdown",
   "id": "754b21da",
   "metadata": {},
   "source": [
    "# Happy Learning😊"
   ]
  }
 ],
 "metadata": {
  "kernelspec": {
   "display_name": "base",
   "language": "python",
   "name": "python3"
  },
  "language_info": {
   "codemirror_mode": {
    "name": "ipython",
    "version": 3
   },
   "file_extension": ".py",
   "mimetype": "text/x-python",
   "name": "python",
   "nbconvert_exporter": "python",
   "pygments_lexer": "ipython3",
   "version": "3.12.4"
  }
 },
 "nbformat": 4,
 "nbformat_minor": 5
}
