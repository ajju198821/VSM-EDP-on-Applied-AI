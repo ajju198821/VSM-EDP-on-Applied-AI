{
 "cells": [
  {
   "cell_type": "markdown",
   "metadata": {},
   "source": [
    "<big><i>\n",
    "All the Notebooks in this lecture series by **[Abdul Aziz MD](https://www.linkedin.com/in/abdul-aziz-md/)**\n",
    "</i></big>\n"
   ]
  },
  {
   "cell_type": "markdown",
   "metadata": {},
   "source": [
    "# Python Programming Tutorial : 1st Step\n",
    "This tutorial covers the following topics:\n",
    "- Performing arithmetic operations using Python\n",
    "- Solving multi-step problems using variables\n",
    "- Evaluating conditions using Python\n",
    "- Combining conditions with logical operators\n",
    "- Adding text styles using Markdown"
   ]
  },
  {
   "cell_type": "markdown",
   "metadata": {},
   "source": [
    "## Performing Arithmetic Operations Using Python\n",
    "Python supports basic arithmetic operations like:\n",
    "- Addition (`+`)\n",
    "- Subtraction (`-`)\n",
    "- Multiplication (`*`)\n",
    "- Division (`/`)\n",
    "- Exponentiation (`**`)\n",
    "- Modulus (`%`)\n",
    "- Integer Division (`//`)\n"
   ]
  },
  {
   "cell_type": "code",
   "execution_count": 1,
   "metadata": {},
   "outputs": [
    {
     "name": "stdout",
     "output_type": "stream",
     "text": [
      "Addition: 13\n",
      "Subtraction: 7\n",
      "Multiplication: 30\n",
      "Division: 3.3333333333333335\n",
      "Exponentiation: 1000\n",
      "Modulus: 1\n",
      "Integer Division: 3\n"
     ]
    }
   ],
   "source": [
    "# Examples of arithmetic operations\n",
    "a = 10\n",
    "b = 3\n",
    "print(\"Addition:\", a + b)\n",
    "print(\"Subtraction:\", a - b)\n",
    "print(\"Multiplication:\", a * b)\n",
    "print(\"Division:\", a / b)\n",
    "print(\"Exponentiation:\", a ** b)\n",
    "print(\"Modulus:\", a % b)\n",
    "print(\"Integer Division:\", a // b)"
   ]
  },
  {
   "cell_type": "markdown",
   "metadata": {},
   "source": [
    "### Advanced Arithmetic Operations\n",
    "Python supports more complex arithmetic calculations:"
   ]
  },
  {
   "cell_type": "code",
   "execution_count": 2,
   "metadata": {},
   "outputs": [
    {
     "name": "stdout",
     "output_type": "stream",
     "text": [
      "Complex Calculation: (10 + 5) * 2 - 6 / 2 = 27.0\n",
      "Square Root of 16: 4.0\n",
      "Rounding 3.7: 4\n"
     ]
    }
   ],
   "source": [
    "# Combining multiple operations\n",
    "complex_calc = (10 + 5) * 2 - 6 / 2\n",
    "print(\"Complex Calculation: (10 + 5) * 2 - 6 / 2 =\", complex_calc)\n",
    "\n",
    "# Using built-in functions\n",
    "import math\n",
    "\n",
    "# Square root\n",
    "sqrt_result = math.sqrt(16)\n",
    "print(\"Square Root of 16:\", sqrt_result)\n",
    "\n",
    "# Rounding\n",
    "round_result = round(3.7)\n",
    "print(\"Rounding 3.7:\", round_result)"
   ]
  },
  {
   "cell_type": "markdown",
   "metadata": {},
   "source": [
    "### Solving Multi-step Problems Using Variables\n",
    "Variables store data that can be used for calculations. Let's solve a real-world problem:\n",
    "\n",
    "1. **Problem:** Calculate the total cost of items bought in a store.\n",
    "- Apples cost $3 each\n",
    "- Bananas cost $1 each\n",
    "- Calculate the total cost for 4 apples and 5 bananas."
   ]
  },
  {
   "cell_type": "code",
   "execution_count": 4,
   "metadata": {},
   "outputs": [
    {
     "name": "stdout",
     "output_type": "stream",
     "text": [
      "Total cost: 17\n"
     ]
    }
   ],
   "source": [
    "# Solving the problem using variables\n",
    "apple_price = 3\n",
    "banana_price = 1\n",
    "apples = 4\n",
    "bananas = 5\n",
    "total_cost = (apple_price * apples) + (banana_price * bananas)\n",
    "print(\"Total cost:\", total_cost)"
   ]
  },
  {
   "cell_type": "markdown",
   "metadata": {},
   "source": [
    "2. **Problem:** Write a Python program to calculate the following properties of a circle given its radius = 5:\n",
    "\n",
    "**Diameter:**  The diameter of a circle is twice its radius.\n",
    "\n",
    "**Circumference:** The circumference of a circle is calculated using the formula:\n",
    "\n",
    "`Circumference=2⋅π⋅radius`\n",
    "\n",
    "**Area:** The area of a circle is calculated using the formula:\n",
    "\n",
    "`Area=π⋅radius**2`"
   ]
  },
  {
   "cell_type": "code",
   "execution_count": 11,
   "metadata": {},
   "outputs": [
    {
     "name": "stdout",
     "output_type": "stream",
     "text": [
      "Circle Calculations:\n",
      "Radius: 5\n",
      "Diameter: 10\n",
      "Circumference: 31.42\n",
      "Area: 78.54\n"
     ]
    }
   ],
   "source": [
    "# Declaring variables\n",
    "radius = 5\n",
    "pi = 3.14159\n",
    "\n",
    "# Multi-step calculation of circle area\n",
    "diameter = 2 * radius\n",
    "circumference = pi * diameter\n",
    "area = pi * (radius ** 2)\n",
    "\n",
    "print(f\"Circle Calculations:\")\n",
    "print(f\"Radius: {radius}\")\n",
    "print(f\"Diameter: {diameter}\")\n",
    "print(f\"Circumference: {circumference:.2f}\")\n",
    "print(f\"Area: {area:.2f}\")"
   ]
  },
  {
   "cell_type": "markdown",
   "metadata": {},
   "source": [
    "## Evaluating Conditions Using Python\n",
    "Python provides comparison operators to evaluate conditions:\n",
    "- `==`: Equal to\n",
    "- `!=`: Not equal to\n",
    "- `<`: Less than\n",
    "- `>`: Greater than\n",
    "- `<=`: Less than or equal to\n",
    "- `>=`: Greater than or equal to\n"
   ]
  },
  {
   "cell_type": "code",
   "execution_count": null,
   "metadata": {},
   "outputs": [],
   "source": [
    "# Example of evaluating conditions\n",
    "x = 10\n",
    "y = 20\n",
    "print(\"Is x equal to y?\", x == y)\n",
    "print(\"Is x less than y?\", x < y)\n",
    "print(\"Is x greater than or equal to y?\", x >= y)"
   ]
  },
  {
   "cell_type": "markdown",
   "metadata": {},
   "source": [
    "## Combining Conditions with Logical Operators\n",
    "Python allows combining multiple conditions using:\n",
    "- `and`: Both conditions must be true\n",
    "- `or`: At least one condition must be true\n",
    "- `not`: Negates the condition\n"
   ]
  },
  {
   "cell_type": "code",
   "execution_count": null,
   "metadata": {},
   "outputs": [],
   "source": [
    "# Example of combining conditions\n",
    "x = 15\n",
    "print(\"Is x between 10 and 20?\", x > 10 and x < 20)\n",
    "print(\"Is x less than 10 or greater than 20?\", x < 10 or x > 20)\n",
    "print(\"Is x not equal to 15?\", not (x == 15))"
   ]
  },
  {
   "cell_type": "markdown",
   "metadata": {},
   "source": [
    "## Adding Text Styles Using Markdown\n",
    "You can style text in Markdown using:\n",
    "- **Headings:** `#`, `##`, `###` for levels 1, 2, 3\n",
    "- **Bold:** `**text**`\n",
    "- *Italics:* `*text*`\n",
    "- `Code`: `` `code` ``\n",
    "- **Lists:**\n",
    "  - Unordered: `-` or `*`\n",
    "  - Ordered: `1.`, `2.`\n",
    "- **Hyperlinks:** `[link text](URL)`\n",
    "- **Images:** `![alt text](image_url)`"
   ]
  },
  {
   "cell_type": "markdown",
   "metadata": {},
   "source": [
    "# Happy Learning😊"
   ]
  }
 ],
 "metadata": {
  "kernelspec": {
   "display_name": "base",
   "language": "python",
   "name": "python3"
  },
  "language_info": {
   "codemirror_mode": {
    "name": "ipython",
    "version": 3
   },
   "file_extension": ".py",
   "mimetype": "text/x-python",
   "name": "python",
   "nbconvert_exporter": "python",
   "pygments_lexer": "ipython3",
   "version": "3.12.4"
  }
 },
 "nbformat": 4,
 "nbformat_minor": 4
}
